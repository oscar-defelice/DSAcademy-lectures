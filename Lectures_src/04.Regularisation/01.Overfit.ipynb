{
 "cells": [
  {
   "cell_type": "markdown",
   "metadata": {},
   "source": [
    "# Introduction to Data Science and Machine Learning\n",
    "\n",
    "<p align=\"center\">\n",
    "    <img width=\"699\" alt=\"image\" src=\"https://user-images.githubusercontent.com/49638680/159042792-8510fbd1-c4ac-4a48-8320-bc6c1a49cdae.png\">\n",
    "</p>\n",
    "\n",
    "---\n",
    "\n",
    "## Model issues\n",
    "\n",
    "In this lecture we start to describe the main possible issues with machine learning models.\n",
    "\n",
    "Let's start by revising an example with a _polynomial regression_.\n",
    "\n",
    "Consider the problem of predicting $y \\in \\mathbb{R}$ from $x \\in \\mathbb{R}$.\n",
    "\n",
    "Consider the set of fits below. \n",
    "\n",
    "<p align=\"center\">\n",
    "    <img width=\"951\" alt=\"image\" src=\"https://user-images.githubusercontent.com/49638680/162145915-a5201fce-fa50-4944-8baf-295a1abb92ac.png\">\n",
    "</p>\n",
    "\n",
    "The yellow one shows the result of a linear fitting $y = \\beta_0 + \\beta_1 x$.\n",
    "\n",
    "One can see by looking at point positions, this is not a good fit.\n",
    "\n",
    "If we add an extra feature, $x^2$, hence the fit is $y = \\beta_0 + \\beta_1 x + \\beta_2 x^2$, we obtain a slightly better fit. \n",
    "Naively, one can think that the more features one adds the better fit one gets. However, despite how seducing is the idea, this is actually dangerous. The red fit in the picture is the result of a $7$-rank polynomial $y = \\sum_k \\beta_k x^k$. \n",
    "We see that even though the fitted curve passes through the data perfectly, we would not expect this to be a very good predictor of, say, housing prices.\n",
    "\n",
    "\n",
    "### Import libraries"
   ]
  },
  {
   "cell_type": "code",
   "execution_count": 1,
   "metadata": {},
   "outputs": [],
   "source": [
    "# Import libraries we will need in the following\n",
    "import pandas as pd\n",
    "import numpy as np\n",
    "import scipy.io as sio\n",
    "\n",
    "import matplotlib.pyplot as plt\n",
    "\n",
    "from sklearn import datasets\n",
    "from sklearn.model_selection import train_test_split\n",
    "from sklearn.linear_model import LinearRegression, LogisticRegression\n",
    "from sklearn.preprocessing import PolynomialFeatures\n",
    "\n",
    "# set plot size\n",
    "plt.rcParams['figure.figsize'] = (20, 13)\n",
    "%matplotlib inline\n",
    "%config InlineBackend.figure_format = \"retina\""
   ]
  }
 ],
 "metadata": {
  "interpreter": {
   "hash": "258d6f942e9abff99338ee3ea05bb7abc0fd3eb4d49f988f84979247168b5568"
  },
  "kernelspec": {
   "display_name": "Python 3.8.0 ('lectures')",
   "language": "python",
   "name": "python3"
  },
  "language_info": {
   "codemirror_mode": {
    "name": "ipython",
    "version": 3
   },
   "file_extension": ".py",
   "mimetype": "text/x-python",
   "name": "python",
   "nbconvert_exporter": "python",
   "pygments_lexer": "ipython3",
   "version": "3.8.0"
  },
  "orig_nbformat": 4
 },
 "nbformat": 4,
 "nbformat_minor": 2
}
