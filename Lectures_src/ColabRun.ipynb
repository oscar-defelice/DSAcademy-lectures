{
  "cells": [
    {
      "cell_type": "markdown",
      "metadata": {
        "id": "view-in-github",
        "colab_type": "text"
      },
      "source": [
        "<a href=\"https://colab.research.google.com/github/oscar-defelice/DSAcademy-lectures/blob/master/ColabRun.ipynb\" target=\"_parent\"><img src=\"https://colab.research.google.com/assets/colab-badge.svg\" alt=\"Open In Colab\"/></a>"
      ]
    },
    {
      "cell_type": "markdown",
      "metadata": {
        "id": "4WNHKXi1YixH"
      },
      "source": [
        "# Installation Instructions"
      ]
    },
    {
      "cell_type": "code",
      "execution_count": 1,
      "metadata": {
        "id": "8oL_dwq1YixH",
        "colab": {
          "base_uri": "https://localhost:8080/"
        },
        "outputId": "2920550a-722f-4949-b8b8-1b57fa43da94"
      },
      "outputs": [
        {
          "output_type": "stream",
          "name": "stdout",
          "text": [
            "Cloning into 'DSAcademy-lectures'...\n",
            "remote: Enumerating objects: 1909, done.\u001b[K\n",
            "remote: Counting objects: 100% (173/173), done.\u001b[K\n",
            "remote: Compressing objects: 100% (112/112), done.\u001b[K\n",
            "remote: Total 1909 (delta 65), reused 162 (delta 57), pack-reused 1736\u001b[K\n",
            "Receiving objects: 100% (1909/1909), 553.20 MiB | 23.72 MiB/s, done.\n",
            "Resolving deltas: 100% (770/770), done.\n",
            "Updating files: 100% (387/387), done.\n"
          ]
        }
      ],
      "source": [
        "# Git pull the codes from github to your colab machine\n",
        "# You will have this message:\n",
        "    # Warning: This notebook was not authored by Google.\n",
        "        # Click RUN ANYWAY\n",
        "!git clone https://github.com/oscar-defelice/DSAcademy-lectures.git"
      ]
    },
    {
      "cell_type": "code",
      "execution_count": null,
      "metadata": {
        "id": "vXVg8tSpYixI"
      },
      "outputs": [],
      "source": [
        "# Mount Google Drive to the colab machine\n",
        "# You will have this message:\n",
        "    # Go to this URL in a browser: ---\n",
        "        # Follow the URL, sign-in to Google login\n",
        "        # ALLOW google drive to access to your google account\n",
        "        # Copy-paste the code to the notebook\n",
        "            # Enter your authorization code: ---\n",
        "from google.colab import drive\n",
        "drive.mount('/content/gdrive')\n",
        "\n",
        "# Copy github folder from colab machine to your google drive\n",
        "!cp -R /content/DSAcademy-lectures /content/gdrive/My\\ Drive/DSAcademy-lectures\n",
        "!rm -R /content/DSAcademy-lectures"
      ]
    },
    {
      "cell_type": "code",
      "source": [
        "# Install requirements\n",
        "! pip install -r /content/gdrive/My\\ Drive/DSAcademy-lectures/requirements.txt"
      ],
      "metadata": {
        "id": "tZrpCHHnzug-"
      },
      "execution_count": null,
      "outputs": []
    },
    {
      "cell_type": "code",
      "execution_count": null,
      "metadata": {
        "id": "2t5QLwE7YixI"
      },
      "outputs": [],
      "source": [
        "# Installation is done.\n",
        "# You can close this notebook."
      ]
    }
  ],
  "metadata": {
    "kernelspec": {
      "display_name": "Python 3",
      "language": "python",
      "name": "python3"
    },
    "language_info": {
      "codemirror_mode": {
        "name": "ipython",
        "version": 3
      },
      "file_extension": ".py",
      "mimetype": "text/x-python",
      "name": "python",
      "nbconvert_exporter": "python",
      "pygments_lexer": "ipython3",
      "version": "3.7.4"
    },
    "colab": {
      "provenance": [],
      "include_colab_link": true
    }
  },
  "nbformat": 4,
  "nbformat_minor": 0
}