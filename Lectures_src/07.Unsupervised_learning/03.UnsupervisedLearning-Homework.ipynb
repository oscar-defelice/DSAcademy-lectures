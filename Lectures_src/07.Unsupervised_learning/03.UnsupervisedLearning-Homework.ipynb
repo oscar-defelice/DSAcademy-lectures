{
 "cells": [
  {
   "cell_type": "markdown",
   "metadata": {},
   "source": [
    "# Introduction to Data Science and Machine Learning\n",
    "\n",
    "<p align=\"center\">\n",
    "    <img width=\"699\" alt=\"image\" src=\"https://user-images.githubusercontent.com/49638680/159042792-8510fbd1-c4ac-4a48-8320-bc6c1a49cdae.png\">\n",
    "</p>\n",
    "\n",
    "---\n",
    "\n",
    "### Import libraries"
   ]
  },
  {
   "cell_type": "code",
   "execution_count": null,
   "metadata": {},
   "outputs": [],
   "source": [
    "# Import libraries\n",
    "import pandas as pd\n",
    "import numpy as np\n",
    "import copy\n",
    "\n",
    "import matplotlib.pyplot as plt\n",
    "import matplotlib.cm as cm\n",
    "\n",
    "from sklearn import datasets\n",
    "from sklearn.cluster import KMeans, SpectralClustering, MiniBatchKMeans\n",
    "from sklearn.metrics import silhouette_samples, silhouette_score, accuracy_score, confusion_matrix\n",
    "from sklearn.utils.multiclass import unique_labels\n",
    "\n",
    "# set plot size\n",
    "plt.rcParams['figure.figsize'] = (20, 13)\n",
    "%matplotlib inline\n",
    "%config InlineBackend.figure_format = \"retina\""
   ]
  },
  {
   "cell_type": "markdown",
   "metadata": {},
   "source": [
    "## Exercises\n",
    "\n",
    "### Exercise 1\n",
    "\n",
    "Apply silhouette analysis to [this dataset](https://raw.githubusercontent.com/andreduong-zz/credit-card-clustering/master/CC%20GENERAL.csv) and use your result to solve the following exercise.\n",
    "\n",
    "> Develop a _customer segmentation_ to define marketing strategy. The sample Dataset summarises the usage behaviour of about $9000$ active credit card holders during the last $6$ months. The file is at a customer level with $18$ behavioural variables.\n"
   ]
  },
  {
   "cell_type": "code",
   "execution_count": null,
   "metadata": {},
   "outputs": [],
   "source": [
    "file = 'https://raw.githubusercontent.com/andreduong-zz/credit-card-clustering/master/CC%20GENERAL.csv'\n",
    "df = pd.read_csv(file)\n",
    "\n",
    "df.head()"
   ]
  },
  {
   "cell_type": "markdown",
   "metadata": {},
   "source": [
    "### Exercise 2\n",
    "Try to apply $k$-means to digits dataset.\n",
    "\n",
    "The aim of the exercise is to identify similar digits without using the original label information. \n",
    "You can thin to this as similar to a first step in extracting meaning from a new dataset about which you do not have any _a priori_ label information.\n",
    "\n",
    "Recall that the digits consist of $1797$ samples with $64$ features, where each of the $64$ features is the brightness of one pixel in an $8\\times8$ image.\n",
    "\n",
    "The result should be $10$ clusters in $64$ dimensions. \n",
    "Notice that the cluster centroids themselves are $64$-dimensional points, and can themselves be interpreted as the \"typical\" digit within the cluster. \n",
    "\n",
    "Write a code to plot what these cluster centers look like.\n",
    "\n",
    "__Hint__: even if you are in an unsupervised context, you actually have labels, use theme to measure yur algorithm performance.\n",
    "\n",
    "\n",
    "### Exercise 3\n",
    "\n",
    "Use the [Mall Customer dataset](https://www.kaggle.com/vjchoudhary7/customer-segmentation-tutorial-in-python) and cluster them in spending groups, that is groups with somehow homogeneous _spending scores_.\n",
    "\n",
    "The exercise should contain $5$ steps:\n",
    "\n",
    "1. Problem statement\n",
    "2. Data Analysis\n",
    "3. Data processing\n",
    "4. The clustering algorithm and related choices\n",
    "    -  Clustering plots\n",
    "5. Takeaways\n",
    "\n",
    "__BONUS__: An appropriate EDA and nice data visualisation."
   ]
  }
 ],
 "metadata": {
  "language_info": {
   "name": "python"
  },
  "orig_nbformat": 4
 },
 "nbformat": 4,
 "nbformat_minor": 2
}
