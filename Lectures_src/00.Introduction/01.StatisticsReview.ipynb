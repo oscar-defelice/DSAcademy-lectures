{
 "cells": [
  {
   "cell_type": "markdown",
   "metadata": {},
   "source": [
    "# Introduction to Data Science and Machine Learning\n",
    "\n",
    "<p align=\"center\">\n",
    "    <img width=\"699\" alt=\"image\" src=\"https://user-images.githubusercontent.com/49638680/159042792-8510fbd1-c4ac-4a48-8320-bc6c1a49cdae.png\">\n",
    "</p>\n",
    "\n",
    "Here we present a brief introduction to **machine learning**.\n",
    "\n",
    "To start, we give a definition of machine learning\n",
    "\n",
    "> __Well-posed Learning Problem__: A computer program is said to _learn_ from experience $E$ with respect to some task $T$ and some performance measure $P$, if its performance on $T$, as measured by $P$, improves with experience $E$.\n",
    "\n",
    "In other words, we say a computer learns to perform a task thanks to the experience.\n",
    "\n",
    "Suppose your email program watches which emails you do or do not mark as spam, and based on that learns how to better filter spam. What is the task $T$ in this setting?\n",
    "\n",
    "* Classifying emails as spam or not spam.\n",
    "* Watching you label emails as spam or not spam.\n",
    "* The number (or fraction) of emails correctly classified as spam/not spam.\n",
    "* None of the above—this is not a machine learning problem.\n",
    "\n",
    "## Machine Learning algoritms\n",
    "\n",
    "Machine Learning algorithm can be split in two big classes:\n",
    "\n",
    "1. Supervised learning\n",
    "2. Unsupervised learning\n",
    "\n",
    "There are others (reinforcement learning, quantum machine learning, etc.), but in our discussion they can be considered marginal.\n",
    "\n",
    "### Supervised Learning\n",
    "\n",
    "__(Classic) Example__: Housing price prediction\n",
    "\n",
    "![title](https://www.researchgate.net/profile/Ahmad_Al_Musawi/publication/323108787/figure/fig4/AS:592692094455810@1518320215663/Housing-price-prediction.png)\n",
    "\n",
    "\n",
    "We want to say how much will cost a house sized - for instance - $750 \\mathrm{ft}^2$. \n",
    "\n",
    "We have at our disposal, the __right answers__ (_i.e._ the prices) for several data points, from this we perform a so-called _regression_ (_i.e._ the prediction of continuos outputs).\n",
    "The presence of __right answers__ or __labels__ in our dataset makes this a supervised learning algorithm.\n",
    "\n",
    "### Unsupervised Learning\n",
    "\n",
    "![title](https://lakshaysuri.files.wordpress.com/2017/03/sup-vs-unsup.png?w=648)\n",
    "\n",
    "The main difference between supervised and unsupervised learning is the presence (or absence) of labels to datasets.\n",
    "The most important example of unsupervised learning algorithm are the clustering algorithms, trying to classify and group data in clusters.\n",
    "\n",
    "Of the following examples, which would you address using an unsupervised learning algorithm?\n",
    "\n",
    "1. Given email labeled as spam/not spam, learn a spam filter.\n",
    "2. Given a set of news articles found on the web, group them into set of articles about the same story.\n",
    "3. Given a database of customer data, automatically discover market segments and group customers into different market segments.\n",
    "4. Given a dataset of patients diagnosed as either having diabetes or not, learn to classify new patients as having diabetes or not.\n",
    "\n",
    "\n",
    "### Classification and Regression problems\n",
    "\n",
    "Supervised machine learning algorithms can be split into two groups based on the type of target variable that they can predict:\n",
    "\n",
    "1. **Classification** is a prediction task with a categorical target variable. Classification models learn how to classify any new observation. This assigned class can be either right or wrong, not in between. A classic example of classification is the iris dataset, in which you use physical measurements of plants to predict their species. A famous algorithm that can be used for classification is logistic regression.\n",
    "\n",
    "2. **Regression** is a prediction task in which the target variable is numeric. A famous example of regression is the Housing Prices problem we have mentioned above. In this machine learning contest, one tries to predict the sales prices of houses based on numerous independent variables.\n",
    "\n",
    "In the following graphic, you can see what a regression and a classification would look like using the previous example:\n",
    "\n",
    "<p align=\"center\">\n",
    "    <img width=\"699\" alt=\"image\" src=\"https://files.realpython.com/media/knn_06_MLclassificationregression.6029d11323aa.png\">\n",
    "</p>\n",
    "\n",
    "The left part of this image is a classification. The target variable is the shape of the observation, which is a categorical variable. The right part is a regression. The target variable is numeric. The decision rules could be exactly the same for the two examples, but their interpretations are different.\n",
    "\n",
    "For a single prediction, classifications are either right or wrong, while regressions have an error on a continuous scale. Having a numeric error measure is more practical, so many classification models predict not only the class but also the probability of being in either of the classes."
   ]
  },
  {
   "cell_type": "code",
   "execution_count": 1,
   "metadata": {},
   "outputs": [
    {
     "data": {
      "text/html": [
       "\n",
       "        <iframe\n",
       "            width=\"990\"\n",
       "            height=\"720\"\n",
       "            src=\"https://prezi.com/view/P0IKLSeFVsCTMMkmhMZk/embed\"\n",
       "            frameborder=\"0\"\n",
       "            allowfullscreen\n",
       "            frameborder='1'\n",
       "        ></iframe>\n",
       "        "
      ],
      "text/plain": [
       "<IPython.lib.display.IFrame at 0x7ff2d9367a60>"
      ]
     },
     "execution_count": 1,
     "metadata": {},
     "output_type": "execute_result"
    }
   ],
   "source": [
    "from IPython.display import IFrame, HTML\n",
    "\n",
    "IFrame(src='https://prezi.com/view/P0IKLSeFVsCTMMkmhMZk/embed', width='990', height='720', extras=[\"frameborder='1'\", ])\n",
    "\n",
    "#HTML('<iframe width=\"990\" height=\"720\" src=\"https://prezi.com/view/P0IKLSeFVsCTMMkmhMZk/embed\" frameborder=\"0\" allowfullscreen></iframe>')"
   ]
  },
  {
   "cell_type": "markdown",
   "metadata": {},
   "source": [
    "---\n",
    "\n",
    "## Few Concepts of Statistics\n",
    "\n",
    "The aim of this section (with no surprise) is to introduce the basic concepts of statistics.\n",
    "In particular we are going to focus very rapidly on the basics (random variables, distributions, etc.), applying the hopefully previous knowledge to some exercise, then we move forward to the theoretical basis of machine learning, _i.e._ Statistical inference.\n",
    "\n",
    "Hence, we can summmarise the content of this section,\n",
    "\n",
    "* Basics\n",
    " - Probability measure\n",
    " - Random variables\n",
    " - Distributions\n",
    " - Mean, median, variance\n",
    "* Relations between quantities\n",
    " - Correlation\n",
    " - Linear regression\n",
    " - General laws of regression\n",
    "* Statistical inference\n",
    " - Bayesian inference\n",
    " - Frequentist inference\n",
    "\n",
    "### Basics\n",
    "\n",
    "Just to start we give a definition of __statistics__.\n",
    "\n",
    "> Statistics is the discipline that concerns the collection, organization, displaying, analysis, interpretation and presentation of data.\n",
    "\n",
    "In applying statistics to some context, it is conventional to begin with a so-called _statistical population_ or a _statistical model_ to be studied.\n",
    "\n",
    "_e.g._ We want to study among all people in this class, how many are blonde.\n",
    "\n",
    "Two main statistical methods are used in data analysis: __descriptive statistics__, which summarise data from a sample using indexes such as the _mean_ or _standard deviation_, and __inferential statistics__, which draw conclusions from data that are subject to random variation (e.g., observational errors, sampling variation). We will focus on the latter, however, we are going to give a brief description of few useful concepts of the former. \n",
    "\n",
    "Descriptive statistics are most often concerned with two sets of properties of a distribution (sample or population): central tendency (or location) seeks to characterize the distribution's central or typical value, while dispersion (or variability) characterizes the extent to which members of the distribution depart from its center and each other. Inferences on mathematical statistics are made under the framework of probability theory, which deals with the analysis of random phenomena."
   ]
  },
  {
   "cell_type": "code",
   "execution_count": 5,
   "metadata": {},
   "outputs": [
    {
     "data": {
      "text/html": [
       "<iframe id=\"iframe_container\" frameborder=\"0\" webkitallowfullscreen=\"\" mozallowfullscreen=\"\" allowfullscreen=\"\" allow=\"autoplay; fullscreen\" width=\"990\" height=\"720\" src=\"https://prezi.com/embed/xxw5tb6fueqc/?bgcolor=ffffff&amp;lock_to_path=0&amp;autoplay=0&amp;autohide_ctrls=0&amp;landing_data=bHVZZmNaNDBIWnNjdEVENDRhZDFNZGNIUE43MHdLNWpsdFJLb2ZHanI0aTBIeXpGSk1KTXRDSzFJaEZYRE00Sm1BPT0&amp;landing_sign=ms2nKGTS6hwcZtfKj95YmDIqIYsvddwELYxwjm03060\"></iframe>"
      ],
      "text/plain": [
       "<IPython.core.display.HTML object>"
      ]
     },
     "execution_count": 5,
     "metadata": {},
     "output_type": "execute_result"
    }
   ],
   "source": [
    "HTML('<iframe id=\"iframe_container\" frameborder=\"0\" webkitallowfullscreen=\"\" mozallowfullscreen=\"\" allowfullscreen=\"\" allow=\"autoplay; fullscreen\" width=\"990\" height=\"720\" src=\"https://prezi.com/embed/xxw5tb6fueqc/?bgcolor=ffffff&amp;lock_to_path=0&amp;autoplay=0&amp;autohide_ctrls=0&amp;landing_data=bHVZZmNaNDBIWnNjdEVENDRhZDFNZGNIUE43MHdLNWpsdFJLb2ZHanI0aTBIeXpGSk1KTXRDSzFJaEZYRE00Sm1BPT0&amp;landing_sign=ms2nKGTS6hwcZtfKj95YmDIqIYsvddwELYxwjm03060\"></iframe>')"
   ]
  },
  {
   "cell_type": "markdown",
   "metadata": {},
   "source": [
    "### Statistical Inference\n",
    "\n",
    "Statistical inference is the process of using data analysis to deduce properties of an underlying probability distribution. Inferential statistical analysis infers properties of a population, for example by testing hypotheses and deriving estimates. It is assumed that the observed data set is sampled from a larger population.\n",
    "\n",
    "Statistical inference makes propositions about a population, using data drawn from the population with some form of sampling. Given a hypothesis about a population, for which we wish to draw inferences, statistical inference consists of (first) selecting a statistical model of the process that generates the data and (second) deducing propositions from the model.\n",
    "\n",
    "#### Hypothesis function\n",
    "\n",
    "An hypothesis function is a mathematical map \n",
    "\n",
    "$$  \\begin{split} h_\\beta:  &\\ \\Omega \\longrightarrow V \\\\\n",
    "                            &\\ x \\longmapsto y \n",
    "    \\end{split} $$\n",
    "\n",
    "mapping each element in the population $x$ in one value in some space (defined by the task) element $y$. The function $h_\\beta$ depends on parameters $\\beta$, whose estimate is the principal aim of statistical inference.\n",
    "\n",
    "#### Example\n",
    "\n",
    "With inferential statistics you take that sample data from a small number of people and and try to determine if the data can predict whether the drug will work for everyone (i.e. the population). There are various ways you can do this, from calculating a z-score (z-scores are a way to show where your data would lie in a normal distribution) to post-hoc (advanced) testing.\n",
    "\n",
    "Let's say we want to know the cost of a house. We can make use of inferential statistics in this way: we take data from estate agencies prices. We calculate the average cost per meter squared in the area of our interest. Hence, knowing the size of the house we want, we can get an estimation of its cost.\n",
    "\n",
    "![title](../images/inference.gif)\n",
    "\n",
    "\n",
    "##### Further readings\n",
    "\n",
    "[This article](https://statisticsbyjim.com/basics/descriptive-inferential-statistics/) contains instructive examples of inferential and descriptive statistics."
   ]
  }
 ],
 "metadata": {
  "interpreter": {
   "hash": "258d6f942e9abff99338ee3ea05bb7abc0fd3eb4d49f988f84979247168b5568"
  },
  "kernelspec": {
   "display_name": "Python 3.8.0 ('lectures')",
   "language": "python",
   "name": "python3"
  },
  "language_info": {
   "codemirror_mode": {
    "name": "ipython",
    "version": 3
   },
   "file_extension": ".py",
   "mimetype": "text/x-python",
   "name": "python",
   "nbconvert_exporter": "python",
   "pygments_lexer": "ipython3",
   "version": "3.8.0"
  },
  "orig_nbformat": 4
 },
 "nbformat": 4,
 "nbformat_minor": 2
}
