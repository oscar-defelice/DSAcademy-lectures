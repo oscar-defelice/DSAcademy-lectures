{
 "cells": [
  {
   "cell_type": "markdown",
   "metadata": {},
   "source": [
    "# Introduction to Data Science and Machine Learning\n",
    "\n",
    "<p align=\"center\">\n",
    "    <img width=\"699\" alt=\"image\" src=\"https://user-images.githubusercontent.com/49638680/159042792-8510fbd1-c4ac-4a48-8320-bc6c1a49cdae.png\">\n",
    "</p>\n",
    "\n",
    "---\n",
    "\n",
    "## KNN and Linear regression - Homework\n",
    "\n",
    "Here a couple of exercises to better fix in your mind the working schemas of KNN and Linear Regression algorithms.\n",
    "\n",
    "### KNN\n",
    "\n",
    "#### Exercise 1\n",
    "\n",
    "> Use $k$NN just implemented to solve a classification problem. (_e.g._ the notorious Iris classification problem).\n",
    "\n",
    "##### Import data"
   ]
  },
  {
   "cell_type": "code",
   "execution_count": 12,
   "metadata": {},
   "outputs": [
    {
     "name": "stdout",
     "output_type": "stream",
     "text": [
      "Dataset is made by 150 data, whose first 5 lines are \n",
      " [[5.1 3.5 1.4 0.2]\n",
      " [4.9 3.  1.4 0.2]\n",
      " [4.7 3.2 1.3 0.2]\n",
      " [4.6 3.1 1.5 0.2]\n",
      " [5.  3.6 1.4 0.2]] \n",
      " \n",
      "Target vector is 150-long, and targets names are \n",
      " ['setosa' 'versicolor' 'virginica']\n"
     ]
    }
   ],
   "source": [
    "# I imported data for you. Your are welcome! 🙂\n",
    "import pandas as pd\n",
    "import numpy as np\n",
    "\n",
    "from sklearn.datasets import load_iris\n",
    "\n",
    "data = load_iris()\n",
    "\n",
    "X = data['data']\n",
    "y = data['target']\n",
    "\n",
    "print(f\"Dataset is made by {len(X)} data, whose first 5 lines are \\n {X[:5]} \\n \")\n",
    "print(f\"Target vector is {len(y)}-long, and targets names are \\n {data['target_names']}\")"
   ]
  },
  {
   "cell_type": "markdown",
   "metadata": {},
   "source": [
    "#### Exercise 2\n",
    "\n",
    "> Apply $k$NN to the [wave energy outputs regression problem](https://archive.ics.uci.edu/ml/datasets/Wave+Energy+Converters#) with a big dataset. Use different metrics and compare numerical performances.\n",
    "\n",
    "### Linear Regression\n",
    "\n",
    "#### Exercise 1\n",
    "\n",
    "Is there a relationship between water salinity & water temperature? Can you predict the water temperature based on salinity? \n",
    "\n",
    "1. Using data contained in this [csv](https://www.kaggle.com/sohier/calcofi#bottle.csv) try to give an answer to this question.\n",
    "\n",
    "2. Knowing that we have to find the _minimun_ of the cost function with respect to $\\beta$ and that $ \\partial_\\beta J(\\beta) = 0 $ is an equation in $\\beta$. Use linear algebra to find the right coefficients $\\beta$ without any loop calculation.\n",
    "\n",
    "3. Use the equation found above to (re-)calculate $\\beta$ and compare with the gradient descent and `sklearn` results.\n",
    "\n",
    "_Hint for point 2._ Recall that one may use matrix notation to write\n",
    "$$ \\partial_\\beta J(\\beta) = X^t(X\\beta - y) $$\n",
    "\n",
    "#### Exercise 2\n",
    "\n",
    "For example, we want to study the trend of fuel consumption as a function of the engine capacity, we can collect our measures in a table like the following.\n",
    "\n",
    "| Engine capacity (cm$^3$) | Average Consumption (l/100km) |\n",
    "|---|----|\n",
    "| $800$  |  $6$    | \n",
    "| $1000$ |  $7.5$  | \n",
    "| $1100$ |  $8$    | \n",
    "| $1200$ |  $8.7$  | \n",
    "| $1600$ |  $12.4$ | \n",
    "| $2000$ |  $16$   | \n",
    "| $3000$ |  $20$   | \n",
    "| $4500$ |  $28$   | \n",
    "\n",
    "Apply linear regression to find the average consumption of an engine with `test_capacity = 1800`.\n",
    "\n",
    "Use both `sklearn` library and your defined functions and compare the results.\n",
    "\n",
    "_Hint for data conversion._ Recall that one may use pandas and python dictionaries to create dataframes.\n",
    "\n",
    "```python\n",
    "measures = pd.DataFrame({'Consumption_avg': [6, 7.5, 8, 8.7, 12.4, 16, 20, 28], \n",
    "                         'Capacity': [800, 1000, 1100, 1200, 1600, 2000, 3000, 4500]})\n",
    "```"
   ]
  },
  {
   "cell_type": "markdown",
   "metadata": {},
   "source": []
  }
 ],
 "metadata": {
  "interpreter": {
   "hash": "d3051155f95ec0b2f03c395792e71f24ce66b8e9cbff5842e4ad4e3f561a0348"
  },
  "kernelspec": {
   "display_name": "Python 3.9.2 ('base')",
   "language": "python",
   "name": "python3"
  },
  "language_info": {
   "codemirror_mode": {
    "name": "ipython",
    "version": 3
   },
   "file_extension": ".py",
   "mimetype": "text/x-python",
   "name": "python",
   "nbconvert_exporter": "python",
   "pygments_lexer": "ipython3",
   "version": "3.8.0"
  },
  "orig_nbformat": 4
 },
 "nbformat": 4,
 "nbformat_minor": 2
}
