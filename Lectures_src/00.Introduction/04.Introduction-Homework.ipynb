{
 "cells": [
  {
   "cell_type": "markdown",
   "metadata": {},
   "source": [
    "# Introduction to Data Science and Machine Learning\n",
    "\n",
    "<p align=\"center\">\n",
    "    <img width=\"699\" alt=\"image\" src=\"https://user-images.githubusercontent.com/49638680/159042792-8510fbd1-c4ac-4a48-8320-bc6c1a49cdae.png\">\n",
    "</p>\n",
    "\n",
    "---\n",
    "\n",
    "## KNN and Linear regression - Homework\n",
    "\n",
    "Here a couple of exercises to better fix in your mind the working schemas of KNN and Linear Regression algorithms.\n",
    "\n",
    "### KNN\n",
    "\n",
    "#### Exercise 1\n",
    "\n",
    "> Use $k$NN just implemented to solve a classification problem. (_e.g._ the notorious Iris classification problem).\n",
    "\n",
    "##### Import data"
   ]
  },
  {
   "cell_type": "code",
   "execution_count": 1,
   "metadata": {},
   "outputs": [
    {
     "name": "stdout",
     "output_type": "stream",
     "text": [
      "Dataset is made by 150 data, whose first 5 lines are \n",
      " [[5.1 3.5 1.4 0.2]\n",
      " [4.9 3.  1.4 0.2]\n",
      " [4.7 3.2 1.3 0.2]\n",
      " [4.6 3.1 1.5 0.2]\n",
      " [5.  3.6 1.4 0.2]] \n",
      " \n",
      "Target vector is 150-long, and targets names are \n",
      " ['setosa' 'versicolor' 'virginica']\n"
     ]
    }
   ],
   "source": [
    "# I imported data for you. Your are welcome! 🙂\n",
    "import pandas as pd\n",
    "import numpy as np\n",
    "\n",
    "from sklearn.datasets import load_iris\n",
    "\n",
    "data = load_iris()\n",
    "\n",
    "X = data['data']\n",
    "y = data['target']\n",
    "\n",
    "print(f\"Dataset is made by {len(X)} data, whose first 5 lines are \\n {X[:5]} \\n \")\n",
    "print(f\"Target vector is {len(y)}-long, and targets names are \\n {data['target_names']}\")"
   ]
  },
  {
   "cell_type": "markdown",
   "metadata": {},
   "source": [
    "#### Exercise 2\n",
    "\n",
    "> Apply $k$NN to the [wave energy outputs regression problem](https://archive.ics.uci.edu/ml/datasets/Wave+Energy+Converters#) with a big dataset. Use different metrics and compare numerical performances."
   ]
  }
 ],
 "metadata": {
  "interpreter": {
   "hash": "d3051155f95ec0b2f03c395792e71f24ce66b8e9cbff5842e4ad4e3f561a0348"
  },
  "kernelspec": {
   "display_name": "Python 3",
   "language": "python",
   "name": "python3"
  },
  "language_info": {
   "codemirror_mode": {
    "name": "ipython",
    "version": 3
   },
   "file_extension": ".py",
   "mimetype": "text/x-python",
   "name": "python",
   "nbconvert_exporter": "python",
   "pygments_lexer": "ipython3",
   "version": "3.7.0"
  }
 },
 "nbformat": 4,
 "nbformat_minor": 4
}
