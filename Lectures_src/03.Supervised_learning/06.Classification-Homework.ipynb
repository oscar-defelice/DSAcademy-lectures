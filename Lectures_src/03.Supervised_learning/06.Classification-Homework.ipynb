{
 "cells": [
  {
   "cell_type": "markdown",
   "metadata": {},
   "source": [
    "# Introduction to Data Science and Machine Learning\n",
    "\n",
    "<p align=\"center\">\n",
    "    <img width=\"699\" alt=\"image\" src=\"https://user-images.githubusercontent.com/49638680/159042792-8510fbd1-c4ac-4a48-8320-bc6c1a49cdae.png\">\n",
    "</p>\n",
    "\n",
    "---\n",
    "\n",
    "## Exercises\n",
    "\n",
    "### Exercise - Classification\n",
    "\n",
    "In this exercise, you will build a classification model to predict whether a student gets admitted into a university. Use the dataset in `datasets/students.txt`.\n",
    "\n",
    "Suppose that you are the administrator of a university department and you want to determine each applicant’s chance of admission based on their results on two exams. You have historical data from previous applicants that you can use as a training set for logistic regression or decision tree. For each training example, you have the applicant’s scores on two exams and the admissions decision.\n",
    "\n",
    "Your task is to build a classification model that estimates an applicant’s probability of admission based the scores from those two exams.\n",
    "\n",
    "1. Perform an exploratory data analysis and if necessary takes decision about feature scaling and encoding.\n",
    "2. Build the model using both logistic regression and decision tree and compare results on the test set.\n",
    "3. Plot confusion matrices of your models. Which one performs better on true positives? and which one on true negatives?\n",
    "4. Plot the dataset and decision boundaries for both the models, how do these boundaries change?"
   ]
  }
 ],
 "metadata": {
  "language_info": {
   "name": "python"
  },
  "orig_nbformat": 4
 },
 "nbformat": 4,
 "nbformat_minor": 2
}
