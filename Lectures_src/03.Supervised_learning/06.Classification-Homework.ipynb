{
 "cells": [
  {
   "cell_type": "markdown",
   "metadata": {},
   "source": [
    "# Introduction to Data Science and Machine Learning\n",
    "\n",
    "<p align=\"center\">\n",
    "    <img width=\"699\" alt=\"image\" src=\"https://user-images.githubusercontent.com/49638680/159042792-8510fbd1-c4ac-4a48-8320-bc6c1a49cdae.png\">\n",
    "</p>\n",
    "\n",
    "---\n",
    "\n",
    "## Exercises\n",
    "\n",
    "### Exercise - Regression\n",
    "\n",
    "Consider the [🍫 diabetes dataset](https://scikit-learn.org/stable/datasets/toy_dataset.html#diabetes-dataset) it contains data with $10$ features and a target value representing a quantitative measure of disease progression one year after baseline. Find the _best_ polynomial fit based on the test score for this dataset.\n",
    "\n",
    "Define the suitable performance metric and justify _all_ your choices.\n",
    "\n",
    "### Exercise - Classification\n",
    "\n",
    "In this exercise, you will build a classification model to predict whether a student gets admitted into a university. Use the dataset in `datasets/students.txt`.\n",
    "\n",
    "Suppose that you are the administrator of a university department and you want to determine each applicant’s chance of admission based on their results on two exams. You have historical data from previous applicants that you can use as a training set for logistic regression or decision tree. For each training example, you have the applicant’s scores on two exams and the admissions decision.\n",
    "\n",
    "Your task is to build a classification model that estimates an applicant’s probability of admission based the scores from those two exams.\n",
    "\n",
    "1. Build the model using both logistic regression and decision tree and compare results on the test set.\n",
    "2. Plot confusion matrices of your models. Which one performs better on true positives? and which one on true negatives?\n",
    "3. Plot the dataset and decision boundaries for both the models, how do these boundaries change?"
   ]
  }
 ],
 "metadata": {
  "language_info": {
   "name": "python"
  },
  "orig_nbformat": 4
 },
 "nbformat": 4,
 "nbformat_minor": 2
}
