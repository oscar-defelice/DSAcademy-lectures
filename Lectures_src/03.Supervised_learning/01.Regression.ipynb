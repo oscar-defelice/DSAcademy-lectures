{
 "cells": [
  {
   "cell_type": "markdown",
   "metadata": {},
   "source": [
    "# Introduction to Data Science and Machine Learning\n",
    "\n",
    "<p align=\"center\">\n",
    "    <img width=\"699\" alt=\"image\" src=\"https://user-images.githubusercontent.com/49638680/159042792-8510fbd1-c4ac-4a48-8320-bc6c1a49cdae.png\">\n",
    "</p>\n",
    "\n",
    "---\n",
    "\n",
    "## Regression problems\n",
    "\n",
    "In general, we talk about __regression__ referring to several statistical methods to search for relationships among variables. \n",
    "Commonly speaking, __regression__ is the procedure allowing us to predict a _continuous_ variable out of a set of features.\n",
    "\n",
    "### Linear regression\n",
    "\n",
    "We have already encountered the problem of building a _regressor_ model and we have seen how to do such a construction both in the case of _kNN regressor_ than in the _linear model_ one.\n",
    "\n",
    "Here, we revise the linear regression as a starting point for more complex cases.\n",
    "\n",
    "<p align=\"center\">\n",
    "    <img width=\"600\" alt=\"image\" src=\"https://user-images.githubusercontent.com/49638680/159125919-9b7e2143-9670-48ed-bbc9-9f6c811290ef.png\">\n",
    "</p>\n",
    "\n",
    "We have seen how [linear regression](https://en.wikipedia.org/wiki/Linear_regression) is a linear approach to determine relationship between two or more quantities.\n",
    "Let's proceed with a different example. We want to study the relation between House price (the target variable), number of bedrooms and size in feet squared.\n",
    "\n",
    "#### Import libraries and data \n",
    "\n",
    "Let’s import necessary libraries, then we import the data into a Pandas dataframe called (with a lack of imagination) `data`. There are $3$ columns in the data set, `Size`, `Bedrooms`, and `Price`."
   ]
  },
  {
   "cell_type": "code",
   "execution_count": 1,
   "metadata": {},
   "outputs": [],
   "source": [
    "# Import libraries\n",
    "import numpy as np\n",
    "import pandas as pd\n",
    "\n",
    "from sklearn.linear_model import LinearRegression\n",
    "\n",
    "import matplotlib.pyplot as plt\n",
    "import seaborn as sns\n",
    "\n",
    "%matplotlib inline\n",
    "%config InlineBackend.figure_format = \"retina\"\n",
    "plt.rcParams['figure.figsize'] = (20.0, 15.0) # set default size of plots"
   ]
  },
  {
   "cell_type": "code",
   "execution_count": 2,
   "metadata": {},
   "outputs": [],
   "source": [
    "# Import data\n",
    "data = pd.read_csv('datasets/data.txt', names=[\"Size\", \"Bedrooms\", \"Price\"])"
   ]
  },
  {
   "cell_type": "code",
   "execution_count": 3,
   "metadata": {},
   "outputs": [
    {
     "data": {
      "text/html": [
       "<div>\n",
       "<style scoped>\n",
       "    .dataframe tbody tr th:only-of-type {\n",
       "        vertical-align: middle;\n",
       "    }\n",
       "\n",
       "    .dataframe tbody tr th {\n",
       "        vertical-align: top;\n",
       "    }\n",
       "\n",
       "    .dataframe thead th {\n",
       "        text-align: right;\n",
       "    }\n",
       "</style>\n",
       "<table border=\"1\" class=\"dataframe\">\n",
       "  <thead>\n",
       "    <tr style=\"text-align: right;\">\n",
       "      <th></th>\n",
       "      <th>Size</th>\n",
       "      <th>Bedrooms</th>\n",
       "      <th>Price</th>\n",
       "    </tr>\n",
       "  </thead>\n",
       "  <tbody>\n",
       "    <tr>\n",
       "      <th>0</th>\n",
       "      <td>2104</td>\n",
       "      <td>3</td>\n",
       "      <td>399900</td>\n",
       "    </tr>\n",
       "    <tr>\n",
       "      <th>1</th>\n",
       "      <td>1600</td>\n",
       "      <td>3</td>\n",
       "      <td>329900</td>\n",
       "    </tr>\n",
       "    <tr>\n",
       "      <th>2</th>\n",
       "      <td>2400</td>\n",
       "      <td>3</td>\n",
       "      <td>369000</td>\n",
       "    </tr>\n",
       "    <tr>\n",
       "      <th>3</th>\n",
       "      <td>1416</td>\n",
       "      <td>2</td>\n",
       "      <td>232000</td>\n",
       "    </tr>\n",
       "    <tr>\n",
       "      <th>4</th>\n",
       "      <td>3000</td>\n",
       "      <td>4</td>\n",
       "      <td>539900</td>\n",
       "    </tr>\n",
       "  </tbody>\n",
       "</table>\n",
       "</div>"
      ],
      "text/plain": [
       "   Size  Bedrooms   Price\n",
       "0  2104         3  399900\n",
       "1  1600         3  329900\n",
       "2  2400         3  369000\n",
       "3  1416         2  232000\n",
       "4  3000         4  539900"
      ]
     },
     "execution_count": 3,
     "metadata": {},
     "output_type": "execute_result"
    }
   ],
   "source": [
    "data.head()"
   ]
  },
  {
   "cell_type": "markdown",
   "metadata": {},
   "source": [
    "Note how this is somehow different with respect to the last linear regression example: it is _multivariate_, that is there is more than one feature.\n",
    "\n",
    "Do not let this scare us! It can be treated in the very same way:\n",
    "\n",
    "Recall that in the case of a linear regression, we look for a _linear_ law of the form,\n",
    "\n",
    "$$ h_\\beta(x) = \\beta_0 + \\beta_1 x_1 + \\beta_2 x_2 + \\ldots \\beta_m x_m\\, . $$\n",
    "\n",
    "Where we denote the _feature vector_ as $\\mathbb{x} = (x_1 \\ldots x_m )$. \n",
    "In our example, the number of features $m = 2$.\n",
    "\n",
    "As usual, $h_\\beta(x)$ is our prediction for the dependent variable $y$.\n",
    "\n",
    "Determining the value of $\\beta$'s is the aim of a machine learning _fit_ procedure.\n",
    "\n",
    "Also in this case, a convenient way to write down the hypothesis is to make use of linear algebra. \n",
    "\n",
    "In order to do so, we need to reshape our data as a matrix $X$, as made of $n$ rows of feature vectors.\n",
    "\n",
    "Hence,\n",
    "\n",
    "$$ X = \\begin{pmatrix} 1      & x^{(1)}_1 & x^{(1)}_2 & \\ldots & x^{(1)}_m \\\\\n",
    "                       1      & x^{(2)}_1 & x^{(2)}_2 & \\ldots & x^{(2)}_m \\\\\n",
    "                       \\ldots & \\ldots    & \\ldots    & \\ldots & \\dots     \\\\ \n",
    "                       1      & x^{(n)}_1 & x^{(n)}_2 & \\ldots & x^{(n)}_m \\end{pmatrix} $$\n",
    "                       \n",
    "and\n",
    "\n",
    "$$ h_\\beta(x) = X \\cdot \\beta = \\begin{pmatrix} 1      & x^{(1)}_1 & x^{(1)}_2 & \\ldots & x^{(1)}_m \\\\\n",
    "                       1      & x^{(2)}_1 & x^{(2)}_2 & \\ldots & x^{(2)}_m \\\\\n",
    "                       \\ldots & \\ldots    & \\ldots    & \\ldots & \\dots     \\\\ \n",
    "                       1      & x^{(n)}_1 & x^{(n)}_2 & \\ldots & x^{(n)}_m \\end{pmatrix} \n",
    "                                \\begin{pmatrix} \\beta_0 \\\\\n",
    "                                                \\beta_1 \\\\ \n",
    "                                                \\ldots  \\\\\n",
    "                                                \\beta_m \\end{pmatrix} \\, . $$\n",
    "                                                \n",
    "\n",
    "In other words, we consider the intercept terms $\\beta_0$ as co-factors of $x^0 \\equiv 1$.\n",
    "\n",
    "In our specific case,\n",
    "\n",
    "$$ h_\\beta(x) = X \\cdot \\beta = \\begin{pmatrix} 1      & x^{(1)}_1 & x^{(1)}_2 \\\\\n",
    "                       1      & x^{(2)}_1 & x^{(2)}_2 \\\\\n",
    "                       \\ldots & \\ldots    & \\ldots    \\\\ \n",
    "                       1      & x^{(n)}_1 & x^{(n)}_2 \\end{pmatrix} \n",
    "                                \\begin{pmatrix} \\beta_0 \\\\\n",
    "                                                \\beta_1 \\\\ \n",
    "                                                \\beta_2 \\end{pmatrix} \\, . $$\n",
    "\n",
    "### Feature scaling\n",
    "\n",
    "Looking at the values in the table above, we see that house sizes are about $1000$ times the number of bedrooms. \n",
    "When features differ by such orders of magnitude, we have seen how feature scaling becomes really important as it helps the gradient descent algorithm to converge faster.\n",
    "\n",
    "We will use the `sklearn` `StandardScaler` to _rescale_ our features. \n",
    "\n"
   ]
  },
  {
   "cell_type": "code",
   "execution_count": 4,
   "metadata": {},
   "outputs": [],
   "source": [
    "def feature_normalise(X, params = None):\n",
    "    \"\"\"\n",
    "    This function takes the features as input and\n",
    "    returns the normalised values, the mean, as well \n",
    "    as the standard deviation for each feature.\n",
    "    \"\"\"\n",
    "    if params is None:\n",
    "        X_norm = (X - np.mean(X))/np.std(X) ## Scaling function.\n",
    "        mu = np.mean(X) ## Define the mean\n",
    "        sigma = np.std(X) ## Define the standard deviation.\n",
    "    else:\n",
    "        mu = params['mu'], \n",
    "        sigma = params[\"sigma\"]\n",
    "        X_norm = (X - mu)/sigma\n",
    "\n",
    "    return X_norm, mu, sigma ## return the values.\n"
   ]
  },
  {
   "cell_type": "markdown",
   "metadata": {},
   "source": [
    "Hence, we assign variables, $x$ is the feature matrix, $y$ the target vector."
   ]
  },
  {
   "cell_type": "code",
   "execution_count": 5,
   "metadata": {},
   "outputs": [],
   "source": [
    "x = data.drop([\"Price\"], axis=1).values\n",
    "y = data[\"Price\"].values\n",
    "\n",
    "# Normalise\n",
    "x, mu, sigma = feature_normalise(x)"
   ]
  },
  {
   "cell_type": "markdown",
   "metadata": {},
   "source": [
    "In the next step, we append the bias term (field containing all ones) to the features $x$. We also reshape the target variable $y$ to a $n \\times 1$ vector, and initialise the coefficients vector (`beta`) to all zeros."
   ]
  },
  {
   "cell_type": "code",
   "execution_count": 6,
   "metadata": {},
   "outputs": [],
   "source": [
    "X = np.ones((len(x), 3))\n",
    "X[:,1:] = x\n",
    "\n",
    "y = np.array(y).reshape(-1,1) ## reshape y to n x 1 array\n",
    "\n",
    "beta = np.zeros([3,1]) ## Initialize beta (the coefficient) to a $1 x 3$ zero vector."
   ]
  },
  {
   "cell_type": "markdown",
   "metadata": {},
   "source": [
    "#### Cost function\n",
    "\n",
    "We have already seen the cost function for linear regression, it is typically the `mse`, _Mean Squared Error_, that is\n",
    "\n",
    "$$J(\\beta) := \\frac{1}{2n} \\sum_i \\left(h_\\beta(x^{(i)}) - y^{(i)} \\right)^2 \\, .$$\n",
    "\n",
    "We also have implemented that in python, let's revise such implementation."
   ]
  },
  {
   "cell_type": "code",
   "execution_count": 7,
   "metadata": {},
   "outputs": [],
   "source": [
    "def compute_cost(X, y, beta):\n",
    "    \"\"\"\n",
    "        (array of float, array of float, array of float) -> float\n",
    "        \n",
    "        :return: the value of squared-difference cost function.\n",
    "    \"\"\"\n",
    "    n = len(y)\n",
    "    cost = np.dot((np.dot(X,beta) - y).T, (np.dot(X,beta) - y))/(2*n) \n",
    "    return cost"
   ]
  },
  {
   "cell_type": "markdown",
   "metadata": {},
   "source": [
    "Note that since the function is well written, with no explicit sum nor for loop, we do not need to modify anything. Our function will take multidimensional inputs with no need of further coding.\n",
    "\n",
    "Let's call the cost function on the initial values of parameters, _i.e._ $\\beta = 0$."
   ]
  },
  {
   "cell_type": "code",
   "execution_count": 8,
   "metadata": {},
   "outputs": [
    {
     "data": {
      "text/plain": [
       "array([[6.55915481e+10]])"
      ]
     },
     "execution_count": 8,
     "metadata": {},
     "output_type": "execute_result"
    }
   ],
   "source": [
    "compute_cost(X, y, beta)"
   ]
  },
  {
   "cell_type": "markdown",
   "metadata": {},
   "source": [
    "#### Gradient Descent\n",
    "\n",
    "We are going to minimise our cost function by updating parameters by gradient descent.\n",
    "\n",
    "$$ \\beta_j = \\beta_j -\\alpha \\frac{1}{n}\\sum_i \\left(h_\\beta(x^{(i)}) - y^{(i)} \\right) x^{(i)}_j\\, .$$\n",
    "\n",
    "We have already implemented Gradient Descent, here we only stress the fact that we need no edit to the previous code."
   ]
  },
  {
   "cell_type": "code",
   "execution_count": 9,
   "metadata": {},
   "outputs": [],
   "source": [
    "# Gradient descent algorithm\n",
    "def gradientDescent(X, y, beta, alpha, max_iterations, cost_thr = 1e-5):\n",
    "    \"\"\"\n",
    "        (array of float, array of float, array of float, float, int, [float]) -> array of float, array of float, float, int\n",
    "        \n",
    "        :return: the following tuple:\n",
    "            - array of parameters beta\n",
    "            - array of beta for each step\n",
    "            - cost function\n",
    "            - number of iterations\n",
    "    \"\"\"\n",
    "    \n",
    "    n = len(y)\n",
    "    # cost = np.zeros(max_iterations)\n",
    "    cost = []\n",
    "    betaMod = beta.copy()\n",
    "    # betaHist = np.zeros(max_iterations)\n",
    "    beta0Hist = []\n",
    "    beta1Hist = []\n",
    "    \n",
    "    for i in range(max_iterations):                                             \n",
    "        betaMod = betaMod - (np.dot(X.T, (np.dot(X, betaMod) - y)) * alpha) / n \n",
    "        beta0Hist.append(betaMod[0])\n",
    "        beta1Hist.append(betaMod[1])        \n",
    "        # cost[i] = compute_cost(X, y, betaMod)\n",
    "        cost.append(compute_cost(X, y, betaMod))\n",
    "        # exit conditions\n",
    "        if cost[i] < cost_thr:\n",
    "            break\n",
    "        if i > 0 and (abs(cost[i] - cost[i-1])/cost[i] < cost_thr):\n",
    "            break\n",
    "        \n",
    "    cost = np.array(cost)\n",
    "    beta0Hist = np.array(beta0Hist)\n",
    "    beta1Hist = np.array(beta1Hist)\n",
    "    betaHist = [beta0Hist, beta1Hist]\n",
    "    \n",
    "    return betaMod, betaHist, cost, i"
   ]
  },
  {
   "cell_type": "markdown",
   "metadata": {},
   "source": [
    "We need some optimisation parameters, _i.e._ learning rate and maximum number of iterations."
   ]
  },
  {
   "cell_type": "code",
   "execution_count": 10,
   "metadata": {},
   "outputs": [],
   "source": [
    "# parameters \n",
    "max_iterations = 1500 \n",
    "alpha = 0.01 # learing rate"
   ]
  },
  {
   "cell_type": "markdown",
   "metadata": {},
   "source": [
    "Let's train our algorithm."
   ]
  },
  {
   "cell_type": "code",
   "execution_count": 11,
   "metadata": {},
   "outputs": [],
   "source": [
    "betaFit, betaHist, cost, iterations = gradientDescent(X, y, beta, alpha, max_iterations);"
   ]
  },
  {
   "cell_type": "code",
   "execution_count": 12,
   "metadata": {},
   "outputs": [
    {
     "name": "stdout",
     "output_type": "stream",
     "text": [
      "[[2.06112718e+09]]\n"
     ]
    }
   ],
   "source": [
    "print(cost[-1])"
   ]
  },
  {
   "cell_type": "markdown",
   "metadata": {},
   "source": [
    "The cost was ~$6.5 \\times 10^{10}$. There has been a huge improvement.\n",
    "\n",
    "Let's plot cost against number of iterations to see how the cost changed as the algorithm ran."
   ]
  },
  {
   "cell_type": "code",
   "execution_count": 13,
   "metadata": {},
   "outputs": [
    {
     "data": {
      "image/png": "[encoded data removed]",
      "text/plain": [
       "<Figure size 1440x1080 with 1 Axes>"
      ]
     },
     "metadata": {
      "image/png": {
       "height": 875,
       "width": 1157
      },
      "needs_background": "light"
     },
     "output_type": "display_data"
    }
   ],
   "source": [
    "plt.figure(figsize=(20,15))\n",
    "plt.plot(cost.reshape(-1))\n",
    "plt.ylabel(\"Cost function\")\n",
    "plt.xlabel(\"Number of Iterations\")\n",
    "plt.title(\"Minimizing Cost Using Gradient Descent\");"
   ]
  },
  {
   "cell_type": "markdown",
   "metadata": {},
   "source": [
    "The graph shows that cost fell steadily until about the $200^{\\mathrm{th}}$ iteration, then it kind of flattened out. This also proves the gradient descent algorithm performed well.\n",
    "\n",
    "### Sklearn\n",
    "\n",
    "We can actually do the same with a lot less effort, by using `sklearn`.\n",
    "\n",
    "This is actually very simple, as we only need to be careful with matrices dimensions."
   ]
  },
  {
   "cell_type": "code",
   "execution_count": 14,
   "metadata": {},
   "outputs": [],
   "source": [
    "# Instantiate the model and train it.\n",
    "model = LinearRegression()\n",
    "model.fit(X, y);"
   ]
  },
  {
   "cell_type": "markdown",
   "metadata": {},
   "source": [
    "Now we use a test house of $1650~\\mathrm{ft}^2$ and $3$ bedrooms."
   ]
  },
  {
   "cell_type": "code",
   "execution_count": 24,
   "metadata": {},
   "outputs": [
    {
     "name": "stdout",
     "output_type": "stream",
     "text": [
      "Your calculated prediction for a 3 bedroom / 1650 sqft house cost is: $293081.46\n"
     ]
    }
   ],
   "source": [
    "test_house = np.array([1650, 3])\n",
    "\n",
    "rescaled_test_house, _ , _ = feature_normalise(test_house, params={\"mu\": mu, \"sigma\": sigma})\n",
    "rescaled_test_house = np.append([1], rescaled_test_house)\n",
    "pred = model.predict(rescaled_test_house.reshape(1, -1))\n",
    "\n",
    "print('Your calculated prediction for a 3 bedroom / 1650 sqft house cost is: $%0.2f' % pred)"
   ]
  }
 ],
 "metadata": {
  "interpreter": {
   "hash": "258d6f942e9abff99338ee3ea05bb7abc0fd3eb4d49f988f84979247168b5568"
  },
  "kernelspec": {
   "display_name": "Python 3.8.0 ('lectures')",
   "language": "python",
   "name": "python3"
  },
  "language_info": {
   "codemirror_mode": {
    "name": "ipython",
    "version": 3
   },
   "file_extension": ".py",
   "mimetype": "text/x-python",
   "name": "python",
   "nbconvert_exporter": "python",
   "pygments_lexer": "ipython3",
   "version": "3.8.0"
  },
  "orig_nbformat": 4
 },
 "nbformat": 4,
 "nbformat_minor": 2
}
