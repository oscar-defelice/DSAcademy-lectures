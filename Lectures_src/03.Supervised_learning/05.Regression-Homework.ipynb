{
 "cells": [
  {
   "cell_type": "markdown",
   "metadata": {},
   "source": [
    "# Introduction to Data Science and Machine Learning\n",
    "\n",
    "<p align=\"center\">\n",
    "    <img width=\"699\" alt=\"image\" src=\"https://user-images.githubusercontent.com/49638680/159042792-8510fbd1-c4ac-4a48-8320-bc6c1a49cdae.png\">\n",
    "</p>\n",
    "\n",
    "---\n",
    "\n",
    "## Exercises\n",
    "\n",
    "### Exercise - Regression\n",
    "\n",
    "Consider the [🍫 diabetes dataset](https://scikit-learn.org/stable/datasets/toy_dataset.html#diabetes-dataset) it contains data with $10$ features and a target value representing a quantitative measure of disease progression one year after baseline. Find the _best_ polynomial fit based on the test score for this dataset.\n",
    "\n",
    "Perform exploratory data analysis, define a suitable performance metric and justify _all_ your choices.\n",
    "Plot histograms of features distributions and correlation diagrams."
   ]
  }
 ],
 "metadata": {
  "language_info": {
   "name": "python"
  },
  "orig_nbformat": 4
 },
 "nbformat": 4,
 "nbformat_minor": 2
}
