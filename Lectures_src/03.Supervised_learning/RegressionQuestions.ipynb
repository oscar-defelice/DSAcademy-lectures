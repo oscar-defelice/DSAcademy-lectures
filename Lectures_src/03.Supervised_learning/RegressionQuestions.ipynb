{
 "cells": [
  {
   "cell_type": "markdown",
   "metadata": {},
   "source": [
    "# Introduction to Data Science and Machine Learning\n",
    "\n",
    "<p align=\"center\">\n",
    "    <img width=\"699\" alt=\"image\" src=\"https://user-images.githubusercontent.com/49638680/159042792-8510fbd1-c4ac-4a48-8320-bc6c1a49cdae.png\">\n",
    "</p>\n",
    "\n",
    "---\n",
    "\n",
    "## Regression questions\n",
    "\n",
    "The idea is to have here a set of small exercises helping you to (self-)check your understanding of the concepts.\n",
    "\n",
    "### Exercise 1\n",
    "\n",
    "Is there a relationship between water salinity & water temperature? Can you predict the water temperature based on salinity? \n",
    "\n",
    "1. Using data contained in this [csv](https://www.kaggle.com/sohier/calcofi#bottle.csv) and `sklearn`, try to give an answer to this question.\n"
   ]
  },
  {
   "cell_type": "code",
   "execution_count": null,
   "metadata": {},
   "outputs": [],
   "source": []
  },
  {
   "cell_type": "markdown",
   "metadata": {},
   "source": [
    "### Exercise 2\n",
    "\n",
    "For example, we want to study the trend of fuel consumption as a function of the engine capacity, we can collect our measures in a table like the following.\n",
    "\n",
    "| Engine capacity (cm$^3$) | Average Consumption (l/100km) |\n",
    "|---|----|\n",
    "| $800$  |  $6$    | \n",
    "| $1000$ |  $7.5$  | \n",
    "| $1100$ |  $8$    | \n",
    "| $1200$ |  $8.7$  | \n",
    "| $1600$ |  $12.4$ | \n",
    "| $2000$ |  $16$   | \n",
    "| $3000$ |  $20$   | \n",
    "| $4500$ |  $28$   | \n",
    "\n",
    "Apply linear regression to find the average consumption of an engine with `test_capacity = 1800`.\n",
    "\n",
    "Use both `sklearn` library and the gradient descent functions we defined in lectures and compare the results.\n",
    "\n",
    "_Hint for data conversion._ Recall that one may use pandas and python dictionaries to create dataframes.\n",
    "\n",
    "```python\n",
    "measures = pd.DataFrame({'Consumption_avg': [6, 7.5, 8, 8.7, 12.4, 16, 20, 28], \n",
    "                         'Capacity': [800, 1000, 1100, 1200, 1600, 2000, 3000, 4500]})\n",
    "```"
   ]
  }
 ],
 "metadata": {
  "kernelspec": {
   "display_name": "Python 3.9.13 64-bit",
   "language": "python",
   "name": "python3"
  },
  "language_info": {
   "name": "python",
   "version": "3.9.13"
  },
  "orig_nbformat": 4,
  "vscode": {
   "interpreter": {
    "hash": "b0fa6594d8f4cbf19f97940f81e996739fb7646882a419484c72d19e05852a7e"
   }
  }
 },
 "nbformat": 4,
 "nbformat_minor": 2
}
