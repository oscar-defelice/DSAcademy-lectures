{
 "cells": [
  {
   "cell_type": "markdown",
   "metadata": {},
   "source": [
    "# Introduction to Data Science and Machine Learning\n",
    "\n",
    "<p align=\"center\">\n",
    "    <img width=\"699\" alt=\"image\" src=\"https://user-images.githubusercontent.com/49638680/159042792-8510fbd1-c4ac-4a48-8320-bc6c1a49cdae.png\">\n",
    "</p>\n",
    "\n",
    "---\n",
    "\n",
    "## Data Encoding\n",
    "\n",
    "In many practical Data Science activities, the data set will contain not only numerical variables. And even when numeric, not all numbers are equally meaningful.\n",
    "\n",
    "Consider a the case where we assign $0$ or $1$ to a _flag_ variable, meaning that property is present or not, with no intermediate value nor a special ordering between $0$ and $1$.\n",
    "We have already encountered also _categorical_ variables, these variables are typically stored as text values which represent various traits. Some examples include color (“Red”, “Yellow”, “Blue”), size (“Small”, “Medium”, “Large”) or geographic designations (State or Country).\n",
    "\n",
    "Regardless of what the value is used for, the challenge is determining how to use this data in the analysis. Many machine learning algorithms can support categorical values without further manipulation but there are many more algorithms that do not. Therefore, we are faced with the challenge of figuring out how to turn these text attributes into numerical values for further processing.\n",
    "\n",
    "We start by studying how python (and pandas) represents these objects and how we can deal with them.\n",
    "\n",
    "As with many other aspects of the Data Science world, there is no single answer on how to approach this problem. \n",
    "Each approach has trade-offs and has potential impact on the outcome of the analysis. \n",
    "Fortunately, the python tools of pandas and scikit-learn provide several approaches that can be applied to transform the categorical data into suitable numeric values. "
   ]
  },
  {
   "cell_type": "code",
   "execution_count": 1,
   "metadata": {},
   "outputs": [],
   "source": [
    "# Import libraries\n",
    "import pandas as pd\n",
    "import numpy as np\n",
    "\n",
    "# scikit-learn variables encoding\n",
    "from sklearn.preprocessing import OrdinalEncoder, OneHotEncoder, MinMaxScaler, LabelEncoder\n",
    "from sklearn.compose import ColumnTransformer, make_column_transformer\n",
    "from sklearn.impute import SimpleImputer\n",
    "\n",
    "# show sklearn objects in diagrams\n",
    "from sklearn import set_config\n",
    "set_config(print_changed_only=False, display=\"diagram\")\n",
    "\n",
    "import matplotlib.pyplot as plt\n",
    "import seaborn as sns\n",
    "\n",
    "%matplotlib inline\n",
    "%config InlineBackend.figure_format = \"retina\"\n",
    "\n",
    "# set font and plot size to be larger\n",
    "plt.rcParams.update({'font.size': 20, 'figure.figsize': (20, 13)})"
   ]
  },
  {
   "cell_type": "markdown",
   "metadata": {},
   "source": [
    "### Data types in pandas\n",
    "\n",
    "Let's start by an old friend: `pd.DataFrame.info()`."
   ]
  },
  {
   "cell_type": "code",
   "execution_count": 8,
   "metadata": {},
   "outputs": [
    {
     "name": "stdout",
     "output_type": "stream",
     "text": [
      "<class 'pandas.core.frame.DataFrame'>\n",
      "RangeIndex: 4383 entries, 0 to 4382\n",
      "Data columns (total 2 columns):\n",
      " #   Column       Non-Null Count  Dtype  \n",
      "---  ------       --------------  -----  \n",
      " 0   Date         4383 non-null   object \n",
      " 1   Consumption  4383 non-null   float64\n",
      "dtypes: float64(1), object(1)\n",
      "memory usage: 321.1 KB\n"
     ]
    }
   ],
   "source": [
    "data_url = 'https://raw.githubusercontent.com/fbagattini/Lezioni/master/data/OPSD_Germany_consumption.csv'\n",
    "df = pd.read_csv(data_url)\n",
    "df.info(memory_usage='deep')"
   ]
  },
  {
   "cell_type": "markdown",
   "metadata": {},
   "source": [
    "As anyone can notice, there is a float column (the computer representation of real numbers) and a the Date column (type `object`), namely strings for pandas.\n",
    "\n",
    "#### The dataset\n",
    "\n",
    "![img](https://raw.githubusercontent.com/fbagattini/Lezioni/master/img/OPSD.png)\n",
    "\n",
    "[OPSD database](https://open-power-system-data.org/) is a dataset provided by the famous open source project OPSD that provides data on installed generation capacity by country/technology, individual power plants (conventional and renewable), and time series data. The latter includes electricity consumption, spot prices, and wind and solar generation, both measured and derived from weather models.\n",
    "\n",
    "The aim of this very cool project is to make life easier for power system modelers. \n",
    "The goal is to help researchers focus on research and avoid redundant work when collecting, preparing, and aggregating data.\n",
    "\n",
    "In particular, in this lecture we are going to import the `OPSD_Germany_consumption` dataset. This reports Germany's electric energy consumption (in GWh) from $2006$ to $2017$. These data are part of the OPSD project.\n",
    "\n",
    "Let's look at the first records of the dataframe."
   ]
  },
  {
   "cell_type": "code",
   "execution_count": 9,
   "metadata": {},
   "outputs": [
    {
     "data": {
      "text/html": [
       "<div>\n",
       "<style scoped>\n",
       "    .dataframe tbody tr th:only-of-type {\n",
       "        vertical-align: middle;\n",
       "    }\n",
       "\n",
       "    .dataframe tbody tr th {\n",
       "        vertical-align: top;\n",
       "    }\n",
       "\n",
       "    .dataframe thead th {\n",
       "        text-align: right;\n",
       "    }\n",
       "</style>\n",
       "<table border=\"1\" class=\"dataframe\">\n",
       "  <thead>\n",
       "    <tr style=\"text-align: right;\">\n",
       "      <th></th>\n",
       "      <th>Date</th>\n",
       "      <th>Consumption</th>\n",
       "    </tr>\n",
       "  </thead>\n",
       "  <tbody>\n",
       "    <tr>\n",
       "      <th>0</th>\n",
       "      <td>2006-01-01</td>\n",
       "      <td>1069.184</td>\n",
       "    </tr>\n",
       "    <tr>\n",
       "      <th>1</th>\n",
       "      <td>2006-01-02</td>\n",
       "      <td>1380.521</td>\n",
       "    </tr>\n",
       "    <tr>\n",
       "      <th>2</th>\n",
       "      <td>2006-01-03</td>\n",
       "      <td>1442.533</td>\n",
       "    </tr>\n",
       "    <tr>\n",
       "      <th>3</th>\n",
       "      <td>2006-01-04</td>\n",
       "      <td>1457.217</td>\n",
       "    </tr>\n",
       "    <tr>\n",
       "      <th>4</th>\n",
       "      <td>2006-01-05</td>\n",
       "      <td>1477.131</td>\n",
       "    </tr>\n",
       "  </tbody>\n",
       "</table>\n",
       "</div>"
      ],
      "text/plain": [
       "         Date  Consumption\n",
       "0  2006-01-01     1069.184\n",
       "1  2006-01-02     1380.521\n",
       "2  2006-01-03     1442.533\n",
       "3  2006-01-04     1457.217\n",
       "4  2006-01-05     1477.131"
      ]
     },
     "execution_count": 9,
     "metadata": {},
     "output_type": "execute_result"
    }
   ],
   "source": [
    "# Let's look at the first data\n",
    "df.head()"
   ]
  },
  {
   "cell_type": "markdown",
   "metadata": {},
   "source": [
    "One can see the type of a column also by the attribute `dtype`."
   ]
  },
  {
   "cell_type": "code",
   "execution_count": 10,
   "metadata": {},
   "outputs": [
    {
     "data": {
      "text/plain": [
       "dtype('O')"
      ]
     },
     "execution_count": 10,
     "metadata": {},
     "output_type": "execute_result"
    }
   ],
   "source": [
    "df['Date'].dtype"
   ]
  },
  {
   "cell_type": "markdown",
   "metadata": {},
   "source": [
    "In Pandas, type 'O' stands for Object: a generic type, for our purposes we can consider it more broadly as a string."
   ]
  },
  {
   "cell_type": "code",
   "execution_count": 11,
   "metadata": {},
   "outputs": [
    {
     "data": {
      "text/plain": [
       "'2006-01-01'"
      ]
     },
     "execution_count": 11,
     "metadata": {},
     "output_type": "execute_result"
    }
   ],
   "source": [
    "df['Date'].loc[0]"
   ]
  },
  {
   "cell_type": "markdown",
   "metadata": {},
   "source": [
    "#### Time and timestamp\n",
    "\n",
    "We want to give these data a structure. Meaning we want to be able to define an operation like\n",
    "\n",
    "```python\n",
    "df['Date'].loc[0] + year\n",
    "```\n",
    "\n",
    "having '2007-01-01' as result.\n",
    "\n",
    "Hence, we aim at providing these records with a temporal structure.\n",
    "\n",
    "We are going to explore a pandas method to perform such conversion `to_datetime`. This will result in a new type of object: `Timestamp`."
   ]
  },
  {
   "cell_type": "code",
   "execution_count": 12,
   "metadata": {},
   "outputs": [
    {
     "data": {
      "text/plain": [
       "Timestamp('2009-10-02 00:00:00')"
      ]
     },
     "execution_count": 12,
     "metadata": {},
     "output_type": "execute_result"
    }
   ],
   "source": [
    "pd.to_datetime('10-02-09')"
   ]
  },
  {
   "cell_type": "markdown",
   "metadata": {},
   "source": [
    "Note how we got not only the date, but also the time for free.\n",
    "\n",
    "The function has attemped to autonomously infer the date format: October 2, 2009. Through optional arguments we can drive this transformation.\n",
    "\n",
    "Can you tell the difference between the two following cells?"
   ]
  },
  {
   "cell_type": "code",
   "execution_count": 13,
   "id": "magnetic-parameter",
   "metadata": {},
   "outputs": [
    {
     "data": {
      "text/plain": [
       "Timestamp('2010-02-09 00:00:00')"
      ]
     },
     "execution_count": 13,
     "metadata": {},
     "output_type": "execute_result"
    }
   ],
   "source": [
    "pd.to_datetime('10-02-09', yearfirst=True)"
   ]
  },
  {
   "cell_type": "code",
   "execution_count": 14,
   "id": "modular-advice",
   "metadata": {},
   "outputs": [
    {
     "data": {
      "text/plain": [
       "Timestamp('2009-02-10 00:00:00')"
      ]
     },
     "execution_count": 14,
     "metadata": {},
     "output_type": "execute_result"
    }
   ],
   "source": [
    "pd.to_datetime('10-02-09', dayfirst=True)"
   ]
  },
  {
   "cell_type": "markdown",
   "id": "parallel-apache",
   "metadata": {},
   "source": [
    "The `to_datetime` method can handle several formats."
   ]
  },
  {
   "cell_type": "code",
   "execution_count": 15,
   "id": "killing-consensus",
   "metadata": {},
   "outputs": [
    {
     "data": {
      "text/plain": [
       "Timestamp('1990-06-07 00:00:00')"
      ]
     },
     "execution_count": 15,
     "metadata": {},
     "output_type": "execute_result"
    }
   ],
   "source": [
    "pd.to_datetime('7th of June 1990')"
   ]
  },
  {
   "cell_type": "code",
   "execution_count": 16,
   "id": "central-psychiatry",
   "metadata": {},
   "outputs": [
    {
     "data": {
      "text/plain": [
       "Timestamp('1990-02-10 00:00:00')"
      ]
     },
     "execution_count": 16,
     "metadata": {},
     "output_type": "execute_result"
    }
   ],
   "source": [
    "pd.to_datetime('Feb 10 1990')"
   ]
  },
  {
   "cell_type": "markdown",
   "id": "collaborative-idaho",
   "metadata": {},
   "source": [
    "As with individual strings, we can convert lists of strings; in our instance, we can transform the whole `Date` column."
   ]
  },
  {
   "cell_type": "code",
   "execution_count": 17,
   "id": "spanish-damages",
   "metadata": {},
   "outputs": [],
   "source": [
    "df.Date = pd.to_datetime(df.Date)"
   ]
  },
  {
   "cell_type": "code",
   "execution_count": 18,
   "id": "floating-question",
   "metadata": {},
   "outputs": [
    {
     "data": {
      "text/html": [
       "<div>\n",
       "<style scoped>\n",
       "    .dataframe tbody tr th:only-of-type {\n",
       "        vertical-align: middle;\n",
       "    }\n",
       "\n",
       "    .dataframe tbody tr th {\n",
       "        vertical-align: top;\n",
       "    }\n",
       "\n",
       "    .dataframe thead th {\n",
       "        text-align: right;\n",
       "    }\n",
       "</style>\n",
       "<table border=\"1\" class=\"dataframe\">\n",
       "  <thead>\n",
       "    <tr style=\"text-align: right;\">\n",
       "      <th></th>\n",
       "      <th>Date</th>\n",
       "      <th>Consumption</th>\n",
       "    </tr>\n",
       "  </thead>\n",
       "  <tbody>\n",
       "    <tr>\n",
       "      <th>0</th>\n",
       "      <td>2006-01-01</td>\n",
       "      <td>1069.18400</td>\n",
       "    </tr>\n",
       "    <tr>\n",
       "      <th>1</th>\n",
       "      <td>2006-01-02</td>\n",
       "      <td>1380.52100</td>\n",
       "    </tr>\n",
       "    <tr>\n",
       "      <th>2</th>\n",
       "      <td>2006-01-03</td>\n",
       "      <td>1442.53300</td>\n",
       "    </tr>\n",
       "    <tr>\n",
       "      <th>3</th>\n",
       "      <td>2006-01-04</td>\n",
       "      <td>1457.21700</td>\n",
       "    </tr>\n",
       "    <tr>\n",
       "      <th>4</th>\n",
       "      <td>2006-01-05</td>\n",
       "      <td>1477.13100</td>\n",
       "    </tr>\n",
       "    <tr>\n",
       "      <th>...</th>\n",
       "      <td>...</td>\n",
       "      <td>...</td>\n",
       "    </tr>\n",
       "    <tr>\n",
       "      <th>4378</th>\n",
       "      <td>2017-12-27</td>\n",
       "      <td>1263.94091</td>\n",
       "    </tr>\n",
       "    <tr>\n",
       "      <th>4379</th>\n",
       "      <td>2017-12-28</td>\n",
       "      <td>1299.86398</td>\n",
       "    </tr>\n",
       "    <tr>\n",
       "      <th>4380</th>\n",
       "      <td>2017-12-29</td>\n",
       "      <td>1295.08753</td>\n",
       "    </tr>\n",
       "    <tr>\n",
       "      <th>4381</th>\n",
       "      <td>2017-12-30</td>\n",
       "      <td>1215.44897</td>\n",
       "    </tr>\n",
       "    <tr>\n",
       "      <th>4382</th>\n",
       "      <td>2017-12-31</td>\n",
       "      <td>1107.11488</td>\n",
       "    </tr>\n",
       "  </tbody>\n",
       "</table>\n",
       "<p>4383 rows × 2 columns</p>\n",
       "</div>"
      ],
      "text/plain": [
       "           Date  Consumption\n",
       "0    2006-01-01   1069.18400\n",
       "1    2006-01-02   1380.52100\n",
       "2    2006-01-03   1442.53300\n",
       "3    2006-01-04   1457.21700\n",
       "4    2006-01-05   1477.13100\n",
       "...         ...          ...\n",
       "4378 2017-12-27   1263.94091\n",
       "4379 2017-12-28   1299.86398\n",
       "4380 2017-12-29   1295.08753\n",
       "4381 2017-12-30   1215.44897\n",
       "4382 2017-12-31   1107.11488\n",
       "\n",
       "[4383 rows x 2 columns]"
      ]
     },
     "execution_count": 18,
     "metadata": {},
     "output_type": "execute_result"
    }
   ],
   "source": [
    "df"
   ]
  },
  {
   "cell_type": "code",
   "execution_count": 19,
   "metadata": {},
   "outputs": [
    {
     "data": {
      "text/plain": [
       "Date           datetime64[ns]\n",
       "Consumption           float64\n",
       "dtype: object"
      ]
     },
     "execution_count": 19,
     "metadata": {},
     "output_type": "execute_result"
    }
   ],
   "source": [
    "df.dtypes"
   ]
  },
  {
   "cell_type": "markdown",
   "id": "regulated-current",
   "metadata": {},
   "source": [
    "It is noteworthy that python stores temporal objects as 64-bits integers, so that to handle nanoseconds (ns) precision.\n",
    "\n",
    "**Recap**: we have transformed a column of the dataframe into a special one, equipped with temporal logic.\n",
    "\n",
    "### DateTimeIndex\n",
    "\n",
    "As you might have noticed, we have one example per day (this is called _frequency_). We will talk later about the definition of a time series, _i.e._ a _realisation_ of a stochastic process thanks to its projection on a time interval.\n",
    "\n",
    "$$\\{x_1, \\ldots , x_n \\vert x_k = x(t_k) \\} \\, .$$\n",
    "\n",
    "For now, it might appear quite natural to use the time variable (the `Date` in this case) as an index. Pandas allows us to do so."
   ]
  },
  {
   "cell_type": "code",
   "execution_count": 21,
   "metadata": {},
   "outputs": [],
   "source": [
    "df = df.set_index('Date')"
   ]
  },
  {
   "cell_type": "markdown",
   "id": "auburn-pointer",
   "metadata": {},
   "source": [
    "Now `df` is correctly indexed by `Date`. Let's have a look at the new index."
   ]
  },
  {
   "cell_type": "code",
   "execution_count": 22,
   "id": "prostate-ordering",
   "metadata": {},
   "outputs": [
    {
     "data": {
      "text/plain": [
       "DatetimeIndex(['2006-01-01', '2006-01-02', '2006-01-03', '2006-01-04',\n",
       "               '2006-01-05', '2006-01-06', '2006-01-07', '2006-01-08',\n",
       "               '2006-01-09', '2006-01-10',\n",
       "               ...\n",
       "               '2017-12-22', '2017-12-23', '2017-12-24', '2017-12-25',\n",
       "               '2017-12-26', '2017-12-27', '2017-12-28', '2017-12-29',\n",
       "               '2017-12-30', '2017-12-31'],\n",
       "              dtype='datetime64[ns]', name='Date', length=4383, freq=None)"
      ]
     },
     "execution_count": 22,
     "metadata": {},
     "output_type": "execute_result"
    }
   ],
   "source": [
    "df.index"
   ]
  },
  {
   "cell_type": "markdown",
   "id": "immune-treat",
   "metadata": {},
   "source": [
    "It is not the usual `Index`, it is something more specific `DatetimeIndex`. Indeed, it has specific properties."
   ]
  },
  {
   "cell_type": "code",
   "execution_count": 23,
   "id": "numerical-chain",
   "metadata": {},
   "outputs": [
    {
     "data": {
      "text/plain": [
       "Int64Index([2006, 2006, 2006, 2006, 2006, 2006, 2006, 2006, 2006, 2006,\n",
       "            ...\n",
       "            2017, 2017, 2017, 2017, 2017, 2017, 2017, 2017, 2017, 2017],\n",
       "           dtype='int64', name='Date', length=4383)"
      ]
     },
     "execution_count": 23,
     "metadata": {},
     "output_type": "execute_result"
    }
   ],
   "source": [
    "df.index.year"
   ]
  },
  {
   "cell_type": "code",
   "execution_count": 24,
   "id": "spiritual-lyric",
   "metadata": {},
   "outputs": [
    {
     "data": {
      "text/plain": [
       "Int64Index([ 1,  2,  3,  4,  5,  6,  7,  8,  9, 10,\n",
       "            ...\n",
       "            22, 23, 24, 25, 26, 27, 28, 29, 30, 31],\n",
       "           dtype='int64', name='Date', length=4383)"
      ]
     },
     "execution_count": 24,
     "metadata": {},
     "output_type": "execute_result"
    }
   ],
   "source": [
    "df.index.day"
   ]
  },
  {
   "cell_type": "markdown",
   "id": "educational-young",
   "metadata": {},
   "source": [
    "**Recap**: we have used the time information provided by our data (the date on which each record is observed) to index a dataframe.\n",
    "\n",
    "### Indexing at loading time\n",
    "\n",
    "Since the greatest force moving a developer is lazyness, we do not want to work on our dataframes in order to index them correctly. In other words we do not want to repeat the operations we have done above, _i.e._ converting to the right datetime format, creating a copy of our dataframe, changing the index to `Datetimeindex`, etc.\n",
    "\n",
    "We can achieve the same goal in a compact way. Among the arguments of `read_csv`, there are:\n",
    "\n",
    "* `parse_dates` \n",
    "* `index_col`\n",
    "\n",
    "The former one accepts a boolean as value (hence `True` or `False`) setting whether to try parsing dates as `Datetime` objects, on the other hand the latter accepts a string or a list of strings indicating which columns should be used as index.\n",
    "\n",
    "<p align=\"center\">\n",
    "    <img width=\"500\" src=\"https://media.makeameme.org/created/ta-da.jpg\">\n",
    "</p>"
   ]
  },
  {
   "cell_type": "code",
   "execution_count": 25,
   "id": "stuffed-shakespeare",
   "metadata": {},
   "outputs": [
    {
     "data": {
      "text/html": [
       "<div>\n",
       "<style scoped>\n",
       "    .dataframe tbody tr th:only-of-type {\n",
       "        vertical-align: middle;\n",
       "    }\n",
       "\n",
       "    .dataframe tbody tr th {\n",
       "        vertical-align: top;\n",
       "    }\n",
       "\n",
       "    .dataframe thead th {\n",
       "        text-align: right;\n",
       "    }\n",
       "</style>\n",
       "<table border=\"1\" class=\"dataframe\">\n",
       "  <thead>\n",
       "    <tr style=\"text-align: right;\">\n",
       "      <th></th>\n",
       "      <th>Consumption</th>\n",
       "    </tr>\n",
       "    <tr>\n",
       "      <th>Date</th>\n",
       "      <th></th>\n",
       "    </tr>\n",
       "  </thead>\n",
       "  <tbody>\n",
       "    <tr>\n",
       "      <th>2006-01-01</th>\n",
       "      <td>1069.184</td>\n",
       "    </tr>\n",
       "    <tr>\n",
       "      <th>2006-01-02</th>\n",
       "      <td>1380.521</td>\n",
       "    </tr>\n",
       "    <tr>\n",
       "      <th>2006-01-03</th>\n",
       "      <td>1442.533</td>\n",
       "    </tr>\n",
       "    <tr>\n",
       "      <th>2006-01-04</th>\n",
       "      <td>1457.217</td>\n",
       "    </tr>\n",
       "    <tr>\n",
       "      <th>2006-01-05</th>\n",
       "      <td>1477.131</td>\n",
       "    </tr>\n",
       "  </tbody>\n",
       "</table>\n",
       "</div>"
      ],
      "text/plain": [
       "            Consumption\n",
       "Date                   \n",
       "2006-01-01     1069.184\n",
       "2006-01-02     1380.521\n",
       "2006-01-03     1442.533\n",
       "2006-01-04     1457.217\n",
       "2006-01-05     1477.131"
      ]
     },
     "execution_count": 25,
     "metadata": {},
     "output_type": "execute_result"
    }
   ],
   "source": [
    "df = pd.read_csv(data_url,\n",
    "                 parse_dates=True,\n",
    "                 index_col='Date')\n",
    "df.head()"
   ]
  },
  {
   "cell_type": "markdown",
   "id": "amino-touch",
   "metadata": {},
   "source": [
    "**Recap**: with just one line of code we have loaded the OPSD_Germany_consumption dataset and set Date column as its time index.\n",
    "\n",
    "### String and partial-string indexing\n",
    "\n",
    "Now that records have a time reference attached to, we can easily access them through string indexing.\n",
    "\n",
    "Let's suppose we want to know the electric consumption of Christmas 2015."
   ]
  },
  {
   "cell_type": "code",
   "execution_count": null,
   "id": "placed-notebook",
   "metadata": {},
   "outputs": [
    {
     "data": {
      "text/plain": [
       "Consumption    1047.277\n",
       "Name: 2015-12-25 00:00:00, dtype: float64"
      ]
     },
     "metadata": {},
     "output_type": "display_data"
    }
   ],
   "source": [
    "df.loc['2015-12-25']"
   ]
  },
  {
   "cell_type": "markdown",
   "id": "institutional-hungary",
   "metadata": {},
   "source": [
    "And we want to compare this record with the average consumption of December 2015. It is quite easy to do so in pandas.\n",
    "\n",
    "As with slicing in Python and NumPy, string indexing can be used with ':' to access time intervals."
   ]
  },
  {
   "cell_type": "code",
   "execution_count": null,
   "id": "numerous-amsterdam",
   "metadata": {},
   "outputs": [
    {
     "data": {
      "text/html": [
       "<div>\n",
       "<style scoped>\n",
       "    .dataframe tbody tr th:only-of-type {\n",
       "        vertical-align: middle;\n",
       "    }\n",
       "\n",
       "    .dataframe tbody tr th {\n",
       "        vertical-align: top;\n",
       "    }\n",
       "\n",
       "    .dataframe thead th {\n",
       "        text-align: right;\n",
       "    }\n",
       "</style>\n",
       "<table border=\"1\" class=\"dataframe\">\n",
       "  <thead>\n",
       "    <tr style=\"text-align: right;\">\n",
       "      <th></th>\n",
       "      <th>Consumption</th>\n",
       "    </tr>\n",
       "    <tr>\n",
       "      <th>Date</th>\n",
       "      <th></th>\n",
       "    </tr>\n",
       "  </thead>\n",
       "  <tbody>\n",
       "    <tr>\n",
       "      <th>2015-12-01</th>\n",
       "      <td>1588.021</td>\n",
       "    </tr>\n",
       "    <tr>\n",
       "      <th>2015-12-02</th>\n",
       "      <td>1585.308</td>\n",
       "    </tr>\n",
       "    <tr>\n",
       "      <th>2015-12-03</th>\n",
       "      <td>1577.457</td>\n",
       "    </tr>\n",
       "    <tr>\n",
       "      <th>2015-12-04</th>\n",
       "      <td>1570.318</td>\n",
       "    </tr>\n",
       "    <tr>\n",
       "      <th>2015-12-05</th>\n",
       "      <td>1337.095</td>\n",
       "    </tr>\n",
       "    <tr>\n",
       "      <th>2015-12-06</th>\n",
       "      <td>1232.073</td>\n",
       "    </tr>\n",
       "    <tr>\n",
       "      <th>2015-12-07</th>\n",
       "      <td>1536.251</td>\n",
       "    </tr>\n",
       "    <tr>\n",
       "      <th>2015-12-08</th>\n",
       "      <td>1572.740</td>\n",
       "    </tr>\n",
       "    <tr>\n",
       "      <th>2015-12-09</th>\n",
       "      <td>1586.393</td>\n",
       "    </tr>\n",
       "    <tr>\n",
       "      <th>2015-12-10</th>\n",
       "      <td>1596.593</td>\n",
       "    </tr>\n",
       "    <tr>\n",
       "      <th>2015-12-11</th>\n",
       "      <td>1578.220</td>\n",
       "    </tr>\n",
       "    <tr>\n",
       "      <th>2015-12-12</th>\n",
       "      <td>1334.376</td>\n",
       "    </tr>\n",
       "    <tr>\n",
       "      <th>2015-12-13</th>\n",
       "      <td>1242.101</td>\n",
       "    </tr>\n",
       "    <tr>\n",
       "      <th>2015-12-14</th>\n",
       "      <td>1554.947</td>\n",
       "    </tr>\n",
       "    <tr>\n",
       "      <th>2015-12-15</th>\n",
       "      <td>1567.900</td>\n",
       "    </tr>\n",
       "    <tr>\n",
       "      <th>2015-12-16</th>\n",
       "      <td>1562.404</td>\n",
       "    </tr>\n",
       "    <tr>\n",
       "      <th>2015-12-17</th>\n",
       "      <td>1512.095</td>\n",
       "    </tr>\n",
       "    <tr>\n",
       "      <th>2015-12-18</th>\n",
       "      <td>1462.443</td>\n",
       "    </tr>\n",
       "    <tr>\n",
       "      <th>2015-12-19</th>\n",
       "      <td>1255.073</td>\n",
       "    </tr>\n",
       "    <tr>\n",
       "      <th>2015-12-20</th>\n",
       "      <td>1165.159</td>\n",
       "    </tr>\n",
       "    <tr>\n",
       "      <th>2015-12-21</th>\n",
       "      <td>1396.454</td>\n",
       "    </tr>\n",
       "    <tr>\n",
       "      <th>2015-12-22</th>\n",
       "      <td>1379.031</td>\n",
       "    </tr>\n",
       "    <tr>\n",
       "      <th>2015-12-23</th>\n",
       "      <td>1312.974</td>\n",
       "    </tr>\n",
       "    <tr>\n",
       "      <th>2015-12-24</th>\n",
       "      <td>1121.944</td>\n",
       "    </tr>\n",
       "    <tr>\n",
       "      <th>2015-12-25</th>\n",
       "      <td>1047.277</td>\n",
       "    </tr>\n",
       "    <tr>\n",
       "      <th>2015-12-26</th>\n",
       "      <td>1049.349</td>\n",
       "    </tr>\n",
       "    <tr>\n",
       "      <th>2015-12-27</th>\n",
       "      <td>1068.214</td>\n",
       "    </tr>\n",
       "    <tr>\n",
       "      <th>2015-12-28</th>\n",
       "      <td>1219.075</td>\n",
       "    </tr>\n",
       "    <tr>\n",
       "      <th>2015-12-29</th>\n",
       "      <td>1233.660</td>\n",
       "    </tr>\n",
       "    <tr>\n",
       "      <th>2015-12-30</th>\n",
       "      <td>1238.863</td>\n",
       "    </tr>\n",
       "    <tr>\n",
       "      <th>2015-12-31</th>\n",
       "      <td>1158.103</td>\n",
       "    </tr>\n",
       "  </tbody>\n",
       "</table>\n",
       "</div>"
      ],
      "text/plain": [
       "            Consumption\n",
       "Date                   \n",
       "2015-12-01     1588.021\n",
       "2015-12-02     1585.308\n",
       "2015-12-03     1577.457\n",
       "2015-12-04     1570.318\n",
       "2015-12-05     1337.095\n",
       "2015-12-06     1232.073\n",
       "2015-12-07     1536.251\n",
       "2015-12-08     1572.740\n",
       "2015-12-09     1586.393\n",
       "2015-12-10     1596.593\n",
       "2015-12-11     1578.220\n",
       "2015-12-12     1334.376\n",
       "2015-12-13     1242.101\n",
       "2015-12-14     1554.947\n",
       "2015-12-15     1567.900\n",
       "2015-12-16     1562.404\n",
       "2015-12-17     1512.095\n",
       "2015-12-18     1462.443\n",
       "2015-12-19     1255.073\n",
       "2015-12-20     1165.159\n",
       "2015-12-21     1396.454\n",
       "2015-12-22     1379.031\n",
       "2015-12-23     1312.974\n",
       "2015-12-24     1121.944\n",
       "2015-12-25     1047.277\n",
       "2015-12-26     1049.349\n",
       "2015-12-27     1068.214\n",
       "2015-12-28     1219.075\n",
       "2015-12-29     1233.660\n",
       "2015-12-30     1238.863\n",
       "2015-12-31     1158.103"
      ]
     },
     "metadata": {},
     "output_type": "display_data"
    }
   ],
   "source": [
    "df.loc['2015-12-1':'2015-12-31']"
   ]
  },
  {
   "cell_type": "markdown",
   "id": "bright-boards",
   "metadata": {},
   "source": [
    "**Important note**: A noteworthy difference between pandas and plain python slicing is that in pandas both extrema of the interval are included in the result.\n",
    "\n",
    "Another temporal indexing technique is partial-string indexing. By specifying the month and year, we extract only the records of December 2015."
   ]
  },
  {
   "cell_type": "code",
   "execution_count": null,
   "id": "little-estate",
   "metadata": {},
   "outputs": [
    {
     "data": {
      "text/html": [
       "<div>\n",
       "<style scoped>\n",
       "    .dataframe tbody tr th:only-of-type {\n",
       "        vertical-align: middle;\n",
       "    }\n",
       "\n",
       "    .dataframe tbody tr th {\n",
       "        vertical-align: top;\n",
       "    }\n",
       "\n",
       "    .dataframe thead th {\n",
       "        text-align: right;\n",
       "    }\n",
       "</style>\n",
       "<table border=\"1\" class=\"dataframe\">\n",
       "  <thead>\n",
       "    <tr style=\"text-align: right;\">\n",
       "      <th></th>\n",
       "      <th>Consumption</th>\n",
       "    </tr>\n",
       "    <tr>\n",
       "      <th>Date</th>\n",
       "      <th></th>\n",
       "    </tr>\n",
       "  </thead>\n",
       "  <tbody>\n",
       "    <tr>\n",
       "      <th>2015-12-01</th>\n",
       "      <td>1588.021</td>\n",
       "    </tr>\n",
       "    <tr>\n",
       "      <th>2015-12-02</th>\n",
       "      <td>1585.308</td>\n",
       "    </tr>\n",
       "    <tr>\n",
       "      <th>2015-12-03</th>\n",
       "      <td>1577.457</td>\n",
       "    </tr>\n",
       "    <tr>\n",
       "      <th>2015-12-04</th>\n",
       "      <td>1570.318</td>\n",
       "    </tr>\n",
       "    <tr>\n",
       "      <th>2015-12-05</th>\n",
       "      <td>1337.095</td>\n",
       "    </tr>\n",
       "    <tr>\n",
       "      <th>2015-12-06</th>\n",
       "      <td>1232.073</td>\n",
       "    </tr>\n",
       "    <tr>\n",
       "      <th>2015-12-07</th>\n",
       "      <td>1536.251</td>\n",
       "    </tr>\n",
       "    <tr>\n",
       "      <th>2015-12-08</th>\n",
       "      <td>1572.740</td>\n",
       "    </tr>\n",
       "    <tr>\n",
       "      <th>2015-12-09</th>\n",
       "      <td>1586.393</td>\n",
       "    </tr>\n",
       "    <tr>\n",
       "      <th>2015-12-10</th>\n",
       "      <td>1596.593</td>\n",
       "    </tr>\n",
       "    <tr>\n",
       "      <th>2015-12-11</th>\n",
       "      <td>1578.220</td>\n",
       "    </tr>\n",
       "    <tr>\n",
       "      <th>2015-12-12</th>\n",
       "      <td>1334.376</td>\n",
       "    </tr>\n",
       "    <tr>\n",
       "      <th>2015-12-13</th>\n",
       "      <td>1242.101</td>\n",
       "    </tr>\n",
       "    <tr>\n",
       "      <th>2015-12-14</th>\n",
       "      <td>1554.947</td>\n",
       "    </tr>\n",
       "    <tr>\n",
       "      <th>2015-12-15</th>\n",
       "      <td>1567.900</td>\n",
       "    </tr>\n",
       "    <tr>\n",
       "      <th>2015-12-16</th>\n",
       "      <td>1562.404</td>\n",
       "    </tr>\n",
       "    <tr>\n",
       "      <th>2015-12-17</th>\n",
       "      <td>1512.095</td>\n",
       "    </tr>\n",
       "    <tr>\n",
       "      <th>2015-12-18</th>\n",
       "      <td>1462.443</td>\n",
       "    </tr>\n",
       "    <tr>\n",
       "      <th>2015-12-19</th>\n",
       "      <td>1255.073</td>\n",
       "    </tr>\n",
       "    <tr>\n",
       "      <th>2015-12-20</th>\n",
       "      <td>1165.159</td>\n",
       "    </tr>\n",
       "    <tr>\n",
       "      <th>2015-12-21</th>\n",
       "      <td>1396.454</td>\n",
       "    </tr>\n",
       "    <tr>\n",
       "      <th>2015-12-22</th>\n",
       "      <td>1379.031</td>\n",
       "    </tr>\n",
       "    <tr>\n",
       "      <th>2015-12-23</th>\n",
       "      <td>1312.974</td>\n",
       "    </tr>\n",
       "    <tr>\n",
       "      <th>2015-12-24</th>\n",
       "      <td>1121.944</td>\n",
       "    </tr>\n",
       "    <tr>\n",
       "      <th>2015-12-25</th>\n",
       "      <td>1047.277</td>\n",
       "    </tr>\n",
       "    <tr>\n",
       "      <th>2015-12-26</th>\n",
       "      <td>1049.349</td>\n",
       "    </tr>\n",
       "    <tr>\n",
       "      <th>2015-12-27</th>\n",
       "      <td>1068.214</td>\n",
       "    </tr>\n",
       "    <tr>\n",
       "      <th>2015-12-28</th>\n",
       "      <td>1219.075</td>\n",
       "    </tr>\n",
       "    <tr>\n",
       "      <th>2015-12-29</th>\n",
       "      <td>1233.660</td>\n",
       "    </tr>\n",
       "    <tr>\n",
       "      <th>2015-12-30</th>\n",
       "      <td>1238.863</td>\n",
       "    </tr>\n",
       "    <tr>\n",
       "      <th>2015-12-31</th>\n",
       "      <td>1158.103</td>\n",
       "    </tr>\n",
       "  </tbody>\n",
       "</table>\n",
       "</div>"
      ],
      "text/plain": [
       "            Consumption\n",
       "Date                   \n",
       "2015-12-01     1588.021\n",
       "2015-12-02     1585.308\n",
       "2015-12-03     1577.457\n",
       "2015-12-04     1570.318\n",
       "2015-12-05     1337.095\n",
       "2015-12-06     1232.073\n",
       "2015-12-07     1536.251\n",
       "2015-12-08     1572.740\n",
       "2015-12-09     1586.393\n",
       "2015-12-10     1596.593\n",
       "2015-12-11     1578.220\n",
       "2015-12-12     1334.376\n",
       "2015-12-13     1242.101\n",
       "2015-12-14     1554.947\n",
       "2015-12-15     1567.900\n",
       "2015-12-16     1562.404\n",
       "2015-12-17     1512.095\n",
       "2015-12-18     1462.443\n",
       "2015-12-19     1255.073\n",
       "2015-12-20     1165.159\n",
       "2015-12-21     1396.454\n",
       "2015-12-22     1379.031\n",
       "2015-12-23     1312.974\n",
       "2015-12-24     1121.944\n",
       "2015-12-25     1047.277\n",
       "2015-12-26     1049.349\n",
       "2015-12-27     1068.214\n",
       "2015-12-28     1219.075\n",
       "2015-12-29     1233.660\n",
       "2015-12-30     1238.863\n",
       "2015-12-31     1158.103"
      ]
     },
     "metadata": {},
     "output_type": "display_data"
    }
   ],
   "source": [
    "df.loc['2015-12']"
   ]
  },
  {
   "cell_type": "markdown",
   "id": "amateur-radius",
   "metadata": {},
   "source": [
    "And here is the average consumption of December 2015."
   ]
  },
  {
   "cell_type": "code",
   "execution_count": null,
   "id": "gorgeous-terrain",
   "metadata": {},
   "outputs": [
    {
     "data": {
      "text/plain": [
       "Consumption    1375.545516\n",
       "dtype: float64"
      ]
     },
     "metadata": {},
     "output_type": "display_data"
    }
   ],
   "source": [
    "df.loc['2015-12'].mean()"
   ]
  },
  {
   "cell_type": "markdown",
   "id": "alert-understanding",
   "metadata": {},
   "source": [
    "**Recap**: we have learnt how to access the elements of a time indexed dataframe."
   ]
  },
  {
   "cell_type": "markdown",
   "id": "eligible-acting",
   "metadata": {},
   "source": [
    "---\n",
    "\n",
    "#### Exercises\n",
    "\n",
    "Along with electric energy consumption, the [OPSD_Germany_all](https://raw.githubusercontent.com/fbagattini/Lezioni/master/data/OPSD_Germany_all.csv) dataset reports the daily production of solar and wind energy.\n",
    "\n",
    "1. Load the dataset as a dataframe, using Date as time index. Solar energy production is not available until December 31, 2011; from the dataframe, select only the records following this date.\n",
    "2. Create a column Renewable as the sum of solar and wind energy.\n",
    "3. Compute the ratio between a) the total renewable production of September 2014 and b) the total electric consumption of the same month.\n",
    "4. Using the indexing properties of Date (hint: `index.day_name()`), create the column 'Weekday' containing, for each record, the day of the week at which it's been observed (Monday, Tuesday,...).\n",
    "5. Create the dataframe `df_sunday_wind` containing (only) Sunday wind production.\n",
    "6. Compute the average Sunday wind production between January and March 2017 (included).\n",
    "7. Use the tools we have seen so far to plot the consumption of electric energy.\n",
    "8. Use the tools we have seen so far to plot the consumption of electric energy from November 2013 to June 2015.\n",
    "\n",
    "---\n",
    "\n",
    "### Categorical variables\n",
    "\n",
    "Until now, we faced only numerical values in our analysis, but is very common to have categorical variables in the data. \n",
    "As mentioned, these variables are typically stored as text values which represent various traits. Some examples include color (“Red”, “Yellow”, “Blue”), size (“Small”, “Medium”, “Large”) or geographic designations (State or Country).\n",
    "\n",
    "Let's read another dataset and try to work on this kind of variables."
   ]
  },
  {
   "cell_type": "code",
   "execution_count": 27,
   "metadata": {},
   "outputs": [
    {
     "name": "stdout",
     "output_type": "stream",
     "text": [
      "<class 'pandas.core.frame.DataFrame'>\n",
      "RangeIndex: 400 entries, 0 to 399\n",
      "Data columns (total 5 columns):\n",
      " #   Column     Non-Null Count  Dtype \n",
      "---  ------     --------------  ----- \n",
      " 0   Gender     400 non-null    object\n",
      " 1   Student    400 non-null    object\n",
      " 2   Married    400 non-null    object\n",
      " 3   Ethnicity  400 non-null    object\n",
      " 4   Rating     400 non-null    object\n",
      "dtypes: object(5)\n",
      "memory usage: 15.8+ KB\n"
     ]
    }
   ],
   "source": [
    "df = pd.read_csv(filepath_or_buffer=\"datasets/categorical.csv\")\n",
    "df.info()"
   ]
  },
  {
   "cell_type": "markdown",
   "metadata": {},
   "source": [
    "As one can notice, we only have `object` values."
   ]
  },
  {
   "cell_type": "code",
   "execution_count": 28,
   "metadata": {},
   "outputs": [
    {
     "data": {
      "text/html": [
       "<div>\n",
       "<style scoped>\n",
       "    .dataframe tbody tr th:only-of-type {\n",
       "        vertical-align: middle;\n",
       "    }\n",
       "\n",
       "    .dataframe tbody tr th {\n",
       "        vertical-align: top;\n",
       "    }\n",
       "\n",
       "    .dataframe thead th {\n",
       "        text-align: right;\n",
       "    }\n",
       "</style>\n",
       "<table border=\"1\" class=\"dataframe\">\n",
       "  <thead>\n",
       "    <tr style=\"text-align: right;\">\n",
       "      <th></th>\n",
       "      <th>Gender</th>\n",
       "      <th>Student</th>\n",
       "      <th>Married</th>\n",
       "      <th>Ethnicity</th>\n",
       "      <th>Rating</th>\n",
       "    </tr>\n",
       "  </thead>\n",
       "  <tbody>\n",
       "    <tr>\n",
       "      <th>0</th>\n",
       "      <td>Male</td>\n",
       "      <td>No</td>\n",
       "      <td>Yes</td>\n",
       "      <td>Caucasian</td>\n",
       "      <td>Low</td>\n",
       "    </tr>\n",
       "    <tr>\n",
       "      <th>1</th>\n",
       "      <td>Female</td>\n",
       "      <td>Yes</td>\n",
       "      <td>Yes</td>\n",
       "      <td>Asian</td>\n",
       "      <td>Premium</td>\n",
       "    </tr>\n",
       "    <tr>\n",
       "      <th>2</th>\n",
       "      <td>Male</td>\n",
       "      <td>No</td>\n",
       "      <td>No</td>\n",
       "      <td>Asian</td>\n",
       "      <td>Premium</td>\n",
       "    </tr>\n",
       "    <tr>\n",
       "      <th>3</th>\n",
       "      <td>Female</td>\n",
       "      <td>No</td>\n",
       "      <td>No</td>\n",
       "      <td>Asian</td>\n",
       "      <td>Premium</td>\n",
       "    </tr>\n",
       "    <tr>\n",
       "      <th>4</th>\n",
       "      <td>Male</td>\n",
       "      <td>No</td>\n",
       "      <td>Yes</td>\n",
       "      <td>Caucasian</td>\n",
       "      <td>Medium</td>\n",
       "    </tr>\n",
       "  </tbody>\n",
       "</table>\n",
       "</div>"
      ],
      "text/plain": [
       "   Gender Student Married  Ethnicity   Rating\n",
       "0    Male      No     Yes  Caucasian      Low\n",
       "1  Female     Yes     Yes      Asian  Premium\n",
       "2    Male      No      No      Asian  Premium\n",
       "3  Female      No      No      Asian  Premium\n",
       "4    Male      No     Yes  Caucasian   Medium"
      ]
     },
     "execution_count": 28,
     "metadata": {},
     "output_type": "execute_result"
    }
   ],
   "source": [
    "df.head()"
   ]
  },
  {
   "cell_type": "markdown",
   "metadata": {},
   "source": [
    "To deal with categorical variables, we have first to inspect about their meaning and structure, we can have:\n",
    "\n",
    "* __binary variables__: can have exactly two values, or categories (typically _flags_)\n",
    "* __polytomous variables__: have more than two possible categories, between them:\n",
    "    * __nominal variables__: there is no intrinsic ordering to the categories\n",
    "    * __ordinal variables__: there is a clear ordering of the variables\n",
    "\n",
    "#### Binary variables\n",
    "This kind of categories can be easily encoded creating a [_dummy variable_](https://en.wikipedia.org/wiki/Dummy_variable_(statistics)) for each category, that indicates with a value of zero or one the absence or presence of the attribute. This technique il called one hot encoding and is valid for binary and nominal variables.  \n",
    "We can see a practical example using the variable `Gender` of the dataset, that can have only two values: _'Female'_ or _'Male'_.  \n",
    "\n",
    "The objective is to make a transformation of the variable in order to obtain the following result:  \n",
    "\n",
    "\n",
    "|    | Gender   |   Gender_Male |\n",
    "|---:|:---------|--------------:|\n",
    "|  0 | Male     |             1 |\n",
    "|  1 | Female   |             0 |\n",
    "|  2 | Male     |             1 |\n",
    "|  3 | Female   |             0 |\n",
    "|  4 | Male     |             1 |\n",
    "\n",
    "Where the new column `Gender_Male` is valued $1$ when the record has the _masculinity_ property, $0$ otherwise.\n",
    "\n",
    "We could in principle create a second column, called `Gender_Female` but in our case (the dataset is not taking into account non-binary genders) this would carry the exact same amount of information of `Gender_Male` one (with $1$ and $0$ exchanged).\n",
    "\n",
    "Ona can encode binary categorical variables using `scikit-learn`. \n",
    "Indeed, the operation of encoding this kind of variables can be done using the [`OneHotEncoder` class object](https://scikit-learn.org/stable/modules/generated/sklearn.preprocessing.OneHotEncoder.html).\n",
    "\n",
    "In order to do so, let's instantiate the object."
   ]
  },
  {
   "cell_type": "code",
   "execution_count": 33,
   "metadata": {},
   "outputs": [],
   "source": [
    "ohe = OneHotEncoder(sparse=False, dtype=int) # Instance of the OneHotEncoder object"
   ]
  },
  {
   "cell_type": "markdown",
   "metadata": {},
   "source": [
    "The scikit-learn encoders need to be _fitted_ on data, _i.e._ they want to see data and establish which values they have to encode. In this case to which values they have to substitute $0$ and $1$.\n",
    "\n",
    "With this operation, the encoder reads and sorts the unique values in the variable and creates a rule of conversion to numeric values.\n",
    "Scikit-learn is quite flexible, meaning we can pass it a lot of different iterable types, however, we suggest to always pass numpy arrays, since at the end scikit-learn always tries to convert into such a form."
   ]
  },
  {
   "cell_type": "code",
   "execution_count": 37,
   "metadata": {},
   "outputs": [
    {
     "data": {
      "text/html": [
       "<style>#sk-1aa54352-b359-4e46-bdd2-0b16cdd1ec52 {color: black;background-color: white;}#sk-1aa54352-b359-4e46-bdd2-0b16cdd1ec52 pre{padding: 0;}#sk-1aa54352-b359-4e46-bdd2-0b16cdd1ec52 div.sk-toggleable {background-color: white;}#sk-1aa54352-b359-4e46-bdd2-0b16cdd1ec52 label.sk-toggleable__label {cursor: pointer;display: block;width: 100%;margin-bottom: 0;padding: 0.3em;box-sizing: border-box;text-align: center;}#sk-1aa54352-b359-4e46-bdd2-0b16cdd1ec52 label.sk-toggleable__label-arrow:before {content: \"▸\";float: left;margin-right: 0.25em;color: #696969;}#sk-1aa54352-b359-4e46-bdd2-0b16cdd1ec52 label.sk-toggleable__label-arrow:hover:before {color: black;}#sk-1aa54352-b359-4e46-bdd2-0b16cdd1ec52 div.sk-estimator:hover label.sk-toggleable__label-arrow:before {color: black;}#sk-1aa54352-b359-4e46-bdd2-0b16cdd1ec52 div.sk-toggleable__content {max-height: 0;max-width: 0;overflow: hidden;text-align: left;background-color: #f0f8ff;}#sk-1aa54352-b359-4e46-bdd2-0b16cdd1ec52 div.sk-toggleable__content pre {margin: 0.2em;color: black;border-radius: 0.25em;background-color: #f0f8ff;}#sk-1aa54352-b359-4e46-bdd2-0b16cdd1ec52 input.sk-toggleable__control:checked~div.sk-toggleable__content {max-height: 200px;max-width: 100%;overflow: auto;}#sk-1aa54352-b359-4e46-bdd2-0b16cdd1ec52 input.sk-toggleable__control:checked~label.sk-toggleable__label-arrow:before {content: \"▾\";}#sk-1aa54352-b359-4e46-bdd2-0b16cdd1ec52 div.sk-estimator input.sk-toggleable__control:checked~label.sk-toggleable__label {background-color: #d4ebff;}#sk-1aa54352-b359-4e46-bdd2-0b16cdd1ec52 div.sk-label input.sk-toggleable__control:checked~label.sk-toggleable__label {background-color: #d4ebff;}#sk-1aa54352-b359-4e46-bdd2-0b16cdd1ec52 input.sk-hidden--visually {border: 0;clip: rect(1px 1px 1px 1px);clip: rect(1px, 1px, 1px, 1px);height: 1px;margin: -1px;overflow: hidden;padding: 0;position: absolute;width: 1px;}#sk-1aa54352-b359-4e46-bdd2-0b16cdd1ec52 div.sk-estimator {font-family: monospace;background-color: #f0f8ff;border: 1px dotted black;border-radius: 0.25em;box-sizing: border-box;margin-bottom: 0.5em;}#sk-1aa54352-b359-4e46-bdd2-0b16cdd1ec52 div.sk-estimator:hover {background-color: #d4ebff;}#sk-1aa54352-b359-4e46-bdd2-0b16cdd1ec52 div.sk-parallel-item::after {content: \"\";width: 100%;border-bottom: 1px solid gray;flex-grow: 1;}#sk-1aa54352-b359-4e46-bdd2-0b16cdd1ec52 div.sk-label:hover label.sk-toggleable__label {background-color: #d4ebff;}#sk-1aa54352-b359-4e46-bdd2-0b16cdd1ec52 div.sk-serial::before {content: \"\";position: absolute;border-left: 1px solid gray;box-sizing: border-box;top: 2em;bottom: 0;left: 50%;}#sk-1aa54352-b359-4e46-bdd2-0b16cdd1ec52 div.sk-serial {display: flex;flex-direction: column;align-items: center;background-color: white;padding-right: 0.2em;padding-left: 0.2em;}#sk-1aa54352-b359-4e46-bdd2-0b16cdd1ec52 div.sk-item {z-index: 1;}#sk-1aa54352-b359-4e46-bdd2-0b16cdd1ec52 div.sk-parallel {display: flex;align-items: stretch;justify-content: center;background-color: white;}#sk-1aa54352-b359-4e46-bdd2-0b16cdd1ec52 div.sk-parallel::before {content: \"\";position: absolute;border-left: 1px solid gray;box-sizing: border-box;top: 2em;bottom: 0;left: 50%;}#sk-1aa54352-b359-4e46-bdd2-0b16cdd1ec52 div.sk-parallel-item {display: flex;flex-direction: column;position: relative;background-color: white;}#sk-1aa54352-b359-4e46-bdd2-0b16cdd1ec52 div.sk-parallel-item:first-child::after {align-self: flex-end;width: 50%;}#sk-1aa54352-b359-4e46-bdd2-0b16cdd1ec52 div.sk-parallel-item:last-child::after {align-self: flex-start;width: 50%;}#sk-1aa54352-b359-4e46-bdd2-0b16cdd1ec52 div.sk-parallel-item:only-child::after {width: 0;}#sk-1aa54352-b359-4e46-bdd2-0b16cdd1ec52 div.sk-dashed-wrapped {border: 1px dashed gray;margin: 0 0.4em 0.5em 0.4em;box-sizing: border-box;padding-bottom: 0.4em;background-color: white;position: relative;}#sk-1aa54352-b359-4e46-bdd2-0b16cdd1ec52 div.sk-label label {font-family: monospace;font-weight: bold;background-color: white;display: inline-block;line-height: 1.2em;}#sk-1aa54352-b359-4e46-bdd2-0b16cdd1ec52 div.sk-label-container {position: relative;z-index: 2;text-align: center;}#sk-1aa54352-b359-4e46-bdd2-0b16cdd1ec52 div.sk-container {/* jupyter's `normalize.less` sets `[hidden] { display: none; }` but bootstrap.min.css set `[hidden] { display: none !important; }` so we also need the `!important` here to be able to override the default hidden behavior on the sphinx rendered scikit-learn.org. See: https://github.com/scikit-learn/scikit-learn/issues/21755 */display: inline-block !important;position: relative;}#sk-1aa54352-b359-4e46-bdd2-0b16cdd1ec52 div.sk-text-repr-fallback {display: none;}</style><div id=\"sk-1aa54352-b359-4e46-bdd2-0b16cdd1ec52\" class=\"sk-top-container\"><div class=\"sk-text-repr-fallback\"><pre>OneHotEncoder(categories=&#x27;auto&#x27;, drop=None, dtype=&lt;class &#x27;int&#x27;&gt;,\n",
       "              handle_unknown=&#x27;error&#x27;, sparse=False)</pre><b>Please rerun this cell to show the HTML repr or trust the notebook.</b></div><div class=\"sk-container\" hidden><div class=\"sk-item\"><div class=\"sk-estimator sk-toggleable\"><input class=\"sk-toggleable__control sk-hidden--visually\" id=\"d745d21b-66bc-429a-a4f3-71b22cd12b7f\" type=\"checkbox\" checked><label for=\"d745d21b-66bc-429a-a4f3-71b22cd12b7f\" class=\"sk-toggleable__label sk-toggleable__label-arrow\">OneHotEncoder</label><div class=\"sk-toggleable__content\"><pre>OneHotEncoder(categories=&#x27;auto&#x27;, drop=None, dtype=&lt;class &#x27;int&#x27;&gt;,\n",
       "              handle_unknown=&#x27;error&#x27;, sparse=False)</pre></div></div></div></div></div>"
      ],
      "text/plain": [
       "OneHotEncoder(categories='auto', drop=None, dtype=<class 'int'>,\n",
       "              handle_unknown='error', sparse=False)"
      ]
     },
     "execution_count": 37,
     "metadata": {},
     "output_type": "execute_result"
    }
   ],
   "source": [
    "gender_array = df.Gender.values.reshape(-1, 1) # Assign this to a variable for the sake of readability\n",
    "ohe.fit(X = gender_array) # `values` attribute return the np.array related to pd.Series or pd.DataFrame"
   ]
  },
  {
   "cell_type": "markdown",
   "metadata": {},
   "source": [
    "We have now instantiated the encoder and created the conversion rules. We did not apply the rule on anything yet. \n",
    "We want to use the method `transform` to make the encoding of the variable and assign the result to the a new variable that we store in the column `gender_enc`. \n",
    "\n",
    "The object returned by the method is a numpy array with $2$ columns, for both female and male categories."
   ]
  },
  {
   "cell_type": "code",
   "execution_count": 38,
   "metadata": {},
   "outputs": [
    {
     "name": "stdout",
     "output_type": "stream",
     "text": [
      "gender encoded -> type object: <class 'numpy.ndarray'>, shape: (400, 2)\n"
     ]
    }
   ],
   "source": [
    "gender_enc = ohe.transform(X=gender_array)\n",
    "\n",
    "print(f\"gender encoded -> type object: {type(gender_enc)}, shape: {gender_enc.shape}\")"
   ]
  },
  {
   "cell_type": "markdown",
   "metadata": {},
   "source": [
    "Of course, we can use the fitted encoder to obtain the original values from the encoded data\n",
    "To do this, we can use the method `inverse_transform` of the encoded object to the encoded data."
   ]
  },
  {
   "cell_type": "code",
   "execution_count": 39,
   "metadata": {},
   "outputs": [],
   "source": [
    "gender_inv = ohe.inverse_transform(X=gender_enc)"
   ]
  },
  {
   "cell_type": "markdown",
   "metadata": {},
   "source": [
    "Naturally, now we want to compare original, encoded and inverted data.\n",
    "\n",
    "As we can see from the results, the encoded variable contains two columns: the first column indicates with 1 or 0 the absence or presence of the _Male_ value, while the second column is for the _Female_ category. \n",
    "\n",
    "However, we know that one of the assumption of the model studied since now is the lack of perfect [multicollinearity in the predictors](https://www.statology.org/perfect-multicollinearity/#:~:text=If%20the%20degree%20of%20correlation,exact%20linear%20relationship%20between%20them.), but now the encoded columns have this problem because every time that one column has a value, the other column's value changes."
   ]
  },
  {
   "cell_type": "code",
   "execution_count": 62,
   "metadata": {},
   "outputs": [
    {
     "name": "stdout",
     "output_type": "stream",
     "text": [
      "original \t encoded \t inverted\n",
      "['Male'] \t [1] \t\t ['Male']\n",
      "['Female'] \t [0] \t\t ['Female']\n",
      "['Male'] \t [1] \t\t ['Male']\n",
      "['Female'] \t [0] \t\t ['Female']\n",
      "['Male'] \t [1] \t\t ['Male']\n",
      "['Male'] \t [1] \t\t ['Male']\n",
      "['Female'] \t [0] \t\t ['Female']\n",
      "['Male'] \t [1] \t\t ['Male']\n",
      "['Female'] \t [0] \t\t ['Female']\n",
      "['Female'] \t [0] \t\t ['Female']\n"
     ]
    }
   ],
   "source": [
    "print(\"original \\t encoded \\t inverted\")\n",
    "\n",
    "for original, encoded, inverted in zip(gender_array[:10, :], gender_enc[:10, :], gender_inv[:10, :]):\n",
    "    print(f\"{original} \\t {encoded} \\t\\t {inverted}\")"
   ]
  },
  {
   "cell_type": "markdown",
   "metadata": {},
   "source": [
    "##### Multicollinearity issue\n",
    "How to face the multicollinearity problem?\n",
    "\n",
    "It is quite easy to face this issue: we can drop one of the two columns created by the encoder. \n",
    "To make this operation in an easy way, we can instance the encoder setting the attribute `drop=\"first\"`.\n",
    "\n",
    "Perform this operation have two benefits:\n",
    "\n",
    "1. avoid the multicollinearity problem;\n",
    "2. have the resulting array one dimension smaller.\n",
    "\n",
    "As we can see from the operation below, the array contains only the dummy variable for `Male` category."
   ]
  },
  {
   "cell_type": "code",
   "execution_count": 43,
   "metadata": {},
   "outputs": [
    {
     "name": "stdout",
     "output_type": "stream",
     "text": [
      "['x0_Male']\n",
      "[[1]\n",
      " [0]\n",
      " [1]\n",
      " [0]\n",
      " [1]\n",
      " [1]\n",
      " [0]\n",
      " [1]\n",
      " [0]\n",
      " [0]]\n"
     ]
    }
   ],
   "source": [
    "ohe = OneHotEncoder(drop=\"first\", sparse=False, dtype=int)\n",
    "gender_enc = ohe.fit_transform(X=gender_array)\n",
    "print(ohe.get_feature_names_out())\n",
    "print(gender_enc[:10, :])"
   ]
  },
  {
   "cell_type": "markdown",
   "metadata": {},
   "source": [
    "### Nominal variables\n",
    "\n",
    "The nominal variables are treated with the same technique saw before for binary variables, the main difference is that the encoder creates $n-1$ dummy variables from the original variable with $n$ categories. \n",
    "We can see a practical example using the variable `Ethnicity` of the dataset, that can have only three values: 'African American', 'Asian' and 'Caucasian'.\n",
    "\n",
    "The objective is to make a  variable transformation in order to obtain the following result\n",
    "\n",
    "|    | Ethnicity   |   Ethnicity_Asian |   Ethnicity_Caucasian |\n",
    "|---:|:------------|------------------:|----------------------:|\n",
    "|  0 | Caucasian   |                 0 |                     1 |\n",
    "|  1 | Asian       |                 1 |                     0 |\n",
    "|  2 | Asian       |                 1 |                     0 |\n",
    "|  3 | Asian       |                 1 |                     0 |\n",
    "|  4 | Caucasian   |                 0 |                     1 |\n",
    "\n",
    "_Quick question_: How the 'African American' category has been encoded?"
   ]
  },
  {
   "cell_type": "code",
   "execution_count": 44,
   "metadata": {},
   "outputs": [],
   "source": [
    "# Definition of the variable ethnicity containing the values to encode\n",
    "ethnicity_array = df[[\"Ethnicity\"]].values"
   ]
  },
  {
   "cell_type": "markdown",
   "metadata": {},
   "source": [
    "We can now fit the encoder on the suitable values. There exists an encoder method called `fit_transform` that in the same line of code, fits the encoder and then applies the transformation rules to the data."
   ]
  },
  {
   "cell_type": "code",
   "execution_count": 45,
   "metadata": {},
   "outputs": [],
   "source": [
    "ohe = OneHotEncoder(drop=\"first\", sparse=False, dtype=int)\n",
    "ethnicity_enc = ohe.fit_transform(X=ethnicity_array)"
   ]
  },
  {
   "cell_type": "markdown",
   "metadata": {},
   "source": [
    "As above, we want to compare original, encoded and inverted data.\n",
    "\n",
    "As the results show, the encoded variable contains two columns: the first column indicates with $1$ or $0$ the absence or presence of the Asian value, while the second column is for the Caucasian category. The presence of the attribute African American can be obtained by the linear combination of the other two column: in practise the value is present where the first two columns have both a value of $0$."
   ]
  },
  {
   "cell_type": "code",
   "execution_count": 49,
   "metadata": {},
   "outputs": [
    {
     "name": "stdout",
     "output_type": "stream",
     "text": [
      "original \t\t\t encoded\n",
      "['Caucasian'] \t\t\t [0 1]\n",
      "['Asian'] \t\t\t [1 0]\n",
      "['Asian'] \t\t\t [1 0]\n",
      "['Asian'] \t\t\t [1 0]\n",
      "['Caucasian'] \t\t\t [0 1]\n",
      "['Caucasian'] \t\t\t [0 1]\n",
      "['African American'] \t\t\t [0 0]\n",
      "['Asian'] \t\t\t [1 0]\n",
      "['Caucasian'] \t\t\t [0 1]\n",
      "['African American'] \t\t\t [0 0]\n"
     ]
    }
   ],
   "source": [
    "print(\"original \\t\\t\\t encoded\")\n",
    "\n",
    "for original, encoded in zip(ethnicity_array[:10, :], ethnicity_enc[:10, :]):\n",
    "    print(f\"{original} \\t\\t\\t {encoded}\")"
   ]
  },
  {
   "cell_type": "markdown",
   "metadata": {},
   "source": [
    "### Encode binary and nominal categorical variables using pandas\n",
    "\n",
    "It is possible to perform the same operations seen above using the function `get_dummies` of pandas, indicating the dataframe and the columns to transform. \n",
    "The use of this function is very useful if we want to encode the categorical columns and maintain the pandas dataframe structure, but we have to remember that operating in the whole dataset could lead to data leakage phenomena.\n",
    "\n",
    "Definition of the function:\n",
    "\n",
    "```python \n",
    "pandas.get_dummies(\n",
    "    data,\n",
    "    prefix=None,\n",
    "    prefix_sep='_',\n",
    "    dummy_na=False,\n",
    "    columns=None,\n",
    "    sparse=False,\n",
    "    drop_first=False,\n",
    "    dtype=None,\n",
    ") -> 'DataFrame'\n",
    "```\n",
    "\n",
    "Let's see it at work."
   ]
  },
  {
   "cell_type": "code",
   "execution_count": 50,
   "metadata": {},
   "outputs": [
    {
     "data": {
      "text/html": [
       "<div>\n",
       "<style scoped>\n",
       "    .dataframe tbody tr th:only-of-type {\n",
       "        vertical-align: middle;\n",
       "    }\n",
       "\n",
       "    .dataframe tbody tr th {\n",
       "        vertical-align: top;\n",
       "    }\n",
       "\n",
       "    .dataframe thead th {\n",
       "        text-align: right;\n",
       "    }\n",
       "</style>\n",
       "<table border=\"1\" class=\"dataframe\">\n",
       "  <thead>\n",
       "    <tr style=\"text-align: right;\">\n",
       "      <th></th>\n",
       "      <th>Rating</th>\n",
       "      <th>Gender_Male</th>\n",
       "      <th>Student_Yes</th>\n",
       "      <th>Married_Yes</th>\n",
       "      <th>Ethnicity_Asian</th>\n",
       "      <th>Ethnicity_Caucasian</th>\n",
       "    </tr>\n",
       "  </thead>\n",
       "  <tbody>\n",
       "    <tr>\n",
       "      <th>0</th>\n",
       "      <td>Low</td>\n",
       "      <td>1</td>\n",
       "      <td>0</td>\n",
       "      <td>1</td>\n",
       "      <td>0</td>\n",
       "      <td>1</td>\n",
       "    </tr>\n",
       "    <tr>\n",
       "      <th>1</th>\n",
       "      <td>Premium</td>\n",
       "      <td>0</td>\n",
       "      <td>1</td>\n",
       "      <td>1</td>\n",
       "      <td>1</td>\n",
       "      <td>0</td>\n",
       "    </tr>\n",
       "    <tr>\n",
       "      <th>2</th>\n",
       "      <td>Premium</td>\n",
       "      <td>1</td>\n",
       "      <td>0</td>\n",
       "      <td>0</td>\n",
       "      <td>1</td>\n",
       "      <td>0</td>\n",
       "    </tr>\n",
       "    <tr>\n",
       "      <th>3</th>\n",
       "      <td>Premium</td>\n",
       "      <td>0</td>\n",
       "      <td>0</td>\n",
       "      <td>0</td>\n",
       "      <td>1</td>\n",
       "      <td>0</td>\n",
       "    </tr>\n",
       "    <tr>\n",
       "      <th>4</th>\n",
       "      <td>Medium</td>\n",
       "      <td>1</td>\n",
       "      <td>0</td>\n",
       "      <td>1</td>\n",
       "      <td>0</td>\n",
       "      <td>1</td>\n",
       "    </tr>\n",
       "    <tr>\n",
       "      <th>...</th>\n",
       "      <td>...</td>\n",
       "      <td>...</td>\n",
       "      <td>...</td>\n",
       "      <td>...</td>\n",
       "      <td>...</td>\n",
       "      <td>...</td>\n",
       "    </tr>\n",
       "    <tr>\n",
       "      <th>395</th>\n",
       "      <td>Medium</td>\n",
       "      <td>1</td>\n",
       "      <td>0</td>\n",
       "      <td>1</td>\n",
       "      <td>0</td>\n",
       "      <td>1</td>\n",
       "    </tr>\n",
       "    <tr>\n",
       "      <th>396</th>\n",
       "      <td>Low</td>\n",
       "      <td>1</td>\n",
       "      <td>0</td>\n",
       "      <td>0</td>\n",
       "      <td>0</td>\n",
       "      <td>0</td>\n",
       "    </tr>\n",
       "    <tr>\n",
       "      <th>397</th>\n",
       "      <td>Medium</td>\n",
       "      <td>0</td>\n",
       "      <td>0</td>\n",
       "      <td>1</td>\n",
       "      <td>0</td>\n",
       "      <td>1</td>\n",
       "    </tr>\n",
       "    <tr>\n",
       "      <th>398</th>\n",
       "      <td>Very low</td>\n",
       "      <td>1</td>\n",
       "      <td>0</td>\n",
       "      <td>1</td>\n",
       "      <td>0</td>\n",
       "      <td>1</td>\n",
       "    </tr>\n",
       "    <tr>\n",
       "      <th>399</th>\n",
       "      <td>High</td>\n",
       "      <td>0</td>\n",
       "      <td>0</td>\n",
       "      <td>0</td>\n",
       "      <td>1</td>\n",
       "      <td>0</td>\n",
       "    </tr>\n",
       "  </tbody>\n",
       "</table>\n",
       "<p>400 rows × 6 columns</p>\n",
       "</div>"
      ],
      "text/plain": [
       "       Rating  Gender_Male  Student_Yes  Married_Yes  Ethnicity_Asian  \\\n",
       "0         Low            1            0            1                0   \n",
       "1     Premium            0            1            1                1   \n",
       "2     Premium            1            0            0                1   \n",
       "3     Premium            0            0            0                1   \n",
       "4      Medium            1            0            1                0   \n",
       "..        ...          ...          ...          ...              ...   \n",
       "395    Medium            1            0            1                0   \n",
       "396       Low            1            0            0                0   \n",
       "397    Medium            0            0            1                0   \n",
       "398  Very low            1            0            1                0   \n",
       "399      High            0            0            0                1   \n",
       "\n",
       "     Ethnicity_Caucasian  \n",
       "0                      1  \n",
       "1                      0  \n",
       "2                      0  \n",
       "3                      0  \n",
       "4                      1  \n",
       "..                   ...  \n",
       "395                    1  \n",
       "396                    0  \n",
       "397                    1  \n",
       "398                    1  \n",
       "399                    0  \n",
       "\n",
       "[400 rows x 6 columns]"
      ]
     },
     "execution_count": 50,
     "metadata": {},
     "output_type": "execute_result"
    }
   ],
   "source": [
    "df_enc = pd.get_dummies(data=df, columns=[\"Gender\", \"Student\", \"Married\", \"Ethnicity\"], drop_first=True)\n",
    "\n",
    "df_enc"
   ]
  },
  {
   "cell_type": "markdown",
   "metadata": {},
   "source": [
    "### Sparsity of matrices\n",
    "\n",
    "You may have noticed how the number of columns is increasing. Try to imagine how would transform a dataframe originally with three categorical column each with $37$ categories.\n",
    "\n",
    "This is one of the main problems of One Hot Encoding.\n",
    "\n",
    "### Ordinal variables\n",
    "\n",
    "The ordinal categories are one the most easy to encode because they have a logical order that can be used to map numerically the categories. \n",
    "The advantage of this kind of variables is that we can encode various categories in only one dimension without lose information.\n",
    "\n",
    "The objective is to make a transformation of the variable in order to obtain the following result\n",
    "\n",
    "|    | Rating   |   Rating Encoded |\n",
    "|---:|:---------|-----------------:|\n",
    "|  0 | Low      |                1 |\n",
    "|  1 | Premium  |                4 |\n",
    "|  2 | Premium  |                4 |\n",
    "|  3 | Premium  |                4 |\n",
    "|  4 | Medium   |                2 |\n",
    "\n",
    "There exists a specific object in scikit-learn for this, called (with a lack of imagination) `OrdinalEncoder`."
   ]
  },
  {
   "cell_type": "code",
   "execution_count": 51,
   "metadata": {},
   "outputs": [],
   "source": [
    "# Define array of categorical variable\n",
    "rating_array = df[[\"Rating\"]].values"
   ]
  },
  {
   "cell_type": "markdown",
   "metadata": {},
   "source": [
    "__Careful__: Check the order of the categories!\n",
    "\n",
    "Since the values are stored as strings, they are sorted in alphabetical order. The alphabetical order of the categories does not follow the logical one."
   ]
  },
  {
   "cell_type": "code",
   "execution_count": 53,
   "metadata": {},
   "outputs": [
    {
     "name": "stdout",
     "output_type": "stream",
     "text": [
      "['High' 'Low' 'Medium' 'Premium' 'Very low']\n"
     ]
    }
   ],
   "source": [
    "print(np.unique(ar=rating_array))"
   ]
  },
  {
   "cell_type": "markdown",
   "metadata": {},
   "source": [
    "Hence, let's encode ordinal categorical variables using scikit-learn.\n",
    "\n",
    "The operation of encoding this kind of variable can be done using the [`OrdinalEncoder` class object](https://scikit-learn.org/stable/modules/generated/sklearn.preprocessing.OrdinalEncoder.html), that encodes the variable make an alphabetical sorting of the categories, this means that if the categories does not follow this kind of logic, the encoding might be wrong. \n",
    "To perform the operation of encoding, we instance the encoder object using the data with custom sorting and assign to the parameter categories."
   ]
  },
  {
   "cell_type": "code",
   "execution_count": 54,
   "metadata": {},
   "outputs": [
    {
     "data": {
      "text/html": [
       "<style>#sk-374c89ee-6551-4bf1-bc44-2044cabdbd98 {color: black;background-color: white;}#sk-374c89ee-6551-4bf1-bc44-2044cabdbd98 pre{padding: 0;}#sk-374c89ee-6551-4bf1-bc44-2044cabdbd98 div.sk-toggleable {background-color: white;}#sk-374c89ee-6551-4bf1-bc44-2044cabdbd98 label.sk-toggleable__label {cursor: pointer;display: block;width: 100%;margin-bottom: 0;padding: 0.3em;box-sizing: border-box;text-align: center;}#sk-374c89ee-6551-4bf1-bc44-2044cabdbd98 label.sk-toggleable__label-arrow:before {content: \"▸\";float: left;margin-right: 0.25em;color: #696969;}#sk-374c89ee-6551-4bf1-bc44-2044cabdbd98 label.sk-toggleable__label-arrow:hover:before {color: black;}#sk-374c89ee-6551-4bf1-bc44-2044cabdbd98 div.sk-estimator:hover label.sk-toggleable__label-arrow:before {color: black;}#sk-374c89ee-6551-4bf1-bc44-2044cabdbd98 div.sk-toggleable__content {max-height: 0;max-width: 0;overflow: hidden;text-align: left;background-color: #f0f8ff;}#sk-374c89ee-6551-4bf1-bc44-2044cabdbd98 div.sk-toggleable__content pre {margin: 0.2em;color: black;border-radius: 0.25em;background-color: #f0f8ff;}#sk-374c89ee-6551-4bf1-bc44-2044cabdbd98 input.sk-toggleable__control:checked~div.sk-toggleable__content {max-height: 200px;max-width: 100%;overflow: auto;}#sk-374c89ee-6551-4bf1-bc44-2044cabdbd98 input.sk-toggleable__control:checked~label.sk-toggleable__label-arrow:before {content: \"▾\";}#sk-374c89ee-6551-4bf1-bc44-2044cabdbd98 div.sk-estimator input.sk-toggleable__control:checked~label.sk-toggleable__label {background-color: #d4ebff;}#sk-374c89ee-6551-4bf1-bc44-2044cabdbd98 div.sk-label input.sk-toggleable__control:checked~label.sk-toggleable__label {background-color: #d4ebff;}#sk-374c89ee-6551-4bf1-bc44-2044cabdbd98 input.sk-hidden--visually {border: 0;clip: rect(1px 1px 1px 1px);clip: rect(1px, 1px, 1px, 1px);height: 1px;margin: -1px;overflow: hidden;padding: 0;position: absolute;width: 1px;}#sk-374c89ee-6551-4bf1-bc44-2044cabdbd98 div.sk-estimator {font-family: monospace;background-color: #f0f8ff;border: 1px dotted black;border-radius: 0.25em;box-sizing: border-box;margin-bottom: 0.5em;}#sk-374c89ee-6551-4bf1-bc44-2044cabdbd98 div.sk-estimator:hover {background-color: #d4ebff;}#sk-374c89ee-6551-4bf1-bc44-2044cabdbd98 div.sk-parallel-item::after {content: \"\";width: 100%;border-bottom: 1px solid gray;flex-grow: 1;}#sk-374c89ee-6551-4bf1-bc44-2044cabdbd98 div.sk-label:hover label.sk-toggleable__label {background-color: #d4ebff;}#sk-374c89ee-6551-4bf1-bc44-2044cabdbd98 div.sk-serial::before {content: \"\";position: absolute;border-left: 1px solid gray;box-sizing: border-box;top: 2em;bottom: 0;left: 50%;}#sk-374c89ee-6551-4bf1-bc44-2044cabdbd98 div.sk-serial {display: flex;flex-direction: column;align-items: center;background-color: white;padding-right: 0.2em;padding-left: 0.2em;}#sk-374c89ee-6551-4bf1-bc44-2044cabdbd98 div.sk-item {z-index: 1;}#sk-374c89ee-6551-4bf1-bc44-2044cabdbd98 div.sk-parallel {display: flex;align-items: stretch;justify-content: center;background-color: white;}#sk-374c89ee-6551-4bf1-bc44-2044cabdbd98 div.sk-parallel::before {content: \"\";position: absolute;border-left: 1px solid gray;box-sizing: border-box;top: 2em;bottom: 0;left: 50%;}#sk-374c89ee-6551-4bf1-bc44-2044cabdbd98 div.sk-parallel-item {display: flex;flex-direction: column;position: relative;background-color: white;}#sk-374c89ee-6551-4bf1-bc44-2044cabdbd98 div.sk-parallel-item:first-child::after {align-self: flex-end;width: 50%;}#sk-374c89ee-6551-4bf1-bc44-2044cabdbd98 div.sk-parallel-item:last-child::after {align-self: flex-start;width: 50%;}#sk-374c89ee-6551-4bf1-bc44-2044cabdbd98 div.sk-parallel-item:only-child::after {width: 0;}#sk-374c89ee-6551-4bf1-bc44-2044cabdbd98 div.sk-dashed-wrapped {border: 1px dashed gray;margin: 0 0.4em 0.5em 0.4em;box-sizing: border-box;padding-bottom: 0.4em;background-color: white;position: relative;}#sk-374c89ee-6551-4bf1-bc44-2044cabdbd98 div.sk-label label {font-family: monospace;font-weight: bold;background-color: white;display: inline-block;line-height: 1.2em;}#sk-374c89ee-6551-4bf1-bc44-2044cabdbd98 div.sk-label-container {position: relative;z-index: 2;text-align: center;}#sk-374c89ee-6551-4bf1-bc44-2044cabdbd98 div.sk-container {/* jupyter's `normalize.less` sets `[hidden] { display: none; }` but bootstrap.min.css set `[hidden] { display: none !important; }` so we also need the `!important` here to be able to override the default hidden behavior on the sphinx rendered scikit-learn.org. See: https://github.com/scikit-learn/scikit-learn/issues/21755 */display: inline-block !important;position: relative;}#sk-374c89ee-6551-4bf1-bc44-2044cabdbd98 div.sk-text-repr-fallback {display: none;}</style><div id=\"sk-374c89ee-6551-4bf1-bc44-2044cabdbd98\" class=\"sk-top-container\"><div class=\"sk-text-repr-fallback\"><pre>OrdinalEncoder(categories=[[&#x27;Very low&#x27;, &#x27;Low&#x27;, &#x27;Medium&#x27;, &#x27;High&#x27;, &#x27;Premium&#x27;]],\n",
       "               dtype=&lt;class &#x27;int&#x27;&gt;, handle_unknown=&#x27;error&#x27;, unknown_value=None)</pre><b>Please rerun this cell to show the HTML repr or trust the notebook.</b></div><div class=\"sk-container\" hidden><div class=\"sk-item\"><div class=\"sk-estimator sk-toggleable\"><input class=\"sk-toggleable__control sk-hidden--visually\" id=\"4dd5211e-1332-43d2-8360-42f8c0791cf7\" type=\"checkbox\" checked><label for=\"4dd5211e-1332-43d2-8360-42f8c0791cf7\" class=\"sk-toggleable__label sk-toggleable__label-arrow\">OrdinalEncoder</label><div class=\"sk-toggleable__content\"><pre>OrdinalEncoder(categories=[[&#x27;Very low&#x27;, &#x27;Low&#x27;, &#x27;Medium&#x27;, &#x27;High&#x27;, &#x27;Premium&#x27;]],\n",
       "               dtype=&lt;class &#x27;int&#x27;&gt;, handle_unknown=&#x27;error&#x27;, unknown_value=None)</pre></div></div></div></div></div>"
      ],
      "text/plain": [
       "OrdinalEncoder(categories=[['Very low', 'Low', 'Medium', 'High', 'Premium']],\n",
       "               dtype=<class 'int'>, handle_unknown='error', unknown_value=None)"
      ]
     },
     "execution_count": 54,
     "metadata": {},
     "output_type": "execute_result"
    }
   ],
   "source": [
    "# Define categories in the right order\n",
    "categories = [['Very low', 'Low', 'Medium', 'High', 'Premium']]\n",
    "\n",
    "oe = OrdinalEncoder(categories=categories, dtype=int)\n",
    "oe"
   ]
  },
  {
   "cell_type": "markdown",
   "metadata": {},
   "source": [
    "We are now ready to fit and transform of the encoder on data."
   ]
  },
  {
   "cell_type": "code",
   "execution_count": 55,
   "metadata": {},
   "outputs": [],
   "source": [
    "rating_enc = oe.fit_transform(X=rating_array)"
   ]
  },
  {
   "cell_type": "markdown",
   "metadata": {},
   "source": [
    "Let's have a look at the encoded categories. This allows also to check whether the order is correct."
   ]
  },
  {
   "cell_type": "code",
   "execution_count": 56,
   "metadata": {},
   "outputs": [
    {
     "name": "stdout",
     "output_type": "stream",
     "text": [
      "[array(['Very low', 'Low', 'Medium', 'High', 'Premium'], dtype=object)]\n"
     ]
    }
   ],
   "source": [
    "print(oe.categories_)"
   ]
  },
  {
   "cell_type": "markdown",
   "metadata": {},
   "source": [
    "We can use the fitted encoder to obtain the original values from the encoded data.\n",
    "\n",
    "As per usual, to do this, we can use the method `inverse_transform` of the encoded object to the encoded data."
   ]
  },
  {
   "cell_type": "code",
   "execution_count": 57,
   "metadata": {},
   "outputs": [],
   "source": [
    "rating_inv = oe.inverse_transform(rating_enc)"
   ]
  },
  {
   "cell_type": "markdown",
   "metadata": {},
   "source": [
    "And again, let's compare original, encoded and inverted data."
   ]
  },
  {
   "cell_type": "code",
   "execution_count": 59,
   "metadata": {},
   "outputs": [
    {
     "name": "stdout",
     "output_type": "stream",
     "text": [
      "original \t encoded \t inverted\n",
      "['Low'] \t [1] \t\t ['Low']\n",
      "['Premium'] \t [4] \t\t ['Premium']\n",
      "['Premium'] \t [4] \t\t ['Premium']\n",
      "['Premium'] \t [4] \t\t ['Premium']\n",
      "['Medium'] \t [2] \t\t ['Medium']\n",
      "['Premium'] \t [4] \t\t ['Premium']\n",
      "['Low'] \t [1] \t\t ['Low']\n",
      "['Premium'] \t [4] \t\t ['Premium']\n",
      "['Low'] \t [1] \t\t ['Low']\n",
      "['Premium'] \t [4] \t\t ['Premium']\n"
     ]
    }
   ],
   "source": [
    "print(\"original \\t encoded \\t inverted\")\n",
    "\n",
    "for original, encoded, inverted in zip(rating_array[:10, :], rating_enc[:10, :], rating_inv[:10, :]):\n",
    "    print(f\"{original} \\t {encoded} \\t\\t {inverted}\")"
   ]
  },
  {
   "cell_type": "markdown",
   "metadata": {},
   "source": [
    "### Pandas encoding\n",
    "\n",
    "Of course, also in pandas there is a way to encode ordinal variables, however it does not exists a specific method to manipulate the ordinal categorical variables. \n",
    "It's possible to perform this operation creating a conversion dictionary and apply the encoding to the variable with the `map` method."
   ]
  },
  {
   "cell_type": "code",
   "execution_count": 63,
   "metadata": {},
   "outputs": [],
   "source": [
    "map_rating = {\n",
    "    'Very low': 0, \n",
    "    'Low': 1,\n",
    "    'Medium': 2,\n",
    "    'High': 3,\n",
    "    'Premium': 4\n",
    "}\n",
    "\n",
    "df_enc[\"Rating\"] = df_enc[\"Rating\"].map(map_rating)"
   ]
  },
  {
   "cell_type": "code",
   "execution_count": 64,
   "metadata": {},
   "outputs": [
    {
     "data": {
      "text/html": [
       "<div>\n",
       "<style scoped>\n",
       "    .dataframe tbody tr th:only-of-type {\n",
       "        vertical-align: middle;\n",
       "    }\n",
       "\n",
       "    .dataframe tbody tr th {\n",
       "        vertical-align: top;\n",
       "    }\n",
       "\n",
       "    .dataframe thead th {\n",
       "        text-align: right;\n",
       "    }\n",
       "</style>\n",
       "<table border=\"1\" class=\"dataframe\">\n",
       "  <thead>\n",
       "    <tr style=\"text-align: right;\">\n",
       "      <th></th>\n",
       "      <th>Rating</th>\n",
       "      <th>Gender_Male</th>\n",
       "      <th>Student_Yes</th>\n",
       "      <th>Married_Yes</th>\n",
       "      <th>Ethnicity_Asian</th>\n",
       "      <th>Ethnicity_Caucasian</th>\n",
       "    </tr>\n",
       "  </thead>\n",
       "  <tbody>\n",
       "    <tr>\n",
       "      <th>0</th>\n",
       "      <td>1</td>\n",
       "      <td>1</td>\n",
       "      <td>0</td>\n",
       "      <td>1</td>\n",
       "      <td>0</td>\n",
       "      <td>1</td>\n",
       "    </tr>\n",
       "    <tr>\n",
       "      <th>1</th>\n",
       "      <td>4</td>\n",
       "      <td>0</td>\n",
       "      <td>1</td>\n",
       "      <td>1</td>\n",
       "      <td>1</td>\n",
       "      <td>0</td>\n",
       "    </tr>\n",
       "    <tr>\n",
       "      <th>2</th>\n",
       "      <td>4</td>\n",
       "      <td>1</td>\n",
       "      <td>0</td>\n",
       "      <td>0</td>\n",
       "      <td>1</td>\n",
       "      <td>0</td>\n",
       "    </tr>\n",
       "    <tr>\n",
       "      <th>3</th>\n",
       "      <td>4</td>\n",
       "      <td>0</td>\n",
       "      <td>0</td>\n",
       "      <td>0</td>\n",
       "      <td>1</td>\n",
       "      <td>0</td>\n",
       "    </tr>\n",
       "    <tr>\n",
       "      <th>4</th>\n",
       "      <td>2</td>\n",
       "      <td>1</td>\n",
       "      <td>0</td>\n",
       "      <td>1</td>\n",
       "      <td>0</td>\n",
       "      <td>1</td>\n",
       "    </tr>\n",
       "    <tr>\n",
       "      <th>...</th>\n",
       "      <td>...</td>\n",
       "      <td>...</td>\n",
       "      <td>...</td>\n",
       "      <td>...</td>\n",
       "      <td>...</td>\n",
       "      <td>...</td>\n",
       "    </tr>\n",
       "    <tr>\n",
       "      <th>395</th>\n",
       "      <td>2</td>\n",
       "      <td>1</td>\n",
       "      <td>0</td>\n",
       "      <td>1</td>\n",
       "      <td>0</td>\n",
       "      <td>1</td>\n",
       "    </tr>\n",
       "    <tr>\n",
       "      <th>396</th>\n",
       "      <td>1</td>\n",
       "      <td>1</td>\n",
       "      <td>0</td>\n",
       "      <td>0</td>\n",
       "      <td>0</td>\n",
       "      <td>0</td>\n",
       "    </tr>\n",
       "    <tr>\n",
       "      <th>397</th>\n",
       "      <td>2</td>\n",
       "      <td>0</td>\n",
       "      <td>0</td>\n",
       "      <td>1</td>\n",
       "      <td>0</td>\n",
       "      <td>1</td>\n",
       "    </tr>\n",
       "    <tr>\n",
       "      <th>398</th>\n",
       "      <td>0</td>\n",
       "      <td>1</td>\n",
       "      <td>0</td>\n",
       "      <td>1</td>\n",
       "      <td>0</td>\n",
       "      <td>1</td>\n",
       "    </tr>\n",
       "    <tr>\n",
       "      <th>399</th>\n",
       "      <td>3</td>\n",
       "      <td>0</td>\n",
       "      <td>0</td>\n",
       "      <td>0</td>\n",
       "      <td>1</td>\n",
       "      <td>0</td>\n",
       "    </tr>\n",
       "  </tbody>\n",
       "</table>\n",
       "<p>400 rows × 6 columns</p>\n",
       "</div>"
      ],
      "text/plain": [
       "     Rating  Gender_Male  Student_Yes  Married_Yes  Ethnicity_Asian  \\\n",
       "0         1            1            0            1                0   \n",
       "1         4            0            1            1                1   \n",
       "2         4            1            0            0                1   \n",
       "3         4            0            0            0                1   \n",
       "4         2            1            0            1                0   \n",
       "..      ...          ...          ...          ...              ...   \n",
       "395       2            1            0            1                0   \n",
       "396       1            1            0            0                0   \n",
       "397       2            0            0            1                0   \n",
       "398       0            1            0            1                0   \n",
       "399       3            0            0            0                1   \n",
       "\n",
       "     Ethnicity_Caucasian  \n",
       "0                      1  \n",
       "1                      0  \n",
       "2                      0  \n",
       "3                      0  \n",
       "4                      1  \n",
       "..                   ...  \n",
       "395                    1  \n",
       "396                    0  \n",
       "397                    1  \n",
       "398                    1  \n",
       "399                    0  \n",
       "\n",
       "[400 rows x 6 columns]"
      ]
     },
     "execution_count": 64,
     "metadata": {},
     "output_type": "execute_result"
    }
   ],
   "source": [
    "df_enc"
   ]
  },
  {
   "cell_type": "markdown",
   "metadata": {},
   "source": [
    "#### Transform heterogeneous data using scikit-learn\n",
    "\n",
    "When we have to encode different kinds of variables could be difficult to encode them properly. \n",
    "\n",
    "In these situations `scikit-learn` provides two composers that allows to transform different columns simultaneously called [`make_column_transformer`](https://scikit-learn.org/stable/modules/generated/sklearn.compose.make_column_transformer.html) and [`ColumnTransformer`]( https://scikit-learn.org/stable/modules/generated/sklearn.compose.ColumnTransformer.html). \n",
    "\n",
    "These objects accepts every imputer, transformer and encoder (and other objects too) that have the methods fit and transform.  \n",
    "\n",
    "One of the advantages of this composer is that applies different transformers (also _Scalers_ or _Imputers_) to columns of a numpy array or pandas DataFrame. \n",
    "For this example, we transform directly the dataframe columns without make any conversion of the data to a numpy array."
   ]
  },
  {
   "cell_type": "code",
   "execution_count": 65,
   "metadata": {},
   "outputs": [],
   "source": [
    "# Import a new dataframe\n",
    "df = pd.read_csv(\"datasets/heterogeneous_data.csv\")"
   ]
  },
  {
   "cell_type": "code",
   "execution_count": 66,
   "metadata": {
    "scrolled": false
   },
   "outputs": [
    {
     "data": {
      "text/html": [
       "<div>\n",
       "<style scoped>\n",
       "    .dataframe tbody tr th:only-of-type {\n",
       "        vertical-align: middle;\n",
       "    }\n",
       "\n",
       "    .dataframe tbody tr th {\n",
       "        vertical-align: top;\n",
       "    }\n",
       "\n",
       "    .dataframe thead th {\n",
       "        text-align: right;\n",
       "    }\n",
       "</style>\n",
       "<table border=\"1\" class=\"dataframe\">\n",
       "  <thead>\n",
       "    <tr style=\"text-align: right;\">\n",
       "      <th></th>\n",
       "      <th>Gender</th>\n",
       "      <th>Student</th>\n",
       "      <th>Married</th>\n",
       "      <th>Ethnicity</th>\n",
       "      <th>Rating</th>\n",
       "      <th>Age</th>\n",
       "      <th>Income</th>\n",
       "      <th>Education Years</th>\n",
       "    </tr>\n",
       "  </thead>\n",
       "  <tbody>\n",
       "    <tr>\n",
       "      <th>0</th>\n",
       "      <td>Male</td>\n",
       "      <td>No</td>\n",
       "      <td>Yes</td>\n",
       "      <td>Caucasian</td>\n",
       "      <td>Low</td>\n",
       "      <td>34</td>\n",
       "      <td>14.891</td>\n",
       "      <td>11</td>\n",
       "    </tr>\n",
       "    <tr>\n",
       "      <th>1</th>\n",
       "      <td>Female</td>\n",
       "      <td>Yes</td>\n",
       "      <td>Yes</td>\n",
       "      <td>Asian</td>\n",
       "      <td>Premium</td>\n",
       "      <td>82</td>\n",
       "      <td>106.025</td>\n",
       "      <td>15</td>\n",
       "    </tr>\n",
       "    <tr>\n",
       "      <th>2</th>\n",
       "      <td>Male</td>\n",
       "      <td>No</td>\n",
       "      <td>No</td>\n",
       "      <td>Asian</td>\n",
       "      <td>Premium</td>\n",
       "      <td>71</td>\n",
       "      <td>104.593</td>\n",
       "      <td>11</td>\n",
       "    </tr>\n",
       "    <tr>\n",
       "      <th>3</th>\n",
       "      <td>Female</td>\n",
       "      <td>No</td>\n",
       "      <td>No</td>\n",
       "      <td>Asian</td>\n",
       "      <td>Premium</td>\n",
       "      <td>36</td>\n",
       "      <td>148.924</td>\n",
       "      <td>11</td>\n",
       "    </tr>\n",
       "    <tr>\n",
       "      <th>4</th>\n",
       "      <td>Male</td>\n",
       "      <td>No</td>\n",
       "      <td>Yes</td>\n",
       "      <td>Caucasian</td>\n",
       "      <td>Medium</td>\n",
       "      <td>68</td>\n",
       "      <td>55.882</td>\n",
       "      <td>16</td>\n",
       "    </tr>\n",
       "    <tr>\n",
       "      <th>5</th>\n",
       "      <td>Male</td>\n",
       "      <td>No</td>\n",
       "      <td>No</td>\n",
       "      <td>Caucasian</td>\n",
       "      <td>Premium</td>\n",
       "      <td>77</td>\n",
       "      <td>80.180</td>\n",
       "      <td>10</td>\n",
       "    </tr>\n",
       "    <tr>\n",
       "      <th>6</th>\n",
       "      <td>Female</td>\n",
       "      <td>No</td>\n",
       "      <td>No</td>\n",
       "      <td>African American</td>\n",
       "      <td>Low</td>\n",
       "      <td>37</td>\n",
       "      <td>20.996</td>\n",
       "      <td>12</td>\n",
       "    </tr>\n",
       "    <tr>\n",
       "      <th>7</th>\n",
       "      <td>Male</td>\n",
       "      <td>No</td>\n",
       "      <td>No</td>\n",
       "      <td>Asian</td>\n",
       "      <td>Premium</td>\n",
       "      <td>87</td>\n",
       "      <td>71.408</td>\n",
       "      <td>9</td>\n",
       "    </tr>\n",
       "    <tr>\n",
       "      <th>8</th>\n",
       "      <td>Female</td>\n",
       "      <td>No</td>\n",
       "      <td>No</td>\n",
       "      <td>Caucasian</td>\n",
       "      <td>Low</td>\n",
       "      <td>66</td>\n",
       "      <td>15.125</td>\n",
       "      <td>13</td>\n",
       "    </tr>\n",
       "    <tr>\n",
       "      <th>9</th>\n",
       "      <td>Female</td>\n",
       "      <td>Yes</td>\n",
       "      <td>Yes</td>\n",
       "      <td>African American</td>\n",
       "      <td>Premium</td>\n",
       "      <td>41</td>\n",
       "      <td>71.061</td>\n",
       "      <td>19</td>\n",
       "    </tr>\n",
       "  </tbody>\n",
       "</table>\n",
       "</div>"
      ],
      "text/plain": [
       "   Gender Student Married         Ethnicity   Rating  Age   Income  \\\n",
       "0    Male      No     Yes         Caucasian      Low   34   14.891   \n",
       "1  Female     Yes     Yes             Asian  Premium   82  106.025   \n",
       "2    Male      No      No             Asian  Premium   71  104.593   \n",
       "3  Female      No      No             Asian  Premium   36  148.924   \n",
       "4    Male      No     Yes         Caucasian   Medium   68   55.882   \n",
       "5    Male      No      No         Caucasian  Premium   77   80.180   \n",
       "6  Female      No      No  African American      Low   37   20.996   \n",
       "7    Male      No      No             Asian  Premium   87   71.408   \n",
       "8  Female      No      No         Caucasian      Low   66   15.125   \n",
       "9  Female     Yes     Yes  African American  Premium   41   71.061   \n",
       "\n",
       "   Education Years  \n",
       "0               11  \n",
       "1               15  \n",
       "2               11  \n",
       "3               11  \n",
       "4               16  \n",
       "5               10  \n",
       "6               12  \n",
       "7                9  \n",
       "8               13  \n",
       "9               19  "
      ]
     },
     "execution_count": 66,
     "metadata": {},
     "output_type": "execute_result"
    }
   ],
   "source": [
    "df.head(10)"
   ]
  },
  {
   "cell_type": "markdown",
   "metadata": {},
   "source": [
    "#### Using `ColumnTransformer`\n",
    "\n",
    "During the definition of the composer, inside the parameter `transformers` we have to define a list of tuples that includes for each transformer the name, the transformer object and the columns to transform.  \n",
    "\n",
    "Definition of the object:\n",
    "\n",
    "```python \n",
    "ColumnTransformer(\n",
    "    transformers,\n",
    "    remainder='drop',\n",
    "    sparse_threshold=0.3,\n",
    "    n_jobs=None,\n",
    "    transformer_weights=None,\n",
    "    verbose=False,\n",
    ")\n",
    "```"
   ]
  },
  {
   "cell_type": "code",
   "execution_count": 67,
   "metadata": {},
   "outputs": [
    {
     "data": {
      "text/html": [
       "<style>#sk-b47ee4bb-bdb4-4912-8454-e8f3bb72b891 {color: black;background-color: white;}#sk-b47ee4bb-bdb4-4912-8454-e8f3bb72b891 pre{padding: 0;}#sk-b47ee4bb-bdb4-4912-8454-e8f3bb72b891 div.sk-toggleable {background-color: white;}#sk-b47ee4bb-bdb4-4912-8454-e8f3bb72b891 label.sk-toggleable__label {cursor: pointer;display: block;width: 100%;margin-bottom: 0;padding: 0.3em;box-sizing: border-box;text-align: center;}#sk-b47ee4bb-bdb4-4912-8454-e8f3bb72b891 label.sk-toggleable__label-arrow:before {content: \"▸\";float: left;margin-right: 0.25em;color: #696969;}#sk-b47ee4bb-bdb4-4912-8454-e8f3bb72b891 label.sk-toggleable__label-arrow:hover:before {color: black;}#sk-b47ee4bb-bdb4-4912-8454-e8f3bb72b891 div.sk-estimator:hover label.sk-toggleable__label-arrow:before {color: black;}#sk-b47ee4bb-bdb4-4912-8454-e8f3bb72b891 div.sk-toggleable__content {max-height: 0;max-width: 0;overflow: hidden;text-align: left;background-color: #f0f8ff;}#sk-b47ee4bb-bdb4-4912-8454-e8f3bb72b891 div.sk-toggleable__content pre {margin: 0.2em;color: black;border-radius: 0.25em;background-color: #f0f8ff;}#sk-b47ee4bb-bdb4-4912-8454-e8f3bb72b891 input.sk-toggleable__control:checked~div.sk-toggleable__content {max-height: 200px;max-width: 100%;overflow: auto;}#sk-b47ee4bb-bdb4-4912-8454-e8f3bb72b891 input.sk-toggleable__control:checked~label.sk-toggleable__label-arrow:before {content: \"▾\";}#sk-b47ee4bb-bdb4-4912-8454-e8f3bb72b891 div.sk-estimator input.sk-toggleable__control:checked~label.sk-toggleable__label {background-color: #d4ebff;}#sk-b47ee4bb-bdb4-4912-8454-e8f3bb72b891 div.sk-label input.sk-toggleable__control:checked~label.sk-toggleable__label {background-color: #d4ebff;}#sk-b47ee4bb-bdb4-4912-8454-e8f3bb72b891 input.sk-hidden--visually {border: 0;clip: rect(1px 1px 1px 1px);clip: rect(1px, 1px, 1px, 1px);height: 1px;margin: -1px;overflow: hidden;padding: 0;position: absolute;width: 1px;}#sk-b47ee4bb-bdb4-4912-8454-e8f3bb72b891 div.sk-estimator {font-family: monospace;background-color: #f0f8ff;border: 1px dotted black;border-radius: 0.25em;box-sizing: border-box;margin-bottom: 0.5em;}#sk-b47ee4bb-bdb4-4912-8454-e8f3bb72b891 div.sk-estimator:hover {background-color: #d4ebff;}#sk-b47ee4bb-bdb4-4912-8454-e8f3bb72b891 div.sk-parallel-item::after {content: \"\";width: 100%;border-bottom: 1px solid gray;flex-grow: 1;}#sk-b47ee4bb-bdb4-4912-8454-e8f3bb72b891 div.sk-label:hover label.sk-toggleable__label {background-color: #d4ebff;}#sk-b47ee4bb-bdb4-4912-8454-e8f3bb72b891 div.sk-serial::before {content: \"\";position: absolute;border-left: 1px solid gray;box-sizing: border-box;top: 2em;bottom: 0;left: 50%;}#sk-b47ee4bb-bdb4-4912-8454-e8f3bb72b891 div.sk-serial {display: flex;flex-direction: column;align-items: center;background-color: white;padding-right: 0.2em;padding-left: 0.2em;}#sk-b47ee4bb-bdb4-4912-8454-e8f3bb72b891 div.sk-item {z-index: 1;}#sk-b47ee4bb-bdb4-4912-8454-e8f3bb72b891 div.sk-parallel {display: flex;align-items: stretch;justify-content: center;background-color: white;}#sk-b47ee4bb-bdb4-4912-8454-e8f3bb72b891 div.sk-parallel::before {content: \"\";position: absolute;border-left: 1px solid gray;box-sizing: border-box;top: 2em;bottom: 0;left: 50%;}#sk-b47ee4bb-bdb4-4912-8454-e8f3bb72b891 div.sk-parallel-item {display: flex;flex-direction: column;position: relative;background-color: white;}#sk-b47ee4bb-bdb4-4912-8454-e8f3bb72b891 div.sk-parallel-item:first-child::after {align-self: flex-end;width: 50%;}#sk-b47ee4bb-bdb4-4912-8454-e8f3bb72b891 div.sk-parallel-item:last-child::after {align-self: flex-start;width: 50%;}#sk-b47ee4bb-bdb4-4912-8454-e8f3bb72b891 div.sk-parallel-item:only-child::after {width: 0;}#sk-b47ee4bb-bdb4-4912-8454-e8f3bb72b891 div.sk-dashed-wrapped {border: 1px dashed gray;margin: 0 0.4em 0.5em 0.4em;box-sizing: border-box;padding-bottom: 0.4em;background-color: white;position: relative;}#sk-b47ee4bb-bdb4-4912-8454-e8f3bb72b891 div.sk-label label {font-family: monospace;font-weight: bold;background-color: white;display: inline-block;line-height: 1.2em;}#sk-b47ee4bb-bdb4-4912-8454-e8f3bb72b891 div.sk-label-container {position: relative;z-index: 2;text-align: center;}#sk-b47ee4bb-bdb4-4912-8454-e8f3bb72b891 div.sk-container {/* jupyter's `normalize.less` sets `[hidden] { display: none; }` but bootstrap.min.css set `[hidden] { display: none !important; }` so we also need the `!important` here to be able to override the default hidden behavior on the sphinx rendered scikit-learn.org. See: https://github.com/scikit-learn/scikit-learn/issues/21755 */display: inline-block !important;position: relative;}#sk-b47ee4bb-bdb4-4912-8454-e8f3bb72b891 div.sk-text-repr-fallback {display: none;}</style><div id=\"sk-b47ee4bb-bdb4-4912-8454-e8f3bb72b891\" class=\"sk-top-container\"><div class=\"sk-text-repr-fallback\"><pre>ColumnTransformer(n_jobs=None, remainder=&#x27;drop&#x27;, sparse_threshold=0.3,\n",
       "                  transformer_weights=None,\n",
       "                  transformers=[(&#x27;MinMax&#x27;,\n",
       "                                 MinMaxScaler(clip=False, copy=True,\n",
       "                                              feature_range=(0, 1)),\n",
       "                                 [&#x27;Age&#x27;, &#x27;Income&#x27;, &#x27;Education Years&#x27;]),\n",
       "                                (&#x27;OneHot&#x27;,\n",
       "                                 OneHotEncoder(categories=&#x27;auto&#x27;, drop=&#x27;first&#x27;,\n",
       "                                               dtype=&lt;class &#x27;int&#x27;&gt;,\n",
       "                                               handle_unknown=&#x27;error&#x27;,\n",
       "                                               sparse=False),\n",
       "                                 [&#x27;Gender&#x27;, &#x27;Student&#x27;, &#x27;Married&#x27;, &#x27;Ethnicity&#x27;]),\n",
       "                                (&#x27;Ordinal&#x27;,\n",
       "                                 OrdinalEncoder(categories=[[&#x27;Very low&#x27;, &#x27;Low&#x27;,\n",
       "                                                             &#x27;Medium&#x27;, &#x27;High&#x27;,\n",
       "                                                             &#x27;Premium&#x27;]],\n",
       "                                                dtype=&lt;class &#x27;int&#x27;&gt;,\n",
       "                                                handle_unknown=&#x27;error&#x27;,\n",
       "                                                unknown_value=None),\n",
       "                                 [&#x27;Rating&#x27;])],\n",
       "                  verbose=False, verbose_feature_names_out=True)</pre><b>Please rerun this cell to show the HTML repr or trust the notebook.</b></div><div class=\"sk-container\" hidden><div class=\"sk-item sk-dashed-wrapped\"><div class=\"sk-label-container\"><div class=\"sk-label sk-toggleable\"><input class=\"sk-toggleable__control sk-hidden--visually\" id=\"daf7bb67-5250-45bc-8fa4-dd8d8f58a723\" type=\"checkbox\" ><label for=\"daf7bb67-5250-45bc-8fa4-dd8d8f58a723\" class=\"sk-toggleable__label sk-toggleable__label-arrow\">ColumnTransformer</label><div class=\"sk-toggleable__content\"><pre>ColumnTransformer(n_jobs=None, remainder=&#x27;drop&#x27;, sparse_threshold=0.3,\n",
       "                  transformer_weights=None,\n",
       "                  transformers=[(&#x27;MinMax&#x27;,\n",
       "                                 MinMaxScaler(clip=False, copy=True,\n",
       "                                              feature_range=(0, 1)),\n",
       "                                 [&#x27;Age&#x27;, &#x27;Income&#x27;, &#x27;Education Years&#x27;]),\n",
       "                                (&#x27;OneHot&#x27;,\n",
       "                                 OneHotEncoder(categories=&#x27;auto&#x27;, drop=&#x27;first&#x27;,\n",
       "                                               dtype=&lt;class &#x27;int&#x27;&gt;,\n",
       "                                               handle_unknown=&#x27;error&#x27;,\n",
       "                                               sparse=False),\n",
       "                                 [&#x27;Gender&#x27;, &#x27;Student&#x27;, &#x27;Married&#x27;, &#x27;Ethnicity&#x27;]),\n",
       "                                (&#x27;Ordinal&#x27;,\n",
       "                                 OrdinalEncoder(categories=[[&#x27;Very low&#x27;, &#x27;Low&#x27;,\n",
       "                                                             &#x27;Medium&#x27;, &#x27;High&#x27;,\n",
       "                                                             &#x27;Premium&#x27;]],\n",
       "                                                dtype=&lt;class &#x27;int&#x27;&gt;,\n",
       "                                                handle_unknown=&#x27;error&#x27;,\n",
       "                                                unknown_value=None),\n",
       "                                 [&#x27;Rating&#x27;])],\n",
       "                  verbose=False, verbose_feature_names_out=True)</pre></div></div></div><div class=\"sk-parallel\"><div class=\"sk-parallel-item\"><div class=\"sk-item\"><div class=\"sk-label-container\"><div class=\"sk-label sk-toggleable\"><input class=\"sk-toggleable__control sk-hidden--visually\" id=\"66c78d39-f182-4892-bf9a-b5ba9d79d667\" type=\"checkbox\" ><label for=\"66c78d39-f182-4892-bf9a-b5ba9d79d667\" class=\"sk-toggleable__label sk-toggleable__label-arrow\">MinMax</label><div class=\"sk-toggleable__content\"><pre>[&#x27;Age&#x27;, &#x27;Income&#x27;, &#x27;Education Years&#x27;]</pre></div></div></div><div class=\"sk-serial\"><div class=\"sk-item\"><div class=\"sk-estimator sk-toggleable\"><input class=\"sk-toggleable__control sk-hidden--visually\" id=\"c5e8914b-bd3c-487a-a151-eb027f8fd266\" type=\"checkbox\" ><label for=\"c5e8914b-bd3c-487a-a151-eb027f8fd266\" class=\"sk-toggleable__label sk-toggleable__label-arrow\">MinMaxScaler</label><div class=\"sk-toggleable__content\"><pre>MinMaxScaler()</pre></div></div></div></div></div></div><div class=\"sk-parallel-item\"><div class=\"sk-item\"><div class=\"sk-label-container\"><div class=\"sk-label sk-toggleable\"><input class=\"sk-toggleable__control sk-hidden--visually\" id=\"29748331-edc8-4afa-aee3-f18fda6243e6\" type=\"checkbox\" ><label for=\"29748331-edc8-4afa-aee3-f18fda6243e6\" class=\"sk-toggleable__label sk-toggleable__label-arrow\">OneHot</label><div class=\"sk-toggleable__content\"><pre>[&#x27;Gender&#x27;, &#x27;Student&#x27;, &#x27;Married&#x27;, &#x27;Ethnicity&#x27;]</pre></div></div></div><div class=\"sk-serial\"><div class=\"sk-item\"><div class=\"sk-estimator sk-toggleable\"><input class=\"sk-toggleable__control sk-hidden--visually\" id=\"862a0a02-edb3-400d-9a21-d52af1037133\" type=\"checkbox\" ><label for=\"862a0a02-edb3-400d-9a21-d52af1037133\" class=\"sk-toggleable__label sk-toggleable__label-arrow\">OneHotEncoder</label><div class=\"sk-toggleable__content\"><pre>OneHotEncoder(drop=&#x27;first&#x27;, dtype=&lt;class &#x27;int&#x27;&gt;, sparse=False)</pre></div></div></div></div></div></div><div class=\"sk-parallel-item\"><div class=\"sk-item\"><div class=\"sk-label-container\"><div class=\"sk-label sk-toggleable\"><input class=\"sk-toggleable__control sk-hidden--visually\" id=\"a30405c3-ddec-41b5-a91d-855e3deb4b8a\" type=\"checkbox\" ><label for=\"a30405c3-ddec-41b5-a91d-855e3deb4b8a\" class=\"sk-toggleable__label sk-toggleable__label-arrow\">Ordinal</label><div class=\"sk-toggleable__content\"><pre>[&#x27;Rating&#x27;]</pre></div></div></div><div class=\"sk-serial\"><div class=\"sk-item\"><div class=\"sk-estimator sk-toggleable\"><input class=\"sk-toggleable__control sk-hidden--visually\" id=\"0aa5352b-d8e9-4ec8-be72-bf9910e4de50\" type=\"checkbox\" ><label for=\"0aa5352b-d8e9-4ec8-be72-bf9910e4de50\" class=\"sk-toggleable__label sk-toggleable__label-arrow\">OrdinalEncoder</label><div class=\"sk-toggleable__content\"><pre>OrdinalEncoder(categories=[[&#x27;Very low&#x27;, &#x27;Low&#x27;, &#x27;Medium&#x27;, &#x27;High&#x27;, &#x27;Premium&#x27;]],\n",
       "               dtype=&lt;class &#x27;int&#x27;&gt;)</pre></div></div></div></div></div></div></div></div></div></div>"
      ],
      "text/plain": [
       "ColumnTransformer(n_jobs=None, remainder='drop', sparse_threshold=0.3,\n",
       "                  transformer_weights=None,\n",
       "                  transformers=[('MinMax',\n",
       "                                 MinMaxScaler(clip=False, copy=True,\n",
       "                                              feature_range=(0, 1)),\n",
       "                                 ['Age', 'Income', 'Education Years']),\n",
       "                                ('OneHot',\n",
       "                                 OneHotEncoder(categories='auto', drop='first',\n",
       "                                               dtype=<class 'int'>,\n",
       "                                               handle_unknown='error',\n",
       "                                               sparse=False),\n",
       "                                 ['Gender', 'Student', 'Married', 'Ethnicity']),\n",
       "                                ('Ordinal',\n",
       "                                 OrdinalEncoder(categories=[['Very low', 'Low',\n",
       "                                                             'Medium', 'High',\n",
       "                                                             'Premium']],\n",
       "                                                dtype=<class 'int'>,\n",
       "                                                handle_unknown='error',\n",
       "                                                unknown_value=None),\n",
       "                                 ['Rating'])],\n",
       "                  verbose=False, verbose_feature_names_out=True)"
      ]
     },
     "execution_count": 67,
     "metadata": {},
     "output_type": "execute_result"
    }
   ],
   "source": [
    "categories = [['Very low', 'Low', 'Medium', 'High', 'Premium']]\n",
    "\n",
    "ct = ColumnTransformer(transformers=[\n",
    "    (\"MinMax\", MinMaxScaler(), [\"Age\", \"Income\", \"Education Years\"]),\n",
    "    (\"OneHot\", OneHotEncoder(drop=\"first\", sparse=False, dtype=int), [\"Gender\", \"Student\", \"Married\", \"Ethnicity\"]),\n",
    "    (\"Ordinal\", OrdinalEncoder(categories=categories, dtype=int), [\"Rating\"])\n",
    "])\n",
    "ct"
   ]
  },
  {
   "cell_type": "markdown",
   "metadata": {},
   "source": [
    "##### Fit and transform of the categorical data\n",
    "\n",
    "Like the others `scikit-learn` objects, the `fit_transform` method of the composer returns a numpy array."
   ]
  },
  {
   "cell_type": "code",
   "execution_count": 69,
   "metadata": {},
   "outputs": [
    {
     "name": "stdout",
     "output_type": "stream",
     "text": [
      "(400, 9)\n"
     ]
    }
   ],
   "source": [
    "array_enc = ct.fit_transform(df)\n",
    "\n",
    "print(array_enc.shape)"
   ]
  },
  {
   "cell_type": "markdown",
   "metadata": {},
   "source": [
    "##### Using `make_column_transformer`  \n",
    "\n",
    "The main difference between the two transformers is that the function `make_column_transformer` want tuples in input and doesn't need the name of the composing transformers. \n",
    "\n",
    "Definition of the function:\n",
    "\n",
    "```python\n",
    "make_column_transformer(*transformers, **kwargs)\n",
    "```"
   ]
  },
  {
   "cell_type": "code",
   "execution_count": 70,
   "metadata": {},
   "outputs": [
    {
     "data": {
      "text/html": [
       "<style>#sk-96b89b02-d381-48af-a56e-20adf2384f5d {color: black;background-color: white;}#sk-96b89b02-d381-48af-a56e-20adf2384f5d pre{padding: 0;}#sk-96b89b02-d381-48af-a56e-20adf2384f5d div.sk-toggleable {background-color: white;}#sk-96b89b02-d381-48af-a56e-20adf2384f5d label.sk-toggleable__label {cursor: pointer;display: block;width: 100%;margin-bottom: 0;padding: 0.3em;box-sizing: border-box;text-align: center;}#sk-96b89b02-d381-48af-a56e-20adf2384f5d label.sk-toggleable__label-arrow:before {content: \"▸\";float: left;margin-right: 0.25em;color: #696969;}#sk-96b89b02-d381-48af-a56e-20adf2384f5d label.sk-toggleable__label-arrow:hover:before {color: black;}#sk-96b89b02-d381-48af-a56e-20adf2384f5d div.sk-estimator:hover label.sk-toggleable__label-arrow:before {color: black;}#sk-96b89b02-d381-48af-a56e-20adf2384f5d div.sk-toggleable__content {max-height: 0;max-width: 0;overflow: hidden;text-align: left;background-color: #f0f8ff;}#sk-96b89b02-d381-48af-a56e-20adf2384f5d div.sk-toggleable__content pre {margin: 0.2em;color: black;border-radius: 0.25em;background-color: #f0f8ff;}#sk-96b89b02-d381-48af-a56e-20adf2384f5d input.sk-toggleable__control:checked~div.sk-toggleable__content {max-height: 200px;max-width: 100%;overflow: auto;}#sk-96b89b02-d381-48af-a56e-20adf2384f5d input.sk-toggleable__control:checked~label.sk-toggleable__label-arrow:before {content: \"▾\";}#sk-96b89b02-d381-48af-a56e-20adf2384f5d div.sk-estimator input.sk-toggleable__control:checked~label.sk-toggleable__label {background-color: #d4ebff;}#sk-96b89b02-d381-48af-a56e-20adf2384f5d div.sk-label input.sk-toggleable__control:checked~label.sk-toggleable__label {background-color: #d4ebff;}#sk-96b89b02-d381-48af-a56e-20adf2384f5d input.sk-hidden--visually {border: 0;clip: rect(1px 1px 1px 1px);clip: rect(1px, 1px, 1px, 1px);height: 1px;margin: -1px;overflow: hidden;padding: 0;position: absolute;width: 1px;}#sk-96b89b02-d381-48af-a56e-20adf2384f5d div.sk-estimator {font-family: monospace;background-color: #f0f8ff;border: 1px dotted black;border-radius: 0.25em;box-sizing: border-box;margin-bottom: 0.5em;}#sk-96b89b02-d381-48af-a56e-20adf2384f5d div.sk-estimator:hover {background-color: #d4ebff;}#sk-96b89b02-d381-48af-a56e-20adf2384f5d div.sk-parallel-item::after {content: \"\";width: 100%;border-bottom: 1px solid gray;flex-grow: 1;}#sk-96b89b02-d381-48af-a56e-20adf2384f5d div.sk-label:hover label.sk-toggleable__label {background-color: #d4ebff;}#sk-96b89b02-d381-48af-a56e-20adf2384f5d div.sk-serial::before {content: \"\";position: absolute;border-left: 1px solid gray;box-sizing: border-box;top: 2em;bottom: 0;left: 50%;}#sk-96b89b02-d381-48af-a56e-20adf2384f5d div.sk-serial {display: flex;flex-direction: column;align-items: center;background-color: white;padding-right: 0.2em;padding-left: 0.2em;}#sk-96b89b02-d381-48af-a56e-20adf2384f5d div.sk-item {z-index: 1;}#sk-96b89b02-d381-48af-a56e-20adf2384f5d div.sk-parallel {display: flex;align-items: stretch;justify-content: center;background-color: white;}#sk-96b89b02-d381-48af-a56e-20adf2384f5d div.sk-parallel::before {content: \"\";position: absolute;border-left: 1px solid gray;box-sizing: border-box;top: 2em;bottom: 0;left: 50%;}#sk-96b89b02-d381-48af-a56e-20adf2384f5d div.sk-parallel-item {display: flex;flex-direction: column;position: relative;background-color: white;}#sk-96b89b02-d381-48af-a56e-20adf2384f5d div.sk-parallel-item:first-child::after {align-self: flex-end;width: 50%;}#sk-96b89b02-d381-48af-a56e-20adf2384f5d div.sk-parallel-item:last-child::after {align-self: flex-start;width: 50%;}#sk-96b89b02-d381-48af-a56e-20adf2384f5d div.sk-parallel-item:only-child::after {width: 0;}#sk-96b89b02-d381-48af-a56e-20adf2384f5d div.sk-dashed-wrapped {border: 1px dashed gray;margin: 0 0.4em 0.5em 0.4em;box-sizing: border-box;padding-bottom: 0.4em;background-color: white;position: relative;}#sk-96b89b02-d381-48af-a56e-20adf2384f5d div.sk-label label {font-family: monospace;font-weight: bold;background-color: white;display: inline-block;line-height: 1.2em;}#sk-96b89b02-d381-48af-a56e-20adf2384f5d div.sk-label-container {position: relative;z-index: 2;text-align: center;}#sk-96b89b02-d381-48af-a56e-20adf2384f5d div.sk-container {/* jupyter's `normalize.less` sets `[hidden] { display: none; }` but bootstrap.min.css set `[hidden] { display: none !important; }` so we also need the `!important` here to be able to override the default hidden behavior on the sphinx rendered scikit-learn.org. See: https://github.com/scikit-learn/scikit-learn/issues/21755 */display: inline-block !important;position: relative;}#sk-96b89b02-d381-48af-a56e-20adf2384f5d div.sk-text-repr-fallback {display: none;}</style><div id=\"sk-96b89b02-d381-48af-a56e-20adf2384f5d\" class=\"sk-top-container\"><div class=\"sk-text-repr-fallback\"><pre>ColumnTransformer(n_jobs=None, remainder=&#x27;drop&#x27;, sparse_threshold=0.3,\n",
       "                  transformer_weights=None,\n",
       "                  transformers=[(&#x27;minmaxscaler&#x27;,\n",
       "                                 MinMaxScaler(clip=False, copy=True,\n",
       "                                              feature_range=(0, 1)),\n",
       "                                 [&#x27;Age&#x27;, &#x27;Income&#x27;, &#x27;Education Years&#x27;]),\n",
       "                                (&#x27;onehotencoder&#x27;,\n",
       "                                 OneHotEncoder(categories=&#x27;auto&#x27;, drop=&#x27;first&#x27;,\n",
       "                                               dtype=&lt;class &#x27;int&#x27;&gt;,\n",
       "                                               handle_unknown=&#x27;error&#x27;,\n",
       "                                               sparse=False),\n",
       "                                 [&#x27;Gender&#x27;, &#x27;Student&#x27;, &#x27;Married&#x27;, &#x27;Ethnicity&#x27;]),\n",
       "                                (&#x27;ordinalencoder&#x27;,\n",
       "                                 OrdinalEncoder(categories=[[&#x27;Very low&#x27;, &#x27;Low&#x27;,\n",
       "                                                             &#x27;Medium&#x27;, &#x27;High&#x27;,\n",
       "                                                             &#x27;Premium&#x27;]],\n",
       "                                                dtype=&lt;class &#x27;int&#x27;&gt;,\n",
       "                                                handle_unknown=&#x27;error&#x27;,\n",
       "                                                unknown_value=None),\n",
       "                                 [&#x27;Rating&#x27;])],\n",
       "                  verbose=False, verbose_feature_names_out=True)</pre><b>Please rerun this cell to show the HTML repr or trust the notebook.</b></div><div class=\"sk-container\" hidden><div class=\"sk-item sk-dashed-wrapped\"><div class=\"sk-label-container\"><div class=\"sk-label sk-toggleable\"><input class=\"sk-toggleable__control sk-hidden--visually\" id=\"60ceef60-bc68-452e-87b8-b0c4eba7a48c\" type=\"checkbox\" ><label for=\"60ceef60-bc68-452e-87b8-b0c4eba7a48c\" class=\"sk-toggleable__label sk-toggleable__label-arrow\">ColumnTransformer</label><div class=\"sk-toggleable__content\"><pre>ColumnTransformer(n_jobs=None, remainder=&#x27;drop&#x27;, sparse_threshold=0.3,\n",
       "                  transformer_weights=None,\n",
       "                  transformers=[(&#x27;minmaxscaler&#x27;,\n",
       "                                 MinMaxScaler(clip=False, copy=True,\n",
       "                                              feature_range=(0, 1)),\n",
       "                                 [&#x27;Age&#x27;, &#x27;Income&#x27;, &#x27;Education Years&#x27;]),\n",
       "                                (&#x27;onehotencoder&#x27;,\n",
       "                                 OneHotEncoder(categories=&#x27;auto&#x27;, drop=&#x27;first&#x27;,\n",
       "                                               dtype=&lt;class &#x27;int&#x27;&gt;,\n",
       "                                               handle_unknown=&#x27;error&#x27;,\n",
       "                                               sparse=False),\n",
       "                                 [&#x27;Gender&#x27;, &#x27;Student&#x27;, &#x27;Married&#x27;, &#x27;Ethnicity&#x27;]),\n",
       "                                (&#x27;ordinalencoder&#x27;,\n",
       "                                 OrdinalEncoder(categories=[[&#x27;Very low&#x27;, &#x27;Low&#x27;,\n",
       "                                                             &#x27;Medium&#x27;, &#x27;High&#x27;,\n",
       "                                                             &#x27;Premium&#x27;]],\n",
       "                                                dtype=&lt;class &#x27;int&#x27;&gt;,\n",
       "                                                handle_unknown=&#x27;error&#x27;,\n",
       "                                                unknown_value=None),\n",
       "                                 [&#x27;Rating&#x27;])],\n",
       "                  verbose=False, verbose_feature_names_out=True)</pre></div></div></div><div class=\"sk-parallel\"><div class=\"sk-parallel-item\"><div class=\"sk-item\"><div class=\"sk-label-container\"><div class=\"sk-label sk-toggleable\"><input class=\"sk-toggleable__control sk-hidden--visually\" id=\"8f9b5a15-e517-43be-8bbd-f147071c3dc8\" type=\"checkbox\" ><label for=\"8f9b5a15-e517-43be-8bbd-f147071c3dc8\" class=\"sk-toggleable__label sk-toggleable__label-arrow\">minmaxscaler</label><div class=\"sk-toggleable__content\"><pre>[&#x27;Age&#x27;, &#x27;Income&#x27;, &#x27;Education Years&#x27;]</pre></div></div></div><div class=\"sk-serial\"><div class=\"sk-item\"><div class=\"sk-estimator sk-toggleable\"><input class=\"sk-toggleable__control sk-hidden--visually\" id=\"5d1c81e5-8508-476e-994c-4fc85404bde6\" type=\"checkbox\" ><label for=\"5d1c81e5-8508-476e-994c-4fc85404bde6\" class=\"sk-toggleable__label sk-toggleable__label-arrow\">MinMaxScaler</label><div class=\"sk-toggleable__content\"><pre>MinMaxScaler()</pre></div></div></div></div></div></div><div class=\"sk-parallel-item\"><div class=\"sk-item\"><div class=\"sk-label-container\"><div class=\"sk-label sk-toggleable\"><input class=\"sk-toggleable__control sk-hidden--visually\" id=\"c42ba1b7-e61f-47a3-a2b4-8bacdad86066\" type=\"checkbox\" ><label for=\"c42ba1b7-e61f-47a3-a2b4-8bacdad86066\" class=\"sk-toggleable__label sk-toggleable__label-arrow\">onehotencoder</label><div class=\"sk-toggleable__content\"><pre>[&#x27;Gender&#x27;, &#x27;Student&#x27;, &#x27;Married&#x27;, &#x27;Ethnicity&#x27;]</pre></div></div></div><div class=\"sk-serial\"><div class=\"sk-item\"><div class=\"sk-estimator sk-toggleable\"><input class=\"sk-toggleable__control sk-hidden--visually\" id=\"833397b0-7865-4d2a-9c87-75e1a1592d6c\" type=\"checkbox\" ><label for=\"833397b0-7865-4d2a-9c87-75e1a1592d6c\" class=\"sk-toggleable__label sk-toggleable__label-arrow\">OneHotEncoder</label><div class=\"sk-toggleable__content\"><pre>OneHotEncoder(drop=&#x27;first&#x27;, dtype=&lt;class &#x27;int&#x27;&gt;, sparse=False)</pre></div></div></div></div></div></div><div class=\"sk-parallel-item\"><div class=\"sk-item\"><div class=\"sk-label-container\"><div class=\"sk-label sk-toggleable\"><input class=\"sk-toggleable__control sk-hidden--visually\" id=\"84b09629-14c6-4237-8987-472c94db367a\" type=\"checkbox\" ><label for=\"84b09629-14c6-4237-8987-472c94db367a\" class=\"sk-toggleable__label sk-toggleable__label-arrow\">ordinalencoder</label><div class=\"sk-toggleable__content\"><pre>[&#x27;Rating&#x27;]</pre></div></div></div><div class=\"sk-serial\"><div class=\"sk-item\"><div class=\"sk-estimator sk-toggleable\"><input class=\"sk-toggleable__control sk-hidden--visually\" id=\"1cf2d5d8-24a9-400a-987b-ce6d65d93240\" type=\"checkbox\" ><label for=\"1cf2d5d8-24a9-400a-987b-ce6d65d93240\" class=\"sk-toggleable__label sk-toggleable__label-arrow\">OrdinalEncoder</label><div class=\"sk-toggleable__content\"><pre>OrdinalEncoder(categories=[[&#x27;Very low&#x27;, &#x27;Low&#x27;, &#x27;Medium&#x27;, &#x27;High&#x27;, &#x27;Premium&#x27;]],\n",
       "               dtype=&lt;class &#x27;int&#x27;&gt;)</pre></div></div></div></div></div></div></div></div></div></div>"
      ],
      "text/plain": [
       "ColumnTransformer(n_jobs=None, remainder='drop', sparse_threshold=0.3,\n",
       "                  transformer_weights=None,\n",
       "                  transformers=[('minmaxscaler',\n",
       "                                 MinMaxScaler(clip=False, copy=True,\n",
       "                                              feature_range=(0, 1)),\n",
       "                                 ['Age', 'Income', 'Education Years']),\n",
       "                                ('onehotencoder',\n",
       "                                 OneHotEncoder(categories='auto', drop='first',\n",
       "                                               dtype=<class 'int'>,\n",
       "                                               handle_unknown='error',\n",
       "                                               sparse=False),\n",
       "                                 ['Gender', 'Student', 'Married', 'Ethnicity']),\n",
       "                                ('ordinalencoder',\n",
       "                                 OrdinalEncoder(categories=[['Very low', 'Low',\n",
       "                                                             'Medium', 'High',\n",
       "                                                             'Premium']],\n",
       "                                                dtype=<class 'int'>,\n",
       "                                                handle_unknown='error',\n",
       "                                                unknown_value=None),\n",
       "                                 ['Rating'])],\n",
       "                  verbose=False, verbose_feature_names_out=True)"
      ]
     },
     "execution_count": 70,
     "metadata": {},
     "output_type": "execute_result"
    }
   ],
   "source": [
    "categories = [['Very low', 'Low', 'Medium', 'High', 'Premium']]\n",
    "\n",
    "mct = make_column_transformer(\n",
    "    (MinMaxScaler(), [\"Age\", \"Income\", \"Education Years\"]),\n",
    "    (OneHotEncoder(drop=\"first\", sparse=False, dtype=int), [\"Gender\", \"Student\", \"Married\", \"Ethnicity\"]),\n",
    "    (OrdinalEncoder(categories=categories, dtype=int), [\"Rating\"])\n",
    ")\n",
    "mct"
   ]
  },
  {
   "cell_type": "code",
   "execution_count": 71,
   "metadata": {},
   "outputs": [
    {
     "name": "stdout",
     "output_type": "stream",
     "text": [
      "(400, 9)\n"
     ]
    }
   ],
   "source": [
    "array_enc = mct.fit_transform(df)\n",
    "\n",
    "print(array_enc.shape)"
   ]
  },
  {
   "cell_type": "markdown",
   "metadata": {},
   "source": [
    "#### How interpret the coefficients of categorical variables\n",
    "\n",
    "The logic behind the interpretation of categorical variables is very similar to that used for numerical variables.\n",
    "\n",
    "1. The category with zero value goes to the intercept.\n",
    "2. The coefficients relative to the other categories show the variation that occurs to have $y=1$ with that category included in the predictors matrix."
   ]
  },
  {
   "cell_type": "markdown",
   "metadata": {},
   "source": [
    "#### Bonus: Handle missing values\n",
    "\n",
    "We have already seen how it is likely (depending on the problem) to have missing values in our data. \n",
    "Let's introduce some missing values in the columns `Age` and `Rating`."
   ]
  },
  {
   "cell_type": "code",
   "execution_count": 72,
   "metadata": {},
   "outputs": [],
   "source": [
    "# Add missin values randomly in the 5% of the records.\n",
    "for column in [\"Age\", \"Rating\"]:\n",
    "    df.loc[df.sample(frac=0.05).index, column] = np.nan"
   ]
  },
  {
   "cell_type": "markdown",
   "metadata": {},
   "source": [
    "Let's check for missing value in our dataframe."
   ]
  },
  {
   "cell_type": "code",
   "execution_count": 73,
   "metadata": {
    "scrolled": true
   },
   "outputs": [
    {
     "data": {
      "text/plain": [
       "Gender              0\n",
       "Student             0\n",
       "Married             0\n",
       "Ethnicity           0\n",
       "Rating             20\n",
       "Age                20\n",
       "Income              0\n",
       "Education Years     0\n",
       "dtype: int64"
      ]
     },
     "execution_count": 73,
     "metadata": {},
     "output_type": "execute_result"
    }
   ],
   "source": [
    "df.isnull().sum()"
   ]
  },
  {
   "cell_type": "markdown",
   "metadata": {},
   "source": [
    "Recall that when there are some missing values in the dataset there are two strategies that can be followed:\n",
    "\n",
    "1. drop the rows or columns with the missing values.\n",
    "2. impute the values with another one."
   ]
  },
  {
   "cell_type": "markdown",
   "metadata": {},
   "source": [
    "1. To drop the rows that contains missing values we can easily use the method `dropna`. "
   ]
  },
  {
   "cell_type": "code",
   "execution_count": 74,
   "metadata": {
    "scrolled": true
   },
   "outputs": [
    {
     "data": {
      "text/html": [
       "<div>\n",
       "<style scoped>\n",
       "    .dataframe tbody tr th:only-of-type {\n",
       "        vertical-align: middle;\n",
       "    }\n",
       "\n",
       "    .dataframe tbody tr th {\n",
       "        vertical-align: top;\n",
       "    }\n",
       "\n",
       "    .dataframe thead th {\n",
       "        text-align: right;\n",
       "    }\n",
       "</style>\n",
       "<table border=\"1\" class=\"dataframe\">\n",
       "  <thead>\n",
       "    <tr style=\"text-align: right;\">\n",
       "      <th></th>\n",
       "      <th>Gender</th>\n",
       "      <th>Student</th>\n",
       "      <th>Married</th>\n",
       "      <th>Ethnicity</th>\n",
       "      <th>Rating</th>\n",
       "      <th>Age</th>\n",
       "      <th>Income</th>\n",
       "      <th>Education Years</th>\n",
       "    </tr>\n",
       "  </thead>\n",
       "  <tbody>\n",
       "    <tr>\n",
       "      <th>0</th>\n",
       "      <td>Male</td>\n",
       "      <td>No</td>\n",
       "      <td>Yes</td>\n",
       "      <td>Caucasian</td>\n",
       "      <td>Low</td>\n",
       "      <td>34.0</td>\n",
       "      <td>14.891</td>\n",
       "      <td>11</td>\n",
       "    </tr>\n",
       "    <tr>\n",
       "      <th>1</th>\n",
       "      <td>Female</td>\n",
       "      <td>Yes</td>\n",
       "      <td>Yes</td>\n",
       "      <td>Asian</td>\n",
       "      <td>Premium</td>\n",
       "      <td>82.0</td>\n",
       "      <td>106.025</td>\n",
       "      <td>15</td>\n",
       "    </tr>\n",
       "    <tr>\n",
       "      <th>2</th>\n",
       "      <td>Male</td>\n",
       "      <td>No</td>\n",
       "      <td>No</td>\n",
       "      <td>Asian</td>\n",
       "      <td>Premium</td>\n",
       "      <td>71.0</td>\n",
       "      <td>104.593</td>\n",
       "      <td>11</td>\n",
       "    </tr>\n",
       "    <tr>\n",
       "      <th>3</th>\n",
       "      <td>Female</td>\n",
       "      <td>No</td>\n",
       "      <td>No</td>\n",
       "      <td>Asian</td>\n",
       "      <td>Premium</td>\n",
       "      <td>36.0</td>\n",
       "      <td>148.924</td>\n",
       "      <td>11</td>\n",
       "    </tr>\n",
       "    <tr>\n",
       "      <th>4</th>\n",
       "      <td>Male</td>\n",
       "      <td>No</td>\n",
       "      <td>Yes</td>\n",
       "      <td>Caucasian</td>\n",
       "      <td>Medium</td>\n",
       "      <td>68.0</td>\n",
       "      <td>55.882</td>\n",
       "      <td>16</td>\n",
       "    </tr>\n",
       "    <tr>\n",
       "      <th>...</th>\n",
       "      <td>...</td>\n",
       "      <td>...</td>\n",
       "      <td>...</td>\n",
       "      <td>...</td>\n",
       "      <td>...</td>\n",
       "      <td>...</td>\n",
       "      <td>...</td>\n",
       "      <td>...</td>\n",
       "    </tr>\n",
       "    <tr>\n",
       "      <th>395</th>\n",
       "      <td>Male</td>\n",
       "      <td>No</td>\n",
       "      <td>Yes</td>\n",
       "      <td>Caucasian</td>\n",
       "      <td>Medium</td>\n",
       "      <td>32.0</td>\n",
       "      <td>12.096</td>\n",
       "      <td>13</td>\n",
       "    </tr>\n",
       "    <tr>\n",
       "      <th>396</th>\n",
       "      <td>Male</td>\n",
       "      <td>No</td>\n",
       "      <td>No</td>\n",
       "      <td>African American</td>\n",
       "      <td>Low</td>\n",
       "      <td>65.0</td>\n",
       "      <td>13.364</td>\n",
       "      <td>17</td>\n",
       "    </tr>\n",
       "    <tr>\n",
       "      <th>397</th>\n",
       "      <td>Female</td>\n",
       "      <td>No</td>\n",
       "      <td>Yes</td>\n",
       "      <td>Caucasian</td>\n",
       "      <td>Medium</td>\n",
       "      <td>67.0</td>\n",
       "      <td>57.872</td>\n",
       "      <td>12</td>\n",
       "    </tr>\n",
       "    <tr>\n",
       "      <th>398</th>\n",
       "      <td>Male</td>\n",
       "      <td>No</td>\n",
       "      <td>Yes</td>\n",
       "      <td>Caucasian</td>\n",
       "      <td>Very low</td>\n",
       "      <td>44.0</td>\n",
       "      <td>37.728</td>\n",
       "      <td>13</td>\n",
       "    </tr>\n",
       "    <tr>\n",
       "      <th>399</th>\n",
       "      <td>Female</td>\n",
       "      <td>No</td>\n",
       "      <td>No</td>\n",
       "      <td>Asian</td>\n",
       "      <td>High</td>\n",
       "      <td>64.0</td>\n",
       "      <td>18.701</td>\n",
       "      <td>7</td>\n",
       "    </tr>\n",
       "  </tbody>\n",
       "</table>\n",
       "<p>362 rows × 8 columns</p>\n",
       "</div>"
      ],
      "text/plain": [
       "     Gender Student Married         Ethnicity    Rating   Age   Income  \\\n",
       "0      Male      No     Yes         Caucasian       Low  34.0   14.891   \n",
       "1    Female     Yes     Yes             Asian   Premium  82.0  106.025   \n",
       "2      Male      No      No             Asian   Premium  71.0  104.593   \n",
       "3    Female      No      No             Asian   Premium  36.0  148.924   \n",
       "4      Male      No     Yes         Caucasian    Medium  68.0   55.882   \n",
       "..      ...     ...     ...               ...       ...   ...      ...   \n",
       "395    Male      No     Yes         Caucasian    Medium  32.0   12.096   \n",
       "396    Male      No      No  African American       Low  65.0   13.364   \n",
       "397  Female      No     Yes         Caucasian    Medium  67.0   57.872   \n",
       "398    Male      No     Yes         Caucasian  Very low  44.0   37.728   \n",
       "399  Female      No      No             Asian      High  64.0   18.701   \n",
       "\n",
       "     Education Years  \n",
       "0                 11  \n",
       "1                 15  \n",
       "2                 11  \n",
       "3                 11  \n",
       "4                 16  \n",
       "..               ...  \n",
       "395               13  \n",
       "396               17  \n",
       "397               12  \n",
       "398               13  \n",
       "399                7  \n",
       "\n",
       "[362 rows x 8 columns]"
      ]
     },
     "execution_count": 74,
     "metadata": {},
     "output_type": "execute_result"
    }
   ],
   "source": [
    "df.dropna()"
   ]
  },
  {
   "cell_type": "markdown",
   "metadata": {},
   "source": [
    "2. To impute the missing values in pandas we can use the method `fillna`.\n",
    "\n",
    "In this case, we want to use the mode to impute the `Rating` column and the mean to impute the `Age` column."
   ]
  },
  {
   "cell_type": "code",
   "execution_count": 75,
   "metadata": {},
   "outputs": [
    {
     "name": "stdout",
     "output_type": "stream",
     "text": [
      "Rating mode: 'Low', Age mean: 55.8895\n"
     ]
    }
   ],
   "source": [
    "rating_mode = df[\"Rating\"].mode()[0]\n",
    "age_mean = df[\"Age\"].mean()\n",
    "\n",
    "print(f\"Rating mode: '{rating_mode}', Age mean: {age_mean:.4f}\")"
   ]
  },
  {
   "cell_type": "code",
   "execution_count": 76,
   "metadata": {},
   "outputs": [
    {
     "data": {
      "text/html": [
       "<div>\n",
       "<style scoped>\n",
       "    .dataframe tbody tr th:only-of-type {\n",
       "        vertical-align: middle;\n",
       "    }\n",
       "\n",
       "    .dataframe tbody tr th {\n",
       "        vertical-align: top;\n",
       "    }\n",
       "\n",
       "    .dataframe thead th {\n",
       "        text-align: right;\n",
       "    }\n",
       "</style>\n",
       "<table border=\"1\" class=\"dataframe\">\n",
       "  <thead>\n",
       "    <tr style=\"text-align: right;\">\n",
       "      <th></th>\n",
       "      <th>Gender</th>\n",
       "      <th>Student</th>\n",
       "      <th>Married</th>\n",
       "      <th>Ethnicity</th>\n",
       "      <th>Rating</th>\n",
       "      <th>Age</th>\n",
       "      <th>Income</th>\n",
       "      <th>Education Years</th>\n",
       "    </tr>\n",
       "  </thead>\n",
       "  <tbody>\n",
       "    <tr>\n",
       "      <th>0</th>\n",
       "      <td>Male</td>\n",
       "      <td>No</td>\n",
       "      <td>Yes</td>\n",
       "      <td>Caucasian</td>\n",
       "      <td>Low</td>\n",
       "      <td>34.0</td>\n",
       "      <td>14.891</td>\n",
       "      <td>11</td>\n",
       "    </tr>\n",
       "    <tr>\n",
       "      <th>1</th>\n",
       "      <td>Female</td>\n",
       "      <td>Yes</td>\n",
       "      <td>Yes</td>\n",
       "      <td>Asian</td>\n",
       "      <td>Premium</td>\n",
       "      <td>82.0</td>\n",
       "      <td>106.025</td>\n",
       "      <td>15</td>\n",
       "    </tr>\n",
       "    <tr>\n",
       "      <th>2</th>\n",
       "      <td>Male</td>\n",
       "      <td>No</td>\n",
       "      <td>No</td>\n",
       "      <td>Asian</td>\n",
       "      <td>Premium</td>\n",
       "      <td>71.0</td>\n",
       "      <td>104.593</td>\n",
       "      <td>11</td>\n",
       "    </tr>\n",
       "    <tr>\n",
       "      <th>3</th>\n",
       "      <td>Female</td>\n",
       "      <td>No</td>\n",
       "      <td>No</td>\n",
       "      <td>Asian</td>\n",
       "      <td>Premium</td>\n",
       "      <td>36.0</td>\n",
       "      <td>148.924</td>\n",
       "      <td>11</td>\n",
       "    </tr>\n",
       "    <tr>\n",
       "      <th>4</th>\n",
       "      <td>Male</td>\n",
       "      <td>No</td>\n",
       "      <td>Yes</td>\n",
       "      <td>Caucasian</td>\n",
       "      <td>Medium</td>\n",
       "      <td>68.0</td>\n",
       "      <td>55.882</td>\n",
       "      <td>16</td>\n",
       "    </tr>\n",
       "    <tr>\n",
       "      <th>...</th>\n",
       "      <td>...</td>\n",
       "      <td>...</td>\n",
       "      <td>...</td>\n",
       "      <td>...</td>\n",
       "      <td>...</td>\n",
       "      <td>...</td>\n",
       "      <td>...</td>\n",
       "      <td>...</td>\n",
       "    </tr>\n",
       "    <tr>\n",
       "      <th>395</th>\n",
       "      <td>Male</td>\n",
       "      <td>No</td>\n",
       "      <td>Yes</td>\n",
       "      <td>Caucasian</td>\n",
       "      <td>Medium</td>\n",
       "      <td>32.0</td>\n",
       "      <td>12.096</td>\n",
       "      <td>13</td>\n",
       "    </tr>\n",
       "    <tr>\n",
       "      <th>396</th>\n",
       "      <td>Male</td>\n",
       "      <td>No</td>\n",
       "      <td>No</td>\n",
       "      <td>African American</td>\n",
       "      <td>Low</td>\n",
       "      <td>65.0</td>\n",
       "      <td>13.364</td>\n",
       "      <td>17</td>\n",
       "    </tr>\n",
       "    <tr>\n",
       "      <th>397</th>\n",
       "      <td>Female</td>\n",
       "      <td>No</td>\n",
       "      <td>Yes</td>\n",
       "      <td>Caucasian</td>\n",
       "      <td>Medium</td>\n",
       "      <td>67.0</td>\n",
       "      <td>57.872</td>\n",
       "      <td>12</td>\n",
       "    </tr>\n",
       "    <tr>\n",
       "      <th>398</th>\n",
       "      <td>Male</td>\n",
       "      <td>No</td>\n",
       "      <td>Yes</td>\n",
       "      <td>Caucasian</td>\n",
       "      <td>Very low</td>\n",
       "      <td>44.0</td>\n",
       "      <td>37.728</td>\n",
       "      <td>13</td>\n",
       "    </tr>\n",
       "    <tr>\n",
       "      <th>399</th>\n",
       "      <td>Female</td>\n",
       "      <td>No</td>\n",
       "      <td>No</td>\n",
       "      <td>Asian</td>\n",
       "      <td>High</td>\n",
       "      <td>64.0</td>\n",
       "      <td>18.701</td>\n",
       "      <td>7</td>\n",
       "    </tr>\n",
       "  </tbody>\n",
       "</table>\n",
       "<p>400 rows × 8 columns</p>\n",
       "</div>"
      ],
      "text/plain": [
       "     Gender Student Married         Ethnicity    Rating   Age   Income  \\\n",
       "0      Male      No     Yes         Caucasian       Low  34.0   14.891   \n",
       "1    Female     Yes     Yes             Asian   Premium  82.0  106.025   \n",
       "2      Male      No      No             Asian   Premium  71.0  104.593   \n",
       "3    Female      No      No             Asian   Premium  36.0  148.924   \n",
       "4      Male      No     Yes         Caucasian    Medium  68.0   55.882   \n",
       "..      ...     ...     ...               ...       ...   ...      ...   \n",
       "395    Male      No     Yes         Caucasian    Medium  32.0   12.096   \n",
       "396    Male      No      No  African American       Low  65.0   13.364   \n",
       "397  Female      No     Yes         Caucasian    Medium  67.0   57.872   \n",
       "398    Male      No     Yes         Caucasian  Very low  44.0   37.728   \n",
       "399  Female      No      No             Asian      High  64.0   18.701   \n",
       "\n",
       "     Education Years  \n",
       "0                 11  \n",
       "1                 15  \n",
       "2                 11  \n",
       "3                 11  \n",
       "4                 16  \n",
       "..               ...  \n",
       "395               13  \n",
       "396               17  \n",
       "397               12  \n",
       "398               13  \n",
       "399                7  \n",
       "\n",
       "[400 rows x 8 columns]"
      ]
     },
     "execution_count": 76,
     "metadata": {},
     "output_type": "execute_result"
    }
   ],
   "source": [
    "df.fillna({\"Rating\": rating_mode, \"Age\": age_mean})"
   ]
  },
  {
   "cell_type": "markdown",
   "metadata": {},
   "source": [
    "It is of course possible to impute the missing values using scikit-learn.\n",
    "\n",
    "The [`imputer`](https://scikit-learn.org/stable/modules/generated/sklearn.impute.SimpleImputer.html) object handles missing values with numerical and categorical data."
   ]
  },
  {
   "cell_type": "code",
   "execution_count": 77,
   "metadata": {},
   "outputs": [],
   "source": [
    "# Definition of the array of a variable with missing values\n",
    "age = df[[\"Age\"]].values"
   ]
  },
  {
   "cell_type": "code",
   "execution_count": 78,
   "metadata": {},
   "outputs": [
    {
     "data": {
      "text/html": [
       "<style>#sk-4b1bc845-63e2-43da-ba5f-32b66556d3fa {color: black;background-color: white;}#sk-4b1bc845-63e2-43da-ba5f-32b66556d3fa pre{padding: 0;}#sk-4b1bc845-63e2-43da-ba5f-32b66556d3fa div.sk-toggleable {background-color: white;}#sk-4b1bc845-63e2-43da-ba5f-32b66556d3fa label.sk-toggleable__label {cursor: pointer;display: block;width: 100%;margin-bottom: 0;padding: 0.3em;box-sizing: border-box;text-align: center;}#sk-4b1bc845-63e2-43da-ba5f-32b66556d3fa label.sk-toggleable__label-arrow:before {content: \"▸\";float: left;margin-right: 0.25em;color: #696969;}#sk-4b1bc845-63e2-43da-ba5f-32b66556d3fa label.sk-toggleable__label-arrow:hover:before {color: black;}#sk-4b1bc845-63e2-43da-ba5f-32b66556d3fa div.sk-estimator:hover label.sk-toggleable__label-arrow:before {color: black;}#sk-4b1bc845-63e2-43da-ba5f-32b66556d3fa div.sk-toggleable__content {max-height: 0;max-width: 0;overflow: hidden;text-align: left;background-color: #f0f8ff;}#sk-4b1bc845-63e2-43da-ba5f-32b66556d3fa div.sk-toggleable__content pre {margin: 0.2em;color: black;border-radius: 0.25em;background-color: #f0f8ff;}#sk-4b1bc845-63e2-43da-ba5f-32b66556d3fa input.sk-toggleable__control:checked~div.sk-toggleable__content {max-height: 200px;max-width: 100%;overflow: auto;}#sk-4b1bc845-63e2-43da-ba5f-32b66556d3fa input.sk-toggleable__control:checked~label.sk-toggleable__label-arrow:before {content: \"▾\";}#sk-4b1bc845-63e2-43da-ba5f-32b66556d3fa div.sk-estimator input.sk-toggleable__control:checked~label.sk-toggleable__label {background-color: #d4ebff;}#sk-4b1bc845-63e2-43da-ba5f-32b66556d3fa div.sk-label input.sk-toggleable__control:checked~label.sk-toggleable__label {background-color: #d4ebff;}#sk-4b1bc845-63e2-43da-ba5f-32b66556d3fa input.sk-hidden--visually {border: 0;clip: rect(1px 1px 1px 1px);clip: rect(1px, 1px, 1px, 1px);height: 1px;margin: -1px;overflow: hidden;padding: 0;position: absolute;width: 1px;}#sk-4b1bc845-63e2-43da-ba5f-32b66556d3fa div.sk-estimator {font-family: monospace;background-color: #f0f8ff;border: 1px dotted black;border-radius: 0.25em;box-sizing: border-box;margin-bottom: 0.5em;}#sk-4b1bc845-63e2-43da-ba5f-32b66556d3fa div.sk-estimator:hover {background-color: #d4ebff;}#sk-4b1bc845-63e2-43da-ba5f-32b66556d3fa div.sk-parallel-item::after {content: \"\";width: 100%;border-bottom: 1px solid gray;flex-grow: 1;}#sk-4b1bc845-63e2-43da-ba5f-32b66556d3fa div.sk-label:hover label.sk-toggleable__label {background-color: #d4ebff;}#sk-4b1bc845-63e2-43da-ba5f-32b66556d3fa div.sk-serial::before {content: \"\";position: absolute;border-left: 1px solid gray;box-sizing: border-box;top: 2em;bottom: 0;left: 50%;}#sk-4b1bc845-63e2-43da-ba5f-32b66556d3fa div.sk-serial {display: flex;flex-direction: column;align-items: center;background-color: white;padding-right: 0.2em;padding-left: 0.2em;}#sk-4b1bc845-63e2-43da-ba5f-32b66556d3fa div.sk-item {z-index: 1;}#sk-4b1bc845-63e2-43da-ba5f-32b66556d3fa div.sk-parallel {display: flex;align-items: stretch;justify-content: center;background-color: white;}#sk-4b1bc845-63e2-43da-ba5f-32b66556d3fa div.sk-parallel::before {content: \"\";position: absolute;border-left: 1px solid gray;box-sizing: border-box;top: 2em;bottom: 0;left: 50%;}#sk-4b1bc845-63e2-43da-ba5f-32b66556d3fa div.sk-parallel-item {display: flex;flex-direction: column;position: relative;background-color: white;}#sk-4b1bc845-63e2-43da-ba5f-32b66556d3fa div.sk-parallel-item:first-child::after {align-self: flex-end;width: 50%;}#sk-4b1bc845-63e2-43da-ba5f-32b66556d3fa div.sk-parallel-item:last-child::after {align-self: flex-start;width: 50%;}#sk-4b1bc845-63e2-43da-ba5f-32b66556d3fa div.sk-parallel-item:only-child::after {width: 0;}#sk-4b1bc845-63e2-43da-ba5f-32b66556d3fa div.sk-dashed-wrapped {border: 1px dashed gray;margin: 0 0.4em 0.5em 0.4em;box-sizing: border-box;padding-bottom: 0.4em;background-color: white;position: relative;}#sk-4b1bc845-63e2-43da-ba5f-32b66556d3fa div.sk-label label {font-family: monospace;font-weight: bold;background-color: white;display: inline-block;line-height: 1.2em;}#sk-4b1bc845-63e2-43da-ba5f-32b66556d3fa div.sk-label-container {position: relative;z-index: 2;text-align: center;}#sk-4b1bc845-63e2-43da-ba5f-32b66556d3fa div.sk-container {/* jupyter's `normalize.less` sets `[hidden] { display: none; }` but bootstrap.min.css set `[hidden] { display: none !important; }` so we also need the `!important` here to be able to override the default hidden behavior on the sphinx rendered scikit-learn.org. See: https://github.com/scikit-learn/scikit-learn/issues/21755 */display: inline-block !important;position: relative;}#sk-4b1bc845-63e2-43da-ba5f-32b66556d3fa div.sk-text-repr-fallback {display: none;}</style><div id=\"sk-4b1bc845-63e2-43da-ba5f-32b66556d3fa\" class=\"sk-top-container\"><div class=\"sk-text-repr-fallback\"><pre>SimpleImputer(add_indicator=False, copy=True, fill_value=None,\n",
       "              missing_values=nan, strategy=&#x27;mean&#x27;, verbose=0)</pre><b>Please rerun this cell to show the HTML repr or trust the notebook.</b></div><div class=\"sk-container\" hidden><div class=\"sk-item\"><div class=\"sk-estimator sk-toggleable\"><input class=\"sk-toggleable__control sk-hidden--visually\" id=\"a2fa50de-49ec-4e30-820a-d16d8f922446\" type=\"checkbox\" checked><label for=\"a2fa50de-49ec-4e30-820a-d16d8f922446\" class=\"sk-toggleable__label sk-toggleable__label-arrow\">SimpleImputer</label><div class=\"sk-toggleable__content\"><pre>SimpleImputer(add_indicator=False, copy=True, fill_value=None,\n",
       "              missing_values=nan, strategy=&#x27;mean&#x27;, verbose=0)</pre></div></div></div></div></div>"
      ],
      "text/plain": [
       "SimpleImputer(add_indicator=False, copy=True, fill_value=None,\n",
       "              missing_values=nan, strategy='mean', verbose=0)"
      ]
     },
     "execution_count": 78,
     "metadata": {},
     "output_type": "execute_result"
    }
   ],
   "source": [
    "# Instance of the imputer object\n",
    "si = SimpleImputer()\n",
    "si"
   ]
  },
  {
   "cell_type": "code",
   "execution_count": 79,
   "metadata": {},
   "outputs": [
    {
     "data": {
      "text/plain": [
       "array([[34.        ],\n",
       "       [82.        ],\n",
       "       [71.        ],\n",
       "       [36.        ],\n",
       "       [68.        ],\n",
       "       [77.        ],\n",
       "       [37.        ],\n",
       "       [55.88947368],\n",
       "       [66.        ],\n",
       "       [55.88947368]])"
      ]
     },
     "execution_count": 79,
     "metadata": {},
     "output_type": "execute_result"
    }
   ],
   "source": [
    "# Fit and transform of the imputer to the data\n",
    "age_imputed = si.fit_transform(age)\n",
    "age_imputed[:10, :]"
   ]
  },
  {
   "cell_type": "markdown",
   "metadata": {},
   "source": [
    "Using the attribute ```statistics_``` is possible to see the value used to impute the missing values"
   ]
  },
  {
   "cell_type": "code",
   "execution_count": 80,
   "metadata": {
    "scrolled": true
   },
   "outputs": [
    {
     "data": {
      "text/plain": [
       "array([55.88947368])"
      ]
     },
     "execution_count": 80,
     "metadata": {},
     "output_type": "execute_result"
    }
   ],
   "source": [
    "si.statistics_"
   ]
  },
  {
   "cell_type": "markdown",
   "metadata": {},
   "source": [
    "What is left is the imputation of the missing values in the Rating column.\n",
    "\n",
    "We can impute the missing values in categorical columns, for instance, setting the `strategy=\"most_frequent\"`."
   ]
  },
  {
   "cell_type": "code",
   "execution_count": 81,
   "metadata": {},
   "outputs": [
    {
     "data": {
      "text/plain": [
       "array([['Low'],\n",
       "       ['Premium'],\n",
       "       ['Premium'],\n",
       "       ['Premium'],\n",
       "       ['Medium'],\n",
       "       ['Premium'],\n",
       "       ['Low'],\n",
       "       ['Premium'],\n",
       "       ['Low'],\n",
       "       ['Premium']], dtype=object)"
      ]
     },
     "execution_count": 81,
     "metadata": {},
     "output_type": "execute_result"
    }
   ],
   "source": [
    "rating = df[[\"Rating\"]].values\n",
    "si = SimpleImputer(strategy=\"most_frequent\")\n",
    "rating_imputed = si.fit_transform(rating)\n",
    "rating_imputed[:10, :]"
   ]
  },
  {
   "cell_type": "markdown",
   "metadata": {},
   "source": [
    "With these strategy we can now proceed to numerical analysis, plots, etc.\n",
    "\n",
    "---\n",
    "\n",
    "#### Exercise \n",
    "Read the `heterogeneous_data.csv` file in the datasets folder, introduce missing values in two columns (one numerical and one categorical) and make all the transformations required using one column transformer.\n",
    "\n",
    "After that study the dataset with the techniques we have explored in the [Exploratory Data Analysis lecture]()"
   ]
  }
 ],
 "metadata": {
  "interpreter": {
   "hash": "258d6f942e9abff99338ee3ea05bb7abc0fd3eb4d49f988f84979247168b5568"
  },
  "kernelspec": {
   "display_name": "Python 3.8.0 ('lectures')",
   "language": "python",
   "name": "python3"
  },
  "language_info": {
   "codemirror_mode": {
    "name": "ipython",
    "version": 3
   },
   "file_extension": ".py",
   "mimetype": "text/x-python",
   "name": "python",
   "nbconvert_exporter": "python",
   "pygments_lexer": "ipython3",
   "version": "3.8.0"
  },
  "orig_nbformat": 4
 },
 "nbformat": 4,
 "nbformat_minor": 2
}
