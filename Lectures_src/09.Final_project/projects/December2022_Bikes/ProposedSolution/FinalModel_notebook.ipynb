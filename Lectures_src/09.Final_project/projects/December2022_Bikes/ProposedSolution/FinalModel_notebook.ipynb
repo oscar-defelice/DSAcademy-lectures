{
 "cells": [
  {
   "cell_type": "markdown",
   "metadata": {},
   "source": [
    "# Bike Rent Prediction Challenge - Proposed Solution\n",
    "\n",
    "This notebook is a proposed solution for the final project of the course, based on the Expresso Churn Prediction Challenge.\n",
    "\n",
    "## Dataset and project aim\n",
    "\n",
    "The dataset describes 2 years of bike rentals registered per hour. The objective of this project is to develop a predictive model that determines the number of hourly rented bikes for the final month of the year 2012.\n",
    "\n",
    "The model should be able to take 3 weeks of data and forecast the following week.\n",
    "\n",
    "<p align=\"center\">\n",
    "    <img src=\"https://storage.googleapis.com/kaggle-datasets-images/34295/55637/3ed905f1776dbdf1eeadb0c0007b948c/dataset-cover.jpg?t=2018-07-12-23-51-34\">\n",
    "</p>\n",
    "\n",
    "Below is the proposed solution for this project."
   ]
  },
  {
   "cell_type": "code",
   "execution_count": null,
   "metadata": {},
   "outputs": [],
   "source": []
  }
 ],
 "metadata": {
  "kernelspec": {
   "display_name": "Python 3.9.12 ('lectures')",
   "language": "python",
   "name": "python3"
  },
  "language_info": {
   "codemirror_mode": {
    "name": "ipython",
    "version": 3
   },
   "file_extension": ".py",
   "mimetype": "text/x-python",
   "name": "python",
   "nbconvert_exporter": "python",
   "pygments_lexer": "ipython3",
   "version": "3.9.12"
  },
  "orig_nbformat": 4,
  "vscode": {
   "interpreter": {
    "hash": "344cc1eeed8544eb3655402a89f8b06dbf0ee0c5373119cdc275e8f730c3c713"
   }
  }
 },
 "nbformat": 4,
 "nbformat_minor": 2
}
